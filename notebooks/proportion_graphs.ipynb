{
 "cells": [
  {
   "cell_type": "code",
   "execution_count": 4,
   "metadata": {},
   "outputs": [],
   "source": [
    "import plotly.graph_objects as go\n",
    "import pickle\n",
    "from transformers import AutoTokenizer\n",
    "import numpy as np\n",
    "import shap\n",
    "from src.plot_text import text, get_grouped_vals\n",
    "\n",
    "# from src.utils import format_fts_for_plotting, text_ft_index_ends, token_segments\n",
    "# from src.utils import legacy_get_dataset_info\n",
    "from datasets import load_dataset\n",
    "\n",
    "# import matplotlib.pyplot as plt\n",
    "from src.run_shap import load_shap_vals\n",
    "from tqdm import tqdm\n",
    "\n",
    "# import re\n",
    "# import seaborn as sns\n",
    "# from scipy import stats\n",
    "from src.utils import (\n",
    "    ConfigLoader,\n",
    "    text_ft_index_ends,\n",
    "    token_segments,\n",
    "    format_fts_for_plotting,\n",
    "    format_text_fts_too,\n",
    ")\n",
    "import pandas as pd\n",
    "import plotly.express as px"
   ]
  },
  {
   "cell_type": "code",
   "execution_count": 8,
   "metadata": {},
   "outputs": [
    {
     "name": "stdout",
     "output_type": "stream",
     "text": [
      "Updating with:\n",
      "{'config': 'vet_19c_stack', 'my_text_model': 'james-burton/vet_19c', 'ds_name': 'james-burton/vet_month_1c_ordinal', 'text_model_base': 'bert-base-uncased', 'model_type': 'stack', 'ord_ds_name': 'james-burton/vet_month_1c_ordinal', 'text_cols': ['breed', 'region', 'record']}\n",
      "\n",
      "\n",
      "{'categorical_cols': ['gender', 'neutered', 'species', 'insured'], 'numerical_cols_long': ['age_at_consult', 'Diseases of the ear or mastoid process', 'Mental, behavioural or neurodevelopmental disorders', 'Diseases of the blood or blood-forming organs', 'Diseases of the circulatory system', 'Dental', 'Developmental anomalies', 'Diseases of the digestive system', 'Endocrine, nutritional or metabolic diseases', 'Diseases of the Immune system', 'Certain infectious or parasitic diseases', 'Diseases of the skin', 'Diseases of the musculoskeletal system or connective tissue', 'Neoplasms', 'Diseases of the nervous system', 'Diseases of the visual system', 'Certain conditions originating in the perinatal period', 'Pregnancy, childbirth or the puerperium', 'Diseases of the respiratory system', 'Injury, poisoning or certain other consequences of external causes', 'Diseases of the genitourinary system'], 'numerical_cols': ['age_at_consult', 'Ear_or_Mastoid', 'Mental_Behavioral_or_Neuro', 'Blood_or_Blood-forming', 'Circulatory', 'Dental', 'Developmental', 'Digestive', 'Endocrine_Nutritional_or_Metabolic', 'Immune', 'Infectious_or_Parasitic', 'Skin', 'Musculoskeletal_or_Connective_Tissue', 'Neoplasms', 'Nervous', 'Visual', 'Perinatal', 'Pregnancy_Childbirth_or_Puerperium', 'Respiratory', 'Injury_Poisoning_or_External_Causes', 'Genitourinary'], 'text_cols': ['breed', 'region', 'record'], 'label_col': 'labels', 'label_names': ['alive', 'dead'], 'config': 'vet_19c_stack', 'my_text_model': 'james-burton/vet_19c', 'ds_name': 'james-burton/vet_month_1c_ordinal', 'text_model_base': 'bert-base-uncased', 'model_type': 'stack', 'ord_ds_name': 'james-burton/vet_month_1c_ordinal'}\n",
      "\n",
      "Updating with:\n",
      "{'config': 'vet_59c_stack', 'my_text_model': 'james-burton/vet_59c', 'ds_name': 'james-burton/vet_month_1c_ordinal', 'text_model_base': 'SAVSNET/PetBERT_pretrained', 'model_type': 'stack', 'ord_ds_name': 'james-burton/vet_month_1c_ordinal', 'text_cols': ['breed', 'region', 'record']}\n",
      "\n",
      "\n",
      "{'categorical_cols': ['gender', 'neutered', 'species', 'insured'], 'numerical_cols_long': ['age_at_consult', 'Diseases of the ear or mastoid process', 'Mental, behavioural or neurodevelopmental disorders', 'Diseases of the blood or blood-forming organs', 'Diseases of the circulatory system', 'Dental', 'Developmental anomalies', 'Diseases of the digestive system', 'Endocrine, nutritional or metabolic diseases', 'Diseases of the Immune system', 'Certain infectious or parasitic diseases', 'Diseases of the skin', 'Diseases of the musculoskeletal system or connective tissue', 'Neoplasms', 'Diseases of the nervous system', 'Diseases of the visual system', 'Certain conditions originating in the perinatal period', 'Pregnancy, childbirth or the puerperium', 'Diseases of the respiratory system', 'Injury, poisoning or certain other consequences of external causes', 'Diseases of the genitourinary system'], 'numerical_cols': ['age_at_consult', 'Ear_or_Mastoid', 'Mental_Behavioral_or_Neuro', 'Blood_or_Blood-forming', 'Circulatory', 'Dental', 'Developmental', 'Digestive', 'Endocrine_Nutritional_or_Metabolic', 'Immune', 'Infectious_or_Parasitic', 'Skin', 'Musculoskeletal_or_Connective_Tissue', 'Neoplasms', 'Nervous', 'Visual', 'Perinatal', 'Pregnancy_Childbirth_or_Puerperium', 'Respiratory', 'Injury_Poisoning_or_External_Causes', 'Genitourinary'], 'text_cols': ['breed', 'region', 'record'], 'label_col': 'labels', 'label_names': ['alive', 'dead'], 'config': 'vet_59c_stack', 'my_text_model': 'james-burton/vet_59c', 'ds_name': 'james-burton/vet_month_1c_ordinal', 'text_model_base': 'SAVSNET/PetBERT_pretrained', 'model_type': 'stack', 'ord_ds_name': 'james-burton/vet_month_1c_ordinal'}\n",
      "\n",
      "Updating with:\n",
      "{'config': 'vet_19c_ensemble_25', 'my_text_model': 'james-burton/vet_19c', 'ds_name': 'james-burton/vet_month_1c_ordinal', 'text_model_base': 'bert-base-uncased', 'model_type': 'ensemble_25', 'ord_ds_name': 'james-burton/vet_month_1c_ordinal', 'text_cols': ['breed', 'region', 'record']}\n",
      "\n",
      "\n",
      "{'categorical_cols': ['gender', 'neutered', 'species', 'insured'], 'numerical_cols_long': ['age_at_consult', 'Diseases of the ear or mastoid process', 'Mental, behavioural or neurodevelopmental disorders', 'Diseases of the blood or blood-forming organs', 'Diseases of the circulatory system', 'Dental', 'Developmental anomalies', 'Diseases of the digestive system', 'Endocrine, nutritional or metabolic diseases', 'Diseases of the Immune system', 'Certain infectious or parasitic diseases', 'Diseases of the skin', 'Diseases of the musculoskeletal system or connective tissue', 'Neoplasms', 'Diseases of the nervous system', 'Diseases of the visual system', 'Certain conditions originating in the perinatal period', 'Pregnancy, childbirth or the puerperium', 'Diseases of the respiratory system', 'Injury, poisoning or certain other consequences of external causes', 'Diseases of the genitourinary system'], 'numerical_cols': ['age_at_consult', 'Ear_or_Mastoid', 'Mental_Behavioral_or_Neuro', 'Blood_or_Blood-forming', 'Circulatory', 'Dental', 'Developmental', 'Digestive', 'Endocrine_Nutritional_or_Metabolic', 'Immune', 'Infectious_or_Parasitic', 'Skin', 'Musculoskeletal_or_Connective_Tissue', 'Neoplasms', 'Nervous', 'Visual', 'Perinatal', 'Pregnancy_Childbirth_or_Puerperium', 'Respiratory', 'Injury_Poisoning_or_External_Causes', 'Genitourinary'], 'text_cols': ['breed', 'region', 'record'], 'label_col': 'labels', 'label_names': ['alive', 'dead'], 'config': 'vet_19c_ensemble_25', 'my_text_model': 'james-burton/vet_19c', 'ds_name': 'james-burton/vet_month_1c_ordinal', 'text_model_base': 'bert-base-uncased', 'model_type': 'ensemble_25', 'ord_ds_name': 'james-burton/vet_month_1c_ordinal'}\n",
      "\n",
      "Updating with:\n",
      "{'config': 'vet_59c_ensemble_25', 'my_text_model': 'james-burton/vet_59c', 'ds_name': 'james-burton/vet_month_1c_ordinal', 'text_model_base': 'SAVSNET/PetBERT_pretrained', 'model_type': 'ensemble_25', 'ord_ds_name': 'james-burton/vet_month_1c_ordinal', 'text_cols': ['breed', 'region', 'record']}\n",
      "\n",
      "\n",
      "{'categorical_cols': ['gender', 'neutered', 'species', 'insured'], 'numerical_cols_long': ['age_at_consult', 'Diseases of the ear or mastoid process', 'Mental, behavioural or neurodevelopmental disorders', 'Diseases of the blood or blood-forming organs', 'Diseases of the circulatory system', 'Dental', 'Developmental anomalies', 'Diseases of the digestive system', 'Endocrine, nutritional or metabolic diseases', 'Diseases of the Immune system', 'Certain infectious or parasitic diseases', 'Diseases of the skin', 'Diseases of the musculoskeletal system or connective tissue', 'Neoplasms', 'Diseases of the nervous system', 'Diseases of the visual system', 'Certain conditions originating in the perinatal period', 'Pregnancy, childbirth or the puerperium', 'Diseases of the respiratory system', 'Injury, poisoning or certain other consequences of external causes', 'Diseases of the genitourinary system'], 'numerical_cols': ['age_at_consult', 'Ear_or_Mastoid', 'Mental_Behavioral_or_Neuro', 'Blood_or_Blood-forming', 'Circulatory', 'Dental', 'Developmental', 'Digestive', 'Endocrine_Nutritional_or_Metabolic', 'Immune', 'Infectious_or_Parasitic', 'Skin', 'Musculoskeletal_or_Connective_Tissue', 'Neoplasms', 'Nervous', 'Visual', 'Perinatal', 'Pregnancy_Childbirth_or_Puerperium', 'Respiratory', 'Injury_Poisoning_or_External_Causes', 'Genitourinary'], 'text_cols': ['breed', 'region', 'record'], 'label_col': 'labels', 'label_names': ['alive', 'dead'], 'config': 'vet_59c_ensemble_25', 'my_text_model': 'james-burton/vet_59c', 'ds_name': 'james-burton/vet_month_1c_ordinal', 'text_model_base': 'SAVSNET/PetBERT_pretrained', 'model_type': 'ensemble_25', 'ord_ds_name': 'james-burton/vet_month_1c_ordinal'}\n",
      "\n",
      "Updating with:\n",
      "{'config': 'vet_19c_ensemble_50', 'my_text_model': 'james-burton/vet_19c', 'ds_name': 'james-burton/vet_month_1c_ordinal', 'text_model_base': 'bert-base-uncased', 'model_type': 'ensemble_50', 'ord_ds_name': 'james-burton/vet_month_1c_ordinal', 'text_cols': ['breed', 'region', 'record']}\n",
      "\n",
      "\n",
      "{'categorical_cols': ['gender', 'neutered', 'species', 'insured'], 'numerical_cols_long': ['age_at_consult', 'Diseases of the ear or mastoid process', 'Mental, behavioural or neurodevelopmental disorders', 'Diseases of the blood or blood-forming organs', 'Diseases of the circulatory system', 'Dental', 'Developmental anomalies', 'Diseases of the digestive system', 'Endocrine, nutritional or metabolic diseases', 'Diseases of the Immune system', 'Certain infectious or parasitic diseases', 'Diseases of the skin', 'Diseases of the musculoskeletal system or connective tissue', 'Neoplasms', 'Diseases of the nervous system', 'Diseases of the visual system', 'Certain conditions originating in the perinatal period', 'Pregnancy, childbirth or the puerperium', 'Diseases of the respiratory system', 'Injury, poisoning or certain other consequences of external causes', 'Diseases of the genitourinary system'], 'numerical_cols': ['age_at_consult', 'Ear_or_Mastoid', 'Mental_Behavioral_or_Neuro', 'Blood_or_Blood-forming', 'Circulatory', 'Dental', 'Developmental', 'Digestive', 'Endocrine_Nutritional_or_Metabolic', 'Immune', 'Infectious_or_Parasitic', 'Skin', 'Musculoskeletal_or_Connective_Tissue', 'Neoplasms', 'Nervous', 'Visual', 'Perinatal', 'Pregnancy_Childbirth_or_Puerperium', 'Respiratory', 'Injury_Poisoning_or_External_Causes', 'Genitourinary'], 'text_cols': ['breed', 'region', 'record'], 'label_col': 'labels', 'label_names': ['alive', 'dead'], 'config': 'vet_19c_ensemble_50', 'my_text_model': 'james-burton/vet_19c', 'ds_name': 'james-burton/vet_month_1c_ordinal', 'text_model_base': 'bert-base-uncased', 'model_type': 'ensemble_50', 'ord_ds_name': 'james-burton/vet_month_1c_ordinal'}\n",
      "\n",
      "Updating with:\n",
      "{'config': 'vet_59c_ensemble_50', 'my_text_model': 'james-burton/vet_59c', 'ds_name': 'james-burton/vet_month_1c_ordinal', 'text_model_base': 'SAVSNET/PetBERT_pretrained', 'model_type': 'ensemble_50', 'ord_ds_name': 'james-burton/vet_month_1c_ordinal', 'text_cols': ['breed', 'region', 'record']}\n",
      "\n",
      "\n",
      "{'categorical_cols': ['gender', 'neutered', 'species', 'insured'], 'numerical_cols_long': ['age_at_consult', 'Diseases of the ear or mastoid process', 'Mental, behavioural or neurodevelopmental disorders', 'Diseases of the blood or blood-forming organs', 'Diseases of the circulatory system', 'Dental', 'Developmental anomalies', 'Diseases of the digestive system', 'Endocrine, nutritional or metabolic diseases', 'Diseases of the Immune system', 'Certain infectious or parasitic diseases', 'Diseases of the skin', 'Diseases of the musculoskeletal system or connective tissue', 'Neoplasms', 'Diseases of the nervous system', 'Diseases of the visual system', 'Certain conditions originating in the perinatal period', 'Pregnancy, childbirth or the puerperium', 'Diseases of the respiratory system', 'Injury, poisoning or certain other consequences of external causes', 'Diseases of the genitourinary system'], 'numerical_cols': ['age_at_consult', 'Ear_or_Mastoid', 'Mental_Behavioral_or_Neuro', 'Blood_or_Blood-forming', 'Circulatory', 'Dental', 'Developmental', 'Digestive', 'Endocrine_Nutritional_or_Metabolic', 'Immune', 'Infectious_or_Parasitic', 'Skin', 'Musculoskeletal_or_Connective_Tissue', 'Neoplasms', 'Nervous', 'Visual', 'Perinatal', 'Pregnancy_Childbirth_or_Puerperium', 'Respiratory', 'Injury_Poisoning_or_External_Causes', 'Genitourinary'], 'text_cols': ['breed', 'region', 'record'], 'label_col': 'labels', 'label_names': ['alive', 'dead'], 'config': 'vet_59c_ensemble_50', 'my_text_model': 'james-burton/vet_59c', 'ds_name': 'james-burton/vet_month_1c_ordinal', 'text_model_base': 'SAVSNET/PetBERT_pretrained', 'model_type': 'ensemble_50', 'ord_ds_name': 'james-burton/vet_month_1c_ordinal'}\n",
      "\n",
      "Updating with:\n",
      "{'config': 'vet_19c_ensemble_75', 'my_text_model': 'james-burton/vet_19c', 'ds_name': 'james-burton/vet_month_1c_ordinal', 'text_model_base': 'bert-base-uncased', 'model_type': 'ensemble_75', 'ord_ds_name': 'james-burton/vet_month_1c_ordinal', 'text_cols': ['breed', 'region', 'record']}\n",
      "\n",
      "\n",
      "{'categorical_cols': ['gender', 'neutered', 'species', 'insured'], 'numerical_cols_long': ['age_at_consult', 'Diseases of the ear or mastoid process', 'Mental, behavioural or neurodevelopmental disorders', 'Diseases of the blood or blood-forming organs', 'Diseases of the circulatory system', 'Dental', 'Developmental anomalies', 'Diseases of the digestive system', 'Endocrine, nutritional or metabolic diseases', 'Diseases of the Immune system', 'Certain infectious or parasitic diseases', 'Diseases of the skin', 'Diseases of the musculoskeletal system or connective tissue', 'Neoplasms', 'Diseases of the nervous system', 'Diseases of the visual system', 'Certain conditions originating in the perinatal period', 'Pregnancy, childbirth or the puerperium', 'Diseases of the respiratory system', 'Injury, poisoning or certain other consequences of external causes', 'Diseases of the genitourinary system'], 'numerical_cols': ['age_at_consult', 'Ear_or_Mastoid', 'Mental_Behavioral_or_Neuro', 'Blood_or_Blood-forming', 'Circulatory', 'Dental', 'Developmental', 'Digestive', 'Endocrine_Nutritional_or_Metabolic', 'Immune', 'Infectious_or_Parasitic', 'Skin', 'Musculoskeletal_or_Connective_Tissue', 'Neoplasms', 'Nervous', 'Visual', 'Perinatal', 'Pregnancy_Childbirth_or_Puerperium', 'Respiratory', 'Injury_Poisoning_or_External_Causes', 'Genitourinary'], 'text_cols': ['breed', 'region', 'record'], 'label_col': 'labels', 'label_names': ['alive', 'dead'], 'config': 'vet_19c_ensemble_75', 'my_text_model': 'james-burton/vet_19c', 'ds_name': 'james-burton/vet_month_1c_ordinal', 'text_model_base': 'bert-base-uncased', 'model_type': 'ensemble_75', 'ord_ds_name': 'james-burton/vet_month_1c_ordinal'}\n",
      "\n",
      "Updating with:\n",
      "{'config': 'vet_59c_ensemble_75', 'my_text_model': 'james-burton/vet_59c', 'ds_name': 'james-burton/vet_month_1c_ordinal', 'text_model_base': 'SAVSNET/PetBERT_pretrained', 'model_type': 'ensemble_75', 'ord_ds_name': 'james-burton/vet_month_1c_ordinal', 'text_cols': ['breed', 'region', 'record']}\n",
      "\n",
      "\n",
      "{'categorical_cols': ['gender', 'neutered', 'species', 'insured'], 'numerical_cols_long': ['age_at_consult', 'Diseases of the ear or mastoid process', 'Mental, behavioural or neurodevelopmental disorders', 'Diseases of the blood or blood-forming organs', 'Diseases of the circulatory system', 'Dental', 'Developmental anomalies', 'Diseases of the digestive system', 'Endocrine, nutritional or metabolic diseases', 'Diseases of the Immune system', 'Certain infectious or parasitic diseases', 'Diseases of the skin', 'Diseases of the musculoskeletal system or connective tissue', 'Neoplasms', 'Diseases of the nervous system', 'Diseases of the visual system', 'Certain conditions originating in the perinatal period', 'Pregnancy, childbirth or the puerperium', 'Diseases of the respiratory system', 'Injury, poisoning or certain other consequences of external causes', 'Diseases of the genitourinary system'], 'numerical_cols': ['age_at_consult', 'Ear_or_Mastoid', 'Mental_Behavioral_or_Neuro', 'Blood_or_Blood-forming', 'Circulatory', 'Dental', 'Developmental', 'Digestive', 'Endocrine_Nutritional_or_Metabolic', 'Immune', 'Infectious_or_Parasitic', 'Skin', 'Musculoskeletal_or_Connective_Tissue', 'Neoplasms', 'Nervous', 'Visual', 'Perinatal', 'Pregnancy_Childbirth_or_Puerperium', 'Respiratory', 'Injury_Poisoning_or_External_Causes', 'Genitourinary'], 'text_cols': ['breed', 'region', 'record'], 'label_col': 'labels', 'label_names': ['alive', 'dead'], 'config': 'vet_59c_ensemble_75', 'my_text_model': 'james-burton/vet_59c', 'ds_name': 'james-burton/vet_month_1c_ordinal', 'text_model_base': 'SAVSNET/PetBERT_pretrained', 'model_type': 'ensemble_75', 'ord_ds_name': 'james-burton/vet_month_1c_ordinal'}\n",
      "\n",
      "Updating with:\n",
      "{'config': 'vet_10c_all_text', 'my_text_model': 'james-burton/vet_10c', 'ds_name': 'james-burton/vet_month_1c_all_text', 'text_model_base': 'bert-base-uncased', 'model_type': 'all_text', 'ord_ds_name': 'james-burton/vet_month_1c_ordinal', 'text_cols': ['breed', 'region', 'record']}\n",
      "\n",
      "\n",
      "{'categorical_cols': ['gender', 'neutered', 'species', 'insured'], 'numerical_cols_long': ['age_at_consult', 'Diseases of the ear or mastoid process', 'Mental, behavioural or neurodevelopmental disorders', 'Diseases of the blood or blood-forming organs', 'Diseases of the circulatory system', 'Dental', 'Developmental anomalies', 'Diseases of the digestive system', 'Endocrine, nutritional or metabolic diseases', 'Diseases of the Immune system', 'Certain infectious or parasitic diseases', 'Diseases of the skin', 'Diseases of the musculoskeletal system or connective tissue', 'Neoplasms', 'Diseases of the nervous system', 'Diseases of the visual system', 'Certain conditions originating in the perinatal period', 'Pregnancy, childbirth or the puerperium', 'Diseases of the respiratory system', 'Injury, poisoning or certain other consequences of external causes', 'Diseases of the genitourinary system'], 'numerical_cols': ['age_at_consult', 'Ear_or_Mastoid', 'Mental_Behavioral_or_Neuro', 'Blood_or_Blood-forming', 'Circulatory', 'Dental', 'Developmental', 'Digestive', 'Endocrine_Nutritional_or_Metabolic', 'Immune', 'Infectious_or_Parasitic', 'Skin', 'Musculoskeletal_or_Connective_Tissue', 'Neoplasms', 'Nervous', 'Visual', 'Perinatal', 'Pregnancy_Childbirth_or_Puerperium', 'Respiratory', 'Injury_Poisoning_or_External_Causes', 'Genitourinary'], 'text_cols': ['breed', 'region', 'record'], 'label_col': 'labels', 'label_names': ['alive', 'dead'], 'config': 'vet_10c_all_text', 'my_text_model': 'james-burton/vet_10c', 'ds_name': 'james-burton/vet_month_1c_all_text', 'text_model_base': 'bert-base-uncased', 'model_type': 'all_text', 'ord_ds_name': 'james-burton/vet_month_1c_ordinal'}\n",
      "\n",
      "Updating with:\n",
      "{'config': 'vet_50c_all_text', 'my_text_model': 'james-burton/vet_50c', 'ds_name': 'james-burton/vet_month_1c_all_text', 'text_model_base': 'SAVSNET/PetBERT_pretrained', 'model_type': 'all_text', 'ord_ds_name': 'james-burton/vet_month_1c_ordinal', 'text_cols': ['breed', 'region', 'record']}\n",
      "\n",
      "\n",
      "{'categorical_cols': ['gender', 'neutered', 'species', 'insured'], 'numerical_cols_long': ['age_at_consult', 'Diseases of the ear or mastoid process', 'Mental, behavioural or neurodevelopmental disorders', 'Diseases of the blood or blood-forming organs', 'Diseases of the circulatory system', 'Dental', 'Developmental anomalies', 'Diseases of the digestive system', 'Endocrine, nutritional or metabolic diseases', 'Diseases of the Immune system', 'Certain infectious or parasitic diseases', 'Diseases of the skin', 'Diseases of the musculoskeletal system or connective tissue', 'Neoplasms', 'Diseases of the nervous system', 'Diseases of the visual system', 'Certain conditions originating in the perinatal period', 'Pregnancy, childbirth or the puerperium', 'Diseases of the respiratory system', 'Injury, poisoning or certain other consequences of external causes', 'Diseases of the genitourinary system'], 'numerical_cols': ['age_at_consult', 'Ear_or_Mastoid', 'Mental_Behavioral_or_Neuro', 'Blood_or_Blood-forming', 'Circulatory', 'Dental', 'Developmental', 'Digestive', 'Endocrine_Nutritional_or_Metabolic', 'Immune', 'Infectious_or_Parasitic', 'Skin', 'Musculoskeletal_or_Connective_Tissue', 'Neoplasms', 'Nervous', 'Visual', 'Perinatal', 'Pregnancy_Childbirth_or_Puerperium', 'Respiratory', 'Injury_Poisoning_or_External_Causes', 'Genitourinary'], 'text_cols': ['breed', 'region', 'record'], 'label_col': 'labels', 'label_names': ['alive', 'dead'], 'config': 'vet_50c_all_text', 'my_text_model': 'james-burton/vet_50c', 'ds_name': 'james-burton/vet_month_1c_all_text', 'text_model_base': 'SAVSNET/PetBERT_pretrained', 'model_type': 'all_text', 'ord_ds_name': 'james-burton/vet_month_1c_ordinal'}\n",
      "\n"
     ]
    },
    {
     "name": "stderr",
     "output_type": "stream",
     "text": [
      "/tmp/ipykernel_3005380/1286250869.py:95: FutureWarning:\n",
      "\n",
      "The behavior of DataFrame concatenation with empty or all-NA entries is deprecated. In a future version, this will no longer exclude empty or all-NA columns when determining the result dtypes. To retain the old behavior, exclude the relevant entries before the concat operation.\n",
      "\n"
     ]
    },
    {
     "data": {
      "application/vnd.plotly.v1+json": {
       "config": {
        "plotlyServerURL": "https://plot.ly"
       },
       "data": [
        {
         "legendgroup": "record",
         "marker": {
          "color": "#636EFA"
         },
         "name": "record",
         "orientation": "h",
         "showlegend": true,
         "type": "bar",
         "x": [
          0.9327322720640688
         ],
         "y": [
          "J: BERT All Text"
         ]
        },
        {
         "legendgroup": "record",
         "marker": {
          "color": "#636EFA"
         },
         "name": "record",
         "orientation": "h",
         "showlegend": false,
         "type": "bar",
         "x": [
          0.8598308242177722
         ],
         "y": [
          "I: PetBERT All Text"
         ]
        },
        {
         "legendgroup": "record",
         "marker": {
          "color": "#636EFA"
         },
         "name": "record",
         "orientation": "h",
         "showlegend": false,
         "type": "bar",
         "x": [
          0.7057896898485179
         ],
         "y": [
          "H: PetBERT WE w=.75"
         ]
        },
        {
         "legendgroup": "record",
         "marker": {
          "color": "#636EFA"
         },
         "name": "record",
         "orientation": "h",
         "showlegend": false,
         "type": "bar",
         "x": [
          0.5822086656072823
         ],
         "y": [
          "G: BERT WE w=.75"
         ]
        },
        {
         "legendgroup": "record",
         "marker": {
          "color": "#636EFA"
         },
         "name": "record",
         "orientation": "h",
         "showlegend": false,
         "type": "bar",
         "x": [
          0.46873323610337453
         ],
         "y": [
          "F: PetBERT WE w=.50"
         ]
        },
        {
         "legendgroup": "record",
         "marker": {
          "color": "#636EFA"
         },
         "name": "record",
         "orientation": "h",
         "showlegend": false,
         "type": "bar",
         "x": [
          0.3466507606478737
         ],
         "y": [
          "E: BERT WE w=.50"
         ]
        },
        {
         "legendgroup": "record",
         "marker": {
          "color": "#636EFA"
         },
         "name": "record",
         "orientation": "h",
         "showlegend": false,
         "type": "bar",
         "x": [
          0.2204692793903443
         ],
         "y": [
          "D: PetBERT WE w=.25"
         ]
        },
        {
         "legendgroup": "record",
         "marker": {
          "color": "#636EFA"
         },
         "name": "record",
         "orientation": "h",
         "showlegend": false,
         "type": "bar",
         "x": [
          0.14966877237388568
         ],
         "y": [
          "C: BERT WE w=.25"
         ]
        },
        {
         "legendgroup": "record",
         "marker": {
          "color": "#636EFA"
         },
         "name": "record",
         "orientation": "h",
         "showlegend": false,
         "type": "bar",
         "x": [
          0.519816117022566
         ],
         "y": [
          "B: PetBERT Stack"
         ]
        },
        {
         "legendgroup": "record",
         "marker": {
          "color": "#636EFA"
         },
         "name": "record",
         "orientation": "h",
         "showlegend": false,
         "type": "bar",
         "x": [
          0.374417947545278
         ],
         "y": [
          "A: BERT Stack"
         ]
        },
        {
         "legendgroup": "age_at_consult",
         "marker": {
          "color": "#EF553B"
         },
         "name": "age_at_consult",
         "orientation": "h",
         "showlegend": true,
         "type": "bar",
         "x": [
          0.00017235931553327908
         ],
         "y": [
          "J: BERT All Text"
         ]
        },
        {
         "legendgroup": "age_at_consult",
         "marker": {
          "color": "#EF553B"
         },
         "name": "age_at_consult",
         "orientation": "h",
         "showlegend": false,
         "type": "bar",
         "x": [
          0.08179310102483499
         ],
         "y": [
          "I: PetBERT All Text"
         ]
        },
        {
         "legendgroup": "age_at_consult",
         "marker": {
          "color": "#EF553B"
         },
         "name": "age_at_consult",
         "orientation": "h",
         "showlegend": false,
         "type": "bar",
         "x": [
          0.08872622523016885
         ],
         "y": [
          "H: PetBERT WE w=.75"
         ]
        },
        {
         "legendgroup": "age_at_consult",
         "marker": {
          "color": "#EF553B"
         },
         "name": "age_at_consult",
         "orientation": "h",
         "showlegend": false,
         "type": "bar",
         "x": [
          0.11740399071546745
         ],
         "y": [
          "G: BERT WE w=.75"
         ]
        },
        {
         "legendgroup": "age_at_consult",
         "marker": {
          "color": "#EF553B"
         },
         "name": "age_at_consult",
         "orientation": "h",
         "showlegend": false,
         "type": "bar",
         "x": [
          0.18946134538040796
         ],
         "y": [
          "F: PetBERT WE w=.50"
         ]
        },
        {
         "legendgroup": "age_at_consult",
         "marker": {
          "color": "#EF553B"
         },
         "name": "age_at_consult",
         "orientation": "h",
         "showlegend": false,
         "type": "bar",
         "x": [
          0.2186243634733948
         ],
         "y": [
          "E: BERT WE w=.50"
         ]
        },
        {
         "legendgroup": "age_at_consult",
         "marker": {
          "color": "#EF553B"
         },
         "name": "age_at_consult",
         "orientation": "h",
         "showlegend": false,
         "type": "bar",
         "x": [
          0.2741719463440607
         ],
         "y": [
          "D: PetBERT WE w=.25"
         ]
        },
        {
         "legendgroup": "age_at_consult",
         "marker": {
          "color": "#EF553B"
         },
         "name": "age_at_consult",
         "orientation": "h",
         "showlegend": false,
         "type": "bar",
         "x": [
          0.28673847254020446
         ],
         "y": [
          "C: BERT WE w=.25"
         ]
        },
        {
         "legendgroup": "age_at_consult",
         "marker": {
          "color": "#EF553B"
         },
         "name": "age_at_consult",
         "orientation": "h",
         "showlegend": false,
         "type": "bar",
         "x": [
          0.1538490610097555
         ],
         "y": [
          "B: PetBERT Stack"
         ]
        },
        {
         "legendgroup": "age_at_consult",
         "marker": {
          "color": "#EF553B"
         },
         "name": "age_at_consult",
         "orientation": "h",
         "showlegend": false,
         "type": "bar",
         "x": [
          0.22245842458250262
         ],
         "y": [
          "A: BERT Stack"
         ]
        },
        {
         "legendgroup": "region",
         "marker": {
          "color": "#00CC96"
         },
         "name": "region",
         "orientation": "h",
         "showlegend": true,
         "type": "bar",
         "x": [
          0.03543763802739034
         ],
         "y": [
          "J: BERT All Text"
         ]
        },
        {
         "legendgroup": "region",
         "marker": {
          "color": "#00CC96"
         },
         "name": "region",
         "orientation": "h",
         "showlegend": false,
         "type": "bar",
         "x": [
          0.01693212550242799
         ],
         "y": [
          "I: PetBERT All Text"
         ]
        },
        {
         "legendgroup": "region",
         "marker": {
          "color": "#00CC96"
         },
         "name": "region",
         "orientation": "h",
         "showlegend": false,
         "type": "bar",
         "x": [
          0.03804082704712143
         ],
         "y": [
          "H: PetBERT WE w=.75"
         ]
        },
        {
         "legendgroup": "region",
         "marker": {
          "color": "#00CC96"
         },
         "name": "region",
         "orientation": "h",
         "showlegend": false,
         "type": "bar",
         "x": [
          0.07902023863932266
         ],
         "y": [
          "G: BERT WE w=.75"
         ]
        },
        {
         "legendgroup": "region",
         "marker": {
          "color": "#00CC96"
         },
         "name": "region",
         "orientation": "h",
         "showlegend": false,
         "type": "bar",
         "x": [
          0.025102621905756795
         ],
         "y": [
          "F: PetBERT WE w=.50"
         ]
        },
        {
         "legendgroup": "region",
         "marker": {
          "color": "#00CC96"
         },
         "name": "region",
         "orientation": "h",
         "showlegend": false,
         "type": "bar",
         "x": [
          0.0467021933542763
         ],
         "y": [
          "E: BERT WE w=.50"
         ]
        },
        {
         "legendgroup": "region",
         "marker": {
          "color": "#00CC96"
         },
         "name": "region",
         "orientation": "h",
         "showlegend": false,
         "type": "bar",
         "x": [
          0.011741866025626282
         ],
         "y": [
          "D: PetBERT WE w=.25"
         ]
        },
        {
         "legendgroup": "region",
         "marker": {
          "color": "#00CC96"
         },
         "name": "region",
         "orientation": "h",
         "showlegend": false,
         "type": "bar",
         "x": [
          0.019295594219194304
         ],
         "y": [
          "C: BERT WE w=.25"
         ]
        },
        {
         "legendgroup": "region",
         "marker": {
          "color": "#00CC96"
         },
         "name": "region",
         "orientation": "h",
         "showlegend": false,
         "type": "bar",
         "x": [
          0.057925276851855695
         ],
         "y": [
          "B: PetBERT Stack"
         ]
        },
        {
         "legendgroup": "region",
         "marker": {
          "color": "#00CC96"
         },
         "name": "region",
         "orientation": "h",
         "showlegend": false,
         "type": "bar",
         "x": [
          0.06222949818604178
         ],
         "y": [
          "A: BERT Stack"
         ]
        },
        {
         "legendgroup": "breed",
         "marker": {
          "color": "#AB63FA"
         },
         "name": "breed",
         "orientation": "h",
         "showlegend": true,
         "type": "bar",
         "x": [
          0.027743236671840938
         ],
         "y": [
          "J: BERT All Text"
         ]
        },
        {
         "legendgroup": "breed",
         "marker": {
          "color": "#AB63FA"
         },
         "name": "breed",
         "orientation": "h",
         "showlegend": false,
         "type": "bar",
         "x": [
          0.01609745254764
         ],
         "y": [
          "I: PetBERT All Text"
         ]
        },
        {
         "legendgroup": "breed",
         "marker": {
          "color": "#AB63FA"
         },
         "name": "breed",
         "orientation": "h",
         "showlegend": false,
         "type": "bar",
         "x": [
          0.04272574609890673
         ],
         "y": [
          "H: PetBERT WE w=.75"
         ]
        },
        {
         "legendgroup": "breed",
         "marker": {
          "color": "#AB63FA"
         },
         "name": "breed",
         "orientation": "h",
         "showlegend": false,
         "type": "bar",
         "x": [
          0.05460511227755144
         ],
         "y": [
          "G: BERT WE w=.75"
         ]
        },
        {
         "legendgroup": "breed",
         "marker": {
          "color": "#AB63FA"
         },
         "name": "breed",
         "orientation": "h",
         "showlegend": false,
         "type": "bar",
         "x": [
          0.028222561904701283
         ],
         "y": [
          "F: PetBERT WE w=.50"
         ]
        },
        {
         "legendgroup": "breed",
         "marker": {
          "color": "#AB63FA"
         },
         "name": "breed",
         "orientation": "h",
         "showlegend": false,
         "type": "bar",
         "x": [
          0.032755806063759905
         ],
         "y": [
          "E: BERT WE w=.50"
         ]
        },
        {
         "legendgroup": "breed",
         "marker": {
          "color": "#AB63FA"
         },
         "name": "breed",
         "orientation": "h",
         "showlegend": false,
         "type": "bar",
         "x": [
          0.01297674114254898
         ],
         "y": [
          "D: PetBERT WE w=.25"
         ]
        },
        {
         "legendgroup": "breed",
         "marker": {
          "color": "#AB63FA"
         },
         "name": "breed",
         "orientation": "h",
         "showlegend": false,
         "type": "bar",
         "x": [
          0.014491658169147102
         ],
         "y": [
          "C: BERT WE w=.25"
         ]
        },
        {
         "legendgroup": "breed",
         "marker": {
          "color": "#AB63FA"
         },
         "name": "breed",
         "orientation": "h",
         "showlegend": false,
         "type": "bar",
         "x": [
          0.07398474777537942
         ],
         "y": [
          "B: PetBERT Stack"
         ]
        },
        {
         "legendgroup": "breed",
         "marker": {
          "color": "#AB63FA"
         },
         "name": "breed",
         "orientation": "h",
         "showlegend": false,
         "type": "bar",
         "x": [
          0.042896274729914745
         ],
         "y": [
          "A: BERT Stack"
         ]
        },
        {
         "legendgroup": "Dental",
         "marker": {
          "color": "#FFA15A"
         },
         "name": "Dental",
         "orientation": "h",
         "showlegend": true,
         "type": "bar",
         "x": [
          0.00015384694403219724
         ],
         "y": [
          "J: BERT All Text"
         ]
        },
        {
         "legendgroup": "Dental",
         "marker": {
          "color": "#FFA15A"
         },
         "name": "Dental",
         "orientation": "h",
         "showlegend": false,
         "type": "bar",
         "x": [
          0.0005561948386881736
         ],
         "y": [
          "I: PetBERT All Text"
         ]
        },
        {
         "legendgroup": "Dental",
         "marker": {
          "color": "#FFA15A"
         },
         "name": "Dental",
         "orientation": "h",
         "showlegend": false,
         "type": "bar",
         "x": [
          0.009060425268921259
         ],
         "y": [
          "H: PetBERT WE w=.75"
         ]
        },
        {
         "legendgroup": "Dental",
         "marker": {
          "color": "#FFA15A"
         },
         "name": "Dental",
         "orientation": "h",
         "showlegend": false,
         "type": "bar",
         "x": [
          0.014260766131975359
         ],
         "y": [
          "G: BERT WE w=.75"
         ]
        },
        {
         "legendgroup": "Dental",
         "marker": {
          "color": "#FFA15A"
         },
         "name": "Dental",
         "orientation": "h",
         "showlegend": false,
         "type": "bar",
         "x": [
          0.02844118843466691
         ],
         "y": [
          "F: PetBERT WE w=.50"
         ]
        },
        {
         "legendgroup": "Dental",
         "marker": {
          "color": "#FFA15A"
         },
         "name": "Dental",
         "orientation": "h",
         "showlegend": false,
         "type": "bar",
         "x": [
          0.04341807981903196
         ],
         "y": [
          "E: BERT WE w=.50"
         ]
        },
        {
         "legendgroup": "Dental",
         "marker": {
          "color": "#FFA15A"
         },
         "name": "Dental",
         "orientation": "h",
         "showlegend": false,
         "type": "bar",
         "x": [
          0.06435507703868652
         ],
         "y": [
          "D: PetBERT WE w=.25"
         ]
        },
        {
         "legendgroup": "Dental",
         "marker": {
          "color": "#FFA15A"
         },
         "name": "Dental",
         "orientation": "h",
         "showlegend": false,
         "type": "bar",
         "x": [
          0.07267977885893281
         ],
         "y": [
          "C: BERT WE w=.25"
         ]
        },
        {
         "legendgroup": "Dental",
         "marker": {
          "color": "#FFA15A"
         },
         "name": "Dental",
         "orientation": "h",
         "showlegend": false,
         "type": "bar",
         "x": [
          0.018298356752729023
         ],
         "y": [
          "B: PetBERT Stack"
         ]
        },
        {
         "legendgroup": "Dental",
         "marker": {
          "color": "#FFA15A"
         },
         "name": "Dental",
         "orientation": "h",
         "showlegend": false,
         "type": "bar",
         "x": [
          0.032026941723257596
         ],
         "y": [
          "A: BERT Stack"
         ]
        },
        {
         "legendgroup": "gender",
         "marker": {
          "color": "#19D3F3"
         },
         "name": "gender",
         "orientation": "h",
         "showlegend": true,
         "type": "bar",
         "x": [
          0.00015952525906821777
         ],
         "y": [
          "J: BERT All Text"
         ]
        },
        {
         "legendgroup": "gender",
         "marker": {
          "color": "#19D3F3"
         },
         "name": "gender",
         "orientation": "h",
         "showlegend": false,
         "type": "bar",
         "x": [
          0.0097161639710379
         ],
         "y": [
          "I: PetBERT All Text"
         ]
        },
        {
         "legendgroup": "gender",
         "marker": {
          "color": "#19D3F3"
         },
         "name": "gender",
         "orientation": "h",
         "showlegend": false,
         "type": "bar",
         "x": [
          0.014305656860874264
         ],
         "y": [
          "H: PetBERT WE w=.75"
         ]
        },
        {
         "legendgroup": "gender",
         "marker": {
          "color": "#19D3F3"
         },
         "name": "gender",
         "orientation": "h",
         "showlegend": false,
         "type": "bar",
         "x": [
          0.018604882828416207
         ],
         "y": [
          "G: BERT WE w=.75"
         ]
        },
        {
         "legendgroup": "gender",
         "marker": {
          "color": "#19D3F3"
         },
         "name": "gender",
         "orientation": "h",
         "showlegend": false,
         "type": "bar",
         "x": [
          0.030781609043893602
         ],
         "y": [
          "F: PetBERT WE w=.50"
         ]
        },
        {
         "legendgroup": "gender",
         "marker": {
          "color": "#19D3F3"
         },
         "name": "gender",
         "orientation": "h",
         "showlegend": false,
         "type": "bar",
         "x": [
          0.03649247375904608
         ],
         "y": [
          "E: BERT WE w=.50"
         ]
        },
        {
         "legendgroup": "gender",
         "marker": {
          "color": "#19D3F3"
         },
         "name": "gender",
         "orientation": "h",
         "showlegend": false,
         "type": "bar",
         "x": [
          0.04650924491057688
         ],
         "y": [
          "D: PetBERT WE w=.25"
         ]
        },
        {
         "legendgroup": "gender",
         "marker": {
          "color": "#19D3F3"
         },
         "name": "gender",
         "orientation": "h",
         "showlegend": false,
         "type": "bar",
         "x": [
          0.049075566756981964
         ],
         "y": [
          "C: BERT WE w=.25"
         ]
        },
        {
         "legendgroup": "gender",
         "marker": {
          "color": "#19D3F3"
         },
         "name": "gender",
         "orientation": "h",
         "showlegend": false,
         "type": "bar",
         "x": [
          0.017735167052759522
         ],
         "y": [
          "B: PetBERT Stack"
         ]
        },
        {
         "legendgroup": "gender",
         "marker": {
          "color": "#19D3F3"
         },
         "name": "gender",
         "orientation": "h",
         "showlegend": false,
         "type": "bar",
         "x": [
          0.026788266115261014
         ],
         "y": [
          "A: BERT Stack"
         ]
        },
        {
         "legendgroup": "other",
         "marker": {
          "color": "#B6E880"
         },
         "name": "other",
         "orientation": "h",
         "showlegend": true,
         "type": "bar",
         "x": [
          0.00015374532226304356
         ],
         "y": [
          "J: BERT All Text"
         ]
        },
        {
         "legendgroup": "other",
         "marker": {
          "color": "#B6E880"
         },
         "name": "other",
         "orientation": "h",
         "showlegend": false,
         "type": "bar",
         "x": [
          0.00020217090553664068
         ],
         "y": [
          "J: BERT All Text"
         ]
        },
        {
         "legendgroup": "other",
         "marker": {
          "color": "#B6E880"
         },
         "name": "other",
         "orientation": "h",
         "showlegend": false,
         "type": "bar",
         "x": [
          0.00019153641133107547
         ],
         "y": [
          "J: BERT All Text"
         ]
        },
        {
         "legendgroup": "other",
         "marker": {
          "color": "#B6E880"
         },
         "name": "other",
         "orientation": "h",
         "showlegend": false,
         "type": "bar",
         "x": [
          0.00016886869562306118
         ],
         "y": [
          "J: BERT All Text"
         ]
        },
        {
         "legendgroup": "other",
         "marker": {
          "color": "#B6E880"
         },
         "name": "other",
         "orientation": "h",
         "showlegend": false,
         "type": "bar",
         "x": [
          0.0001610766434745971
         ],
         "y": [
          "J: BERT All Text"
         ]
        },
        {
         "legendgroup": "other",
         "marker": {
          "color": "#B6E880"
         },
         "name": "other",
         "orientation": "h",
         "showlegend": false,
         "type": "bar",
         "x": [
          0.00014691705589996883
         ],
         "y": [
          "J: BERT All Text"
         ]
        },
        {
         "legendgroup": "other",
         "marker": {
          "color": "#B6E880"
         },
         "name": "other",
         "orientation": "h",
         "showlegend": false,
         "type": "bar",
         "x": [
          0.0001500754385584737
         ],
         "y": [
          "J: BERT All Text"
         ]
        },
        {
         "legendgroup": "other",
         "marker": {
          "color": "#B6E880"
         },
         "name": "other",
         "orientation": "h",
         "showlegend": false,
         "type": "bar",
         "x": [
          0.00016405642745933094
         ],
         "y": [
          "J: BERT All Text"
         ]
        },
        {
         "legendgroup": "other",
         "marker": {
          "color": "#B6E880"
         },
         "name": "other",
         "orientation": "h",
         "showlegend": false,
         "type": "bar",
         "x": [
          0.00014962498029870758
         ],
         "y": [
          "J: BERT All Text"
         ]
        },
        {
         "legendgroup": "other",
         "marker": {
          "color": "#B6E880"
         },
         "name": "other",
         "orientation": "h",
         "showlegend": false,
         "type": "bar",
         "x": [
          0.00014962758973927453
         ],
         "y": [
          "J: BERT All Text"
         ]
        },
        {
         "legendgroup": "other",
         "marker": {
          "color": "#B6E880"
         },
         "name": "other",
         "orientation": "h",
         "showlegend": false,
         "type": "bar",
         "x": [
          0.0001649886160888585
         ],
         "y": [
          "J: BERT All Text"
         ]
        },
        {
         "legendgroup": "other",
         "marker": {
          "color": "#B6E880"
         },
         "name": "other",
         "orientation": "h",
         "showlegend": false,
         "type": "bar",
         "x": [
          0.0001649886160888585
         ],
         "y": [
          "J: BERT All Text"
         ]
        },
        {
         "legendgroup": "other",
         "marker": {
          "color": "#B6E880"
         },
         "name": "other",
         "orientation": "h",
         "showlegend": false,
         "type": "bar",
         "x": [
          0.0001649886160888585
         ],
         "y": [
          "J: BERT All Text"
         ]
        },
        {
         "legendgroup": "other",
         "marker": {
          "color": "#B6E880"
         },
         "name": "other",
         "orientation": "h",
         "showlegend": false,
         "type": "bar",
         "x": [
          0.00016511819254825004
         ],
         "y": [
          "J: BERT All Text"
         ]
        },
        {
         "legendgroup": "other",
         "marker": {
          "color": "#B6E880"
         },
         "name": "other",
         "orientation": "h",
         "showlegend": false,
         "type": "bar",
         "x": [
          0.00018241223174213
         ],
         "y": [
          "J: BERT All Text"
         ]
        },
        {
         "legendgroup": "other",
         "marker": {
          "color": "#B6E880"
         },
         "name": "other",
         "orientation": "h",
         "showlegend": false,
         "type": "bar",
         "x": [
          0.0001619912380333676
         ],
         "y": [
          "J: BERT All Text"
         ]
        },
        {
         "legendgroup": "other",
         "marker": {
          "color": "#B6E880"
         },
         "name": "other",
         "orientation": "h",
         "showlegend": false,
         "type": "bar",
         "x": [
          0.00016465880400190627
         ],
         "y": [
          "J: BERT All Text"
         ]
        },
        {
         "legendgroup": "other",
         "marker": {
          "color": "#B6E880"
         },
         "name": "other",
         "orientation": "h",
         "showlegend": false,
         "type": "bar",
         "x": [
          0.0001565091800360122
         ],
         "y": [
          "J: BERT All Text"
         ]
        },
        {
         "legendgroup": "other",
         "marker": {
          "color": "#B6E880"
         },
         "name": "other",
         "orientation": "h",
         "showlegend": false,
         "type": "bar",
         "x": [
          0.0001565091800360122
         ],
         "y": [
          "J: BERT All Text"
         ]
        },
        {
         "legendgroup": "other",
         "marker": {
          "color": "#B6E880"
         },
         "name": "other",
         "orientation": "h",
         "showlegend": false,
         "type": "bar",
         "x": [
          0.00016582230906094224
         ],
         "y": [
          "J: BERT All Text"
         ]
        },
        {
         "legendgroup": "other",
         "marker": {
          "color": "#B6E880"
         },
         "name": "other",
         "orientation": "h",
         "showlegend": false,
         "type": "bar",
         "x": [
          0.00016511819254825004
         ],
         "y": [
          "J: BERT All Text"
         ]
        },
        {
         "legendgroup": "other",
         "marker": {
          "color": "#B6E880"
         },
         "name": "other",
         "orientation": "h",
         "showlegend": false,
         "type": "bar",
         "x": [
          0.00015031707160856586
         ],
         "y": [
          "J: BERT All Text"
         ]
        },
        {
         "legendgroup": "other",
         "marker": {
          "color": "#B6E880"
         },
         "name": "other",
         "orientation": "h",
         "showlegend": false,
         "type": "bar",
         "x": [
          0.0009714222843857876
         ],
         "y": [
          "I: PetBERT All Text"
         ]
        },
        {
         "legendgroup": "other",
         "marker": {
          "color": "#B6E880"
         },
         "name": "other",
         "orientation": "h",
         "showlegend": false,
         "type": "bar",
         "x": [
          0.0008007055430053567
         ],
         "y": [
          "I: PetBERT All Text"
         ]
        },
        {
         "legendgroup": "other",
         "marker": {
          "color": "#B6E880"
         },
         "name": "other",
         "orientation": "h",
         "showlegend": false,
         "type": "bar",
         "x": [
          0.0011969717176570829
         ],
         "y": [
          "I: PetBERT All Text"
         ]
        },
        {
         "legendgroup": "other",
         "marker": {
          "color": "#B6E880"
         },
         "name": "other",
         "orientation": "h",
         "showlegend": false,
         "type": "bar",
         "x": [
          0.0007033652201675258
         ],
         "y": [
          "I: PetBERT All Text"
         ]
        },
        {
         "legendgroup": "other",
         "marker": {
          "color": "#B6E880"
         },
         "name": "other",
         "orientation": "h",
         "showlegend": false,
         "type": "bar",
         "x": [
          0.000624264236797122
         ],
         "y": [
          "I: PetBERT All Text"
         ]
        },
        {
         "legendgroup": "other",
         "marker": {
          "color": "#B6E880"
         },
         "name": "other",
         "orientation": "h",
         "showlegend": false,
         "type": "bar",
         "x": [
          0.0005541750102222898
         ],
         "y": [
          "I: PetBERT All Text"
         ]
        },
        {
         "legendgroup": "other",
         "marker": {
          "color": "#B6E880"
         },
         "name": "other",
         "orientation": "h",
         "showlegend": false,
         "type": "bar",
         "x": [
          0.0005574962598927937
         ],
         "y": [
          "I: PetBERT All Text"
         ]
        },
        {
         "legendgroup": "other",
         "marker": {
          "color": "#B6E880"
         },
         "name": "other",
         "orientation": "h",
         "showlegend": false,
         "type": "bar",
         "x": [
          0.0006894372284094331
         ],
         "y": [
          "I: PetBERT All Text"
         ]
        },
        {
         "legendgroup": "other",
         "marker": {
          "color": "#B6E880"
         },
         "name": "other",
         "orientation": "h",
         "showlegend": false,
         "type": "bar",
         "x": [
          0.0005559688190272151
         ],
         "y": [
          "I: PetBERT All Text"
         ]
        },
        {
         "legendgroup": "other",
         "marker": {
          "color": "#B6E880"
         },
         "name": "other",
         "orientation": "h",
         "showlegend": false,
         "type": "bar",
         "x": [
          0.0005661948209319161
         ],
         "y": [
          "I: PetBERT All Text"
         ]
        },
        {
         "legendgroup": "other",
         "marker": {
          "color": "#B6E880"
         },
         "name": "other",
         "orientation": "h",
         "showlegend": false,
         "type": "bar",
         "x": [
          0.0006918349876045051
         ],
         "y": [
          "I: PetBERT All Text"
         ]
        },
        {
         "legendgroup": "other",
         "marker": {
          "color": "#B6E880"
         },
         "name": "other",
         "orientation": "h",
         "showlegend": false,
         "type": "bar",
         "x": [
          0.0006918349876045051
         ],
         "y": [
          "I: PetBERT All Text"
         ]
        },
        {
         "legendgroup": "other",
         "marker": {
          "color": "#B6E880"
         },
         "name": "other",
         "orientation": "h",
         "showlegend": false,
         "type": "bar",
         "x": [
          0.0006918349876045051
         ],
         "y": [
          "I: PetBERT All Text"
         ]
        },
        {
         "legendgroup": "other",
         "marker": {
          "color": "#B6E880"
         },
         "name": "other",
         "orientation": "h",
         "showlegend": false,
         "type": "bar",
         "x": [
          0.0006916280608744744
         ],
         "y": [
          "I: PetBERT All Text"
         ]
        },
        {
         "legendgroup": "other",
         "marker": {
          "color": "#B6E880"
         },
         "name": "other",
         "orientation": "h",
         "showlegend": false,
         "type": "bar",
         "x": [
          0.0007784363872796026
         ],
         "y": [
          "I: PetBERT All Text"
         ]
        },
        {
         "legendgroup": "other",
         "marker": {
          "color": "#B6E880"
         },
         "name": "other",
         "orientation": "h",
         "showlegend": false,
         "type": "bar",
         "x": [
          0.000615440920657133
         ],
         "y": [
          "I: PetBERT All Text"
         ]
        },
        {
         "legendgroup": "other",
         "marker": {
          "color": "#B6E880"
         },
         "name": "other",
         "orientation": "h",
         "showlegend": false,
         "type": "bar",
         "x": [
          0.0006128950295290799
         ],
         "y": [
          "I: PetBERT All Text"
         ]
        },
        {
         "legendgroup": "other",
         "marker": {
          "color": "#B6E880"
         },
         "name": "other",
         "orientation": "h",
         "showlegend": false,
         "type": "bar",
         "x": [
          0.0005978865117498519
         ],
         "y": [
          "I: PetBERT All Text"
         ]
        },
        {
         "legendgroup": "other",
         "marker": {
          "color": "#B6E880"
         },
         "name": "other",
         "orientation": "h",
         "showlegend": false,
         "type": "bar",
         "x": [
          0.0005978865117498519
         ],
         "y": [
          "I: PetBERT All Text"
         ]
        },
        {
         "legendgroup": "other",
         "marker": {
          "color": "#B6E880"
         },
         "name": "other",
         "orientation": "h",
         "showlegend": false,
         "type": "bar",
         "x": [
          0.0006146865267189125
         ],
         "y": [
          "I: PetBERT All Text"
         ]
        },
        {
         "legendgroup": "other",
         "marker": {
          "color": "#B6E880"
         },
         "name": "other",
         "orientation": "h",
         "showlegend": false,
         "type": "bar",
         "x": [
          0.0006917392908389902
         ],
         "y": [
          "I: PetBERT All Text"
         ]
        },
        {
         "legendgroup": "other",
         "marker": {
          "color": "#B6E880"
         },
         "name": "other",
         "orientation": "h",
         "showlegend": false,
         "type": "bar",
         "x": [
          0.0005780325548908302
         ],
         "y": [
          "I: PetBERT All Text"
         ]
        },
        {
         "legendgroup": "other",
         "marker": {
          "color": "#B6E880"
         },
         "name": "other",
         "orientation": "h",
         "showlegend": false,
         "type": "bar",
         "x": [
          0.0018534497883043316
         ],
         "y": [
          "H: PetBERT WE w=.75"
         ]
        },
        {
         "legendgroup": "other",
         "marker": {
          "color": "#B6E880"
         },
         "name": "other",
         "orientation": "h",
         "showlegend": false,
         "type": "bar",
         "x": [
          0.006775105341021033
         ],
         "y": [
          "H: PetBERT WE w=.75"
         ]
        },
        {
         "legendgroup": "other",
         "marker": {
          "color": "#B6E880"
         },
         "name": "other",
         "orientation": "h",
         "showlegend": false,
         "type": "bar",
         "x": [
          0.006573918222754499
         ],
         "y": [
          "H: PetBERT WE w=.75"
         ]
        },
        {
         "legendgroup": "other",
         "marker": {
          "color": "#B6E880"
         },
         "name": "other",
         "orientation": "h",
         "showlegend": false,
         "type": "bar",
         "x": [
          0.0041137676048862
         ],
         "y": [
          "H: PetBERT WE w=.75"
         ]
        },
        {
         "legendgroup": "other",
         "marker": {
          "color": "#B6E880"
         },
         "name": "other",
         "orientation": "h",
         "showlegend": false,
         "type": "bar",
         "x": [
          0.003214823014206347
         ],
         "y": [
          "H: PetBERT WE w=.75"
         ]
        },
        {
         "legendgroup": "other",
         "marker": {
          "color": "#B6E880"
         },
         "name": "other",
         "orientation": "h",
         "showlegend": false,
         "type": "bar",
         "x": [
          0.002684449927560272
         ],
         "y": [
          "H: PetBERT WE w=.75"
         ]
        },
        {
         "legendgroup": "other",
         "marker": {
          "color": "#B6E880"
         },
         "name": "other",
         "orientation": "h",
         "showlegend": false,
         "type": "bar",
         "x": [
          0.006922113936653042
         ],
         "y": [
          "H: PetBERT WE w=.75"
         ]
        },
        {
         "legendgroup": "other",
         "marker": {
          "color": "#B6E880"
         },
         "name": "other",
         "orientation": "h",
         "showlegend": false,
         "type": "bar",
         "x": [
          0.004270782868997314
         ],
         "y": [
          "H: PetBERT WE w=.75"
         ]
        },
        {
         "legendgroup": "other",
         "marker": {
          "color": "#B6E880"
         },
         "name": "other",
         "orientation": "h",
         "showlegend": false,
         "type": "bar",
         "x": [
          0.007833091963426412
         ],
         "y": [
          "H: PetBERT WE w=.75"
         ]
        },
        {
         "legendgroup": "other",
         "marker": {
          "color": "#B6E880"
         },
         "name": "other",
         "orientation": "h",
         "showlegend": false,
         "type": "bar",
         "x": [
          0.007437360423959055
         ],
         "y": [
          "H: PetBERT WE w=.75"
         ]
        },
        {
         "legendgroup": "other",
         "marker": {
          "color": "#B6E880"
         },
         "name": "other",
         "orientation": "h",
         "showlegend": false,
         "type": "bar",
         "x": [
          0.004155743934766531
         ],
         "y": [
          "H: PetBERT WE w=.75"
         ]
        },
        {
         "legendgroup": "other",
         "marker": {
          "color": "#B6E880"
         },
         "name": "other",
         "orientation": "h",
         "showlegend": false,
         "type": "bar",
         "x": [
          0.004155743934766531
         ],
         "y": [
          "H: PetBERT WE w=.75"
         ]
        },
        {
         "legendgroup": "other",
         "marker": {
          "color": "#B6E880"
         },
         "name": "other",
         "orientation": "h",
         "showlegend": false,
         "type": "bar",
         "x": [
          0.004155743934766531
         ],
         "y": [
          "H: PetBERT WE w=.75"
         ]
        },
        {
         "legendgroup": "other",
         "marker": {
          "color": "#B6E880"
         },
         "name": "other",
         "orientation": "h",
         "showlegend": false,
         "type": "bar",
         "x": [
          0.004393996314275878
         ],
         "y": [
          "H: PetBERT WE w=.75"
         ]
        },
        {
         "legendgroup": "other",
         "marker": {
          "color": "#B6E880"
         },
         "name": "other",
         "orientation": "h",
         "showlegend": false,
         "type": "bar",
         "x": [
          0.007258845025644649
         ],
         "y": [
          "H: PetBERT WE w=.75"
         ]
        },
        {
         "legendgroup": "other",
         "marker": {
          "color": "#B6E880"
         },
         "name": "other",
         "orientation": "h",
         "showlegend": false,
         "type": "bar",
         "x": [
          0.003347539678498749
         ],
         "y": [
          "H: PetBERT WE w=.75"
         ]
        },
        {
         "legendgroup": "other",
         "marker": {
          "color": "#B6E880"
         },
         "name": "other",
         "orientation": "h",
         "showlegend": false,
         "type": "bar",
         "x": [
          0.002897835745298478
         ],
         "y": [
          "H: PetBERT WE w=.75"
         ]
        },
        {
         "legendgroup": "other",
         "marker": {
          "color": "#B6E880"
         },
         "name": "other",
         "orientation": "h",
         "showlegend": false,
         "type": "bar",
         "x": [
          0.00219500106069494
         ],
         "y": [
          "H: PetBERT WE w=.75"
         ]
        },
        {
         "legendgroup": "other",
         "marker": {
          "color": "#B6E880"
         },
         "name": "other",
         "orientation": "h",
         "showlegend": false,
         "type": "bar",
         "x": [
          0.00219500106069494
         ],
         "y": [
          "H: PetBERT WE w=.75"
         ]
        },
        {
         "legendgroup": "other",
         "marker": {
          "color": "#B6E880"
         },
         "name": "other",
         "orientation": "h",
         "showlegend": false,
         "type": "bar",
         "x": [
          0.0029106144971666613
         ],
         "y": [
          "H: PetBERT WE w=.75"
         ]
        },
        {
         "legendgroup": "other",
         "marker": {
          "color": "#B6E880"
         },
         "name": "other",
         "orientation": "h",
         "showlegend": false,
         "type": "bar",
         "x": [
          0.004435832437972825
         ],
         "y": [
          "H: PetBERT WE w=.75"
         ]
        },
        {
         "legendgroup": "other",
         "marker": {
          "color": "#B6E880"
         },
         "name": "other",
         "orientation": "h",
         "showlegend": false,
         "type": "bar",
         "x": [
          0.007570668929174393
         ],
         "y": [
          "H: PetBERT WE w=.75"
         ]
        },
        {
         "legendgroup": "other",
         "marker": {
          "color": "#B6E880"
         },
         "name": "other",
         "orientation": "h",
         "showlegend": false,
         "type": "bar",
         "x": [
          0.002332640263286122
         ],
         "y": [
          "G: BERT WE w=.75"
         ]
        },
        {
         "legendgroup": "other",
         "marker": {
          "color": "#B6E880"
         },
         "name": "other",
         "orientation": "h",
         "showlegend": false,
         "type": "bar",
         "x": [
          0.01069147561084499
         ],
         "y": [
          "G: BERT WE w=.75"
         ]
        },
        {
         "legendgroup": "other",
         "marker": {
          "color": "#B6E880"
         },
         "name": "other",
         "orientation": "h",
         "showlegend": false,
         "type": "bar",
         "x": [
          0.01031381998955745
         ],
         "y": [
          "G: BERT WE w=.75"
         ]
        },
        {
         "legendgroup": "other",
         "marker": {
          "color": "#B6E880"
         },
         "name": "other",
         "orientation": "h",
         "showlegend": false,
         "type": "bar",
         "x": [
          0.004895406361373659
         ],
         "y": [
          "G: BERT WE w=.75"
         ]
        },
        {
         "legendgroup": "other",
         "marker": {
          "color": "#B6E880"
         },
         "name": "other",
         "orientation": "h",
         "showlegend": false,
         "type": "bar",
         "x": [
          0.004531899810304925
         ],
         "y": [
          "G: BERT WE w=.75"
         ]
        },
        {
         "legendgroup": "other",
         "marker": {
          "color": "#B6E880"
         },
         "name": "other",
         "orientation": "h",
         "showlegend": false,
         "type": "bar",
         "x": [
          0.0026830990563544866
         ],
         "y": [
          "G: BERT WE w=.75"
         ]
        },
        {
         "legendgroup": "other",
         "marker": {
          "color": "#B6E880"
         },
         "name": "other",
         "orientation": "h",
         "showlegend": false,
         "type": "bar",
         "x": [
          0.007895124681329612
         ],
         "y": [
          "G: BERT WE w=.75"
         ]
        },
        {
         "legendgroup": "other",
         "marker": {
          "color": "#B6E880"
         },
         "name": "other",
         "orientation": "h",
         "showlegend": false,
         "type": "bar",
         "x": [
          0.00569995779271384
         ],
         "y": [
          "G: BERT WE w=.75"
         ]
        },
        {
         "legendgroup": "other",
         "marker": {
          "color": "#B6E880"
         },
         "name": "other",
         "orientation": "h",
         "showlegend": false,
         "type": "bar",
         "x": [
          0.011663312967942369
         ],
         "y": [
          "G: BERT WE w=.75"
         ]
        },
        {
         "legendgroup": "other",
         "marker": {
          "color": "#B6E880"
         },
         "name": "other",
         "orientation": "h",
         "showlegend": false,
         "type": "bar",
         "x": [
          0.008948411601263383
         ],
         "y": [
          "G: BERT WE w=.75"
         ]
        },
        {
         "legendgroup": "other",
         "marker": {
          "color": "#B6E880"
         },
         "name": "other",
         "orientation": "h",
         "showlegend": false,
         "type": "bar",
         "x": [
          0.004946987110943979
         ],
         "y": [
          "G: BERT WE w=.75"
         ]
        },
        {
         "legendgroup": "other",
         "marker": {
          "color": "#B6E880"
         },
         "name": "other",
         "orientation": "h",
         "showlegend": false,
         "type": "bar",
         "x": [
          0.004946987110943979
         ],
         "y": [
          "G: BERT WE w=.75"
         ]
        },
        {
         "legendgroup": "other",
         "marker": {
          "color": "#B6E880"
         },
         "name": "other",
         "orientation": "h",
         "showlegend": false,
         "type": "bar",
         "x": [
          0.004946987110943979
         ],
         "y": [
          "G: BERT WE w=.75"
         ]
        },
        {
         "legendgroup": "other",
         "marker": {
          "color": "#B6E880"
         },
         "name": "other",
         "orientation": "h",
         "showlegend": false,
         "type": "bar",
         "x": [
          0.0057976613453819634
         ],
         "y": [
          "G: BERT WE w=.75"
         ]
        },
        {
         "legendgroup": "other",
         "marker": {
          "color": "#B6E880"
         },
         "name": "other",
         "orientation": "h",
         "showlegend": false,
         "type": "bar",
         "x": [
          0.011250873469585426
         ],
         "y": [
          "G: BERT WE w=.75"
         ]
        },
        {
         "legendgroup": "other",
         "marker": {
          "color": "#B6E880"
         },
         "name": "other",
         "orientation": "h",
         "showlegend": false,
         "type": "bar",
         "x": [
          0.0046751193086238246
         ],
         "y": [
          "G: BERT WE w=.75"
         ]
        },
        {
         "legendgroup": "other",
         "marker": {
          "color": "#B6E880"
         },
         "name": "other",
         "orientation": "h",
         "showlegend": false,
         "type": "bar",
         "x": [
          0.0039565809124943565
         ],
         "y": [
          "G: BERT WE w=.75"
         ]
        },
        {
         "legendgroup": "other",
         "marker": {
          "color": "#B6E880"
         },
         "name": "other",
         "orientation": "h",
         "showlegend": false,
         "type": "bar",
         "x": [
          0.0023854583880098686
         ],
         "y": [
          "G: BERT WE w=.75"
         ]
        },
        {
         "legendgroup": "other",
         "marker": {
          "color": "#B6E880"
         },
         "name": "other",
         "orientation": "h",
         "showlegend": false,
         "type": "bar",
         "x": [
          0.0023854583880098686
         ],
         "y": [
          "G: BERT WE w=.75"
         ]
        },
        {
         "legendgroup": "other",
         "marker": {
          "color": "#B6E880"
         },
         "name": "other",
         "orientation": "h",
         "showlegend": false,
         "type": "bar",
         "x": [
          0.0039565809124943565
         ],
         "y": [
          "G: BERT WE w=.75"
         ]
        },
        {
         "legendgroup": "other",
         "marker": {
          "color": "#B6E880"
         },
         "name": "other",
         "orientation": "h",
         "showlegend": false,
         "type": "bar",
         "x": [
          0.005825001523679599
         ],
         "y": [
          "G: BERT WE w=.75"
         ]
        },
        {
         "legendgroup": "other",
         "marker": {
          "color": "#B6E880"
         },
         "name": "other",
         "orientation": "h",
         "showlegend": false,
         "type": "bar",
         "x": [
          0.009167500083902498
         ],
         "y": [
          "G: BERT WE w=.75"
         ]
        },
        {
         "legendgroup": "other",
         "marker": {
          "color": "#B6E880"
         },
         "name": "other",
         "orientation": "h",
         "showlegend": false,
         "type": "bar",
         "x": [
          0.0038246568781185953
         ],
         "y": [
          "F: PetBERT WE w=.50"
         ]
        },
        {
         "legendgroup": "other",
         "marker": {
          "color": "#B6E880"
         },
         "name": "other",
         "orientation": "h",
         "showlegend": false,
         "type": "bar",
         "x": [
          0.020101575545563036
         ],
         "y": [
          "F: PetBERT WE w=.50"
         ]
        },
        {
         "legendgroup": "other",
         "marker": {
          "color": "#B6E880"
         },
         "name": "other",
         "orientation": "h",
         "showlegend": false,
         "type": "bar",
         "x": [
          0.01898936132152751
         ],
         "y": [
          "F: PetBERT WE w=.50"
         ]
        },
        {
         "legendgroup": "other",
         "marker": {
          "color": "#B6E880"
         },
         "name": "other",
         "orientation": "h",
         "showlegend": false,
         "type": "bar",
         "x": [
          0.007383907667492724
         ],
         "y": [
          "F: PetBERT WE w=.50"
         ]
        },
        {
         "legendgroup": "other",
         "marker": {
          "color": "#B6E880"
         },
         "name": "other",
         "orientation": "h",
         "showlegend": false,
         "type": "bar",
         "x": [
          0.00824216853395844
         ],
         "y": [
          "F: PetBERT WE w=.50"
         ]
        },
        {
         "legendgroup": "other",
         "marker": {
          "color": "#B6E880"
         },
         "name": "other",
         "orientation": "h",
         "showlegend": false,
         "type": "bar",
         "x": [
          0.0037977332722829537
         ],
         "y": [
          "F: PetBERT WE w=.50"
         ]
        },
        {
         "legendgroup": "other",
         "marker": {
          "color": "#B6E880"
         },
         "name": "other",
         "orientation": "h",
         "showlegend": false,
         "type": "bar",
         "x": [
          0.011557830021892314
         ],
         "y": [
          "F: PetBERT WE w=.50"
         ]
        },
        {
         "legendgroup": "other",
         "marker": {
          "color": "#B6E880"
         },
         "name": "other",
         "orientation": "h",
         "showlegend": false,
         "type": "bar",
         "x": [
          0.009689900101836537
         ],
         "y": [
          "F: PetBERT WE w=.50"
         ]
        },
        {
         "legendgroup": "other",
         "marker": {
          "color": "#B6E880"
         },
         "name": "other",
         "orientation": "h",
         "showlegend": false,
         "type": "bar",
         "x": [
          0.016000926195317653
         ],
         "y": [
          "F: PetBERT WE w=.50"
         ]
        },
        {
         "legendgroup": "other",
         "marker": {
          "color": "#B6E880"
         },
         "name": "other",
         "orientation": "h",
         "showlegend": false,
         "type": "bar",
         "x": [
          0.015398975751277489
         ],
         "y": [
          "F: PetBERT WE w=.50"
         ]
        },
        {
         "legendgroup": "other",
         "marker": {
          "color": "#B6E880"
         },
         "name": "other",
         "orientation": "h",
         "showlegend": false,
         "type": "bar",
         "x": [
          0.007887773384197837
         ],
         "y": [
          "F: PetBERT WE w=.50"
         ]
        },
        {
         "legendgroup": "other",
         "marker": {
          "color": "#B6E880"
         },
         "name": "other",
         "orientation": "h",
         "showlegend": false,
         "type": "bar",
         "x": [
          0.007887773384197837
         ],
         "y": [
          "F: PetBERT WE w=.50"
         ]
        },
        {
         "legendgroup": "other",
         "marker": {
          "color": "#B6E880"
         },
         "name": "other",
         "orientation": "h",
         "showlegend": false,
         "type": "bar",
         "x": [
          0.007887773384197837
         ],
         "y": [
          "F: PetBERT WE w=.50"
         ]
        },
        {
         "legendgroup": "other",
         "marker": {
          "color": "#B6E880"
         },
         "name": "other",
         "orientation": "h",
         "showlegend": false,
         "type": "bar",
         "x": [
          0.010219143179271993
         ],
         "y": [
          "F: PetBERT WE w=.50"
         ]
        },
        {
         "legendgroup": "other",
         "marker": {
          "color": "#B6E880"
         },
         "name": "other",
         "orientation": "h",
         "showlegend": false,
         "type": "bar",
         "x": [
          0.02372723312145691
         ],
         "y": [
          "F: PetBERT WE w=.50"
         ]
        },
        {
         "legendgroup": "other",
         "marker": {
          "color": "#B6E880"
         },
         "name": "other",
         "orientation": "h",
         "showlegend": false,
         "type": "bar",
         "x": [
          0.009811269552334904
         ],
         "y": [
          "F: PetBERT WE w=.50"
         ]
        },
        {
         "legendgroup": "other",
         "marker": {
          "color": "#B6E880"
         },
         "name": "other",
         "orientation": "h",
         "showlegend": false,
         "type": "bar",
         "x": [
          0.007045201442277072
         ],
         "y": [
          "F: PetBERT WE w=.50"
         ]
        },
        {
         "legendgroup": "other",
         "marker": {
          "color": "#B6E880"
         },
         "name": "other",
         "orientation": "h",
         "showlegend": false,
         "type": "bar",
         "x": [
          0.0029218581753476325
         ],
         "y": [
          "F: PetBERT WE w=.50"
         ]
        },
        {
         "legendgroup": "other",
         "marker": {
          "color": "#B6E880"
         },
         "name": "other",
         "orientation": "h",
         "showlegend": false,
         "type": "bar",
         "x": [
          0.0029218581753476325
         ],
         "y": [
          "F: PetBERT WE w=.50"
         ]
        },
        {
         "legendgroup": "other",
         "marker": {
          "color": "#B6E880"
         },
         "name": "other",
         "orientation": "h",
         "showlegend": false,
         "type": "bar",
         "x": [
          0.007147022476857348
         ],
         "y": [
          "F: PetBERT WE w=.50"
         ]
        },
        {
         "legendgroup": "other",
         "marker": {
          "color": "#B6E880"
         },
         "name": "other",
         "orientation": "h",
         "showlegend": false,
         "type": "bar",
         "x": [
          0.010320454277161294
         ],
         "y": [
          "F: PetBERT WE w=.50"
         ]
        },
        {
         "legendgroup": "other",
         "marker": {
          "color": "#B6E880"
         },
         "name": "other",
         "orientation": "h",
         "showlegend": false,
         "type": "bar",
         "x": [
          0.01649304138528335
         ],
         "y": [
          "F: PetBERT WE w=.50"
         ]
        },
        {
         "legendgroup": "other",
         "marker": {
          "color": "#B6E880"
         },
         "name": "other",
         "orientation": "h",
         "showlegend": false,
         "type": "bar",
         "x": [
          0.00446063130444188
         ],
         "y": [
          "E: BERT WE w=.50"
         ]
        },
        {
         "legendgroup": "other",
         "marker": {
          "color": "#B6E880"
         },
         "name": "other",
         "orientation": "h",
         "showlegend": false,
         "type": "bar",
         "x": [
          0.024339964318422867
         ],
         "y": [
          "E: BERT WE w=.50"
         ]
        },
        {
         "legendgroup": "other",
         "marker": {
          "color": "#B6E880"
         },
         "name": "other",
         "orientation": "h",
         "showlegend": false,
         "type": "bar",
         "x": [
          0.02662211021560981
         ],
         "y": [
          "E: BERT WE w=.50"
         ]
        },
        {
         "legendgroup": "other",
         "marker": {
          "color": "#B6E880"
         },
         "name": "other",
         "orientation": "h",
         "showlegend": false,
         "type": "bar",
         "x": [
          0.008534535905471496
         ],
         "y": [
          "E: BERT WE w=.50"
         ]
        },
        {
         "legendgroup": "other",
         "marker": {
          "color": "#B6E880"
         },
         "name": "other",
         "orientation": "h",
         "showlegend": false,
         "type": "bar",
         "x": [
          0.011115286172070504
         ],
         "y": [
          "E: BERT WE w=.50"
         ]
        },
        {
         "legendgroup": "other",
         "marker": {
          "color": "#B6E880"
         },
         "name": "other",
         "orientation": "h",
         "showlegend": false,
         "type": "bar",
         "x": [
          0.004279409437497047
         ],
         "y": [
          "E: BERT WE w=.50"
         ]
        },
        {
         "legendgroup": "other",
         "marker": {
          "color": "#B6E880"
         },
         "name": "other",
         "orientation": "h",
         "showlegend": false,
         "type": "bar",
         "x": [
          0.011697893000143143
         ],
         "y": [
          "E: BERT WE w=.50"
         ]
        },
        {
         "legendgroup": "other",
         "marker": {
          "color": "#B6E880"
         },
         "name": "other",
         "orientation": "h",
         "showlegend": false,
         "type": "bar",
         "x": [
          0.011707619386927874
         ],
         "y": [
          "E: BERT WE w=.50"
         ]
        },
        {
         "legendgroup": "other",
         "marker": {
          "color": "#B6E880"
         },
         "name": "other",
         "orientation": "h",
         "showlegend": false,
         "type": "bar",
         "x": [
          0.010963559004181682
         ],
         "y": [
          "E: BERT WE w=.50"
         ]
        },
        {
         "legendgroup": "other",
         "marker": {
          "color": "#B6E880"
         },
         "name": "other",
         "orientation": "h",
         "showlegend": false,
         "type": "bar",
         "x": [
          0.018998545244853095
         ],
         "y": [
          "E: BERT WE w=.50"
         ]
        },
        {
         "legendgroup": "other",
         "marker": {
          "color": "#B6E880"
         },
         "name": "other",
         "orientation": "h",
         "showlegend": false,
         "type": "bar",
         "x": [
          0.009779129450946571
         ],
         "y": [
          "E: BERT WE w=.50"
         ]
        },
        {
         "legendgroup": "other",
         "marker": {
          "color": "#B6E880"
         },
         "name": "other",
         "orientation": "h",
         "showlegend": false,
         "type": "bar",
         "x": [
          0.009774984153138508
         ],
         "y": [
          "E: BERT WE w=.50"
         ]
        },
        {
         "legendgroup": "other",
         "marker": {
          "color": "#B6E880"
         },
         "name": "other",
         "orientation": "h",
         "showlegend": false,
         "type": "bar",
         "x": [
          0.009779129450946571
         ],
         "y": [
          "E: BERT WE w=.50"
         ]
        },
        {
         "legendgroup": "other",
         "marker": {
          "color": "#B6E880"
         },
         "name": "other",
         "orientation": "h",
         "showlegend": false,
         "type": "bar",
         "x": [
          0.013100671485055195
         ],
         "y": [
          "E: BERT WE w=.50"
         ]
        },
        {
         "legendgroup": "other",
         "marker": {
          "color": "#B6E880"
         },
         "name": "other",
         "orientation": "h",
         "showlegend": false,
         "type": "bar",
         "x": [
          0.030625450975489663
         ],
         "y": [
          "E: BERT WE w=.50"
         ]
        },
        {
         "legendgroup": "other",
         "marker": {
          "color": "#B6E880"
         },
         "name": "other",
         "orientation": "h",
         "showlegend": false,
         "type": "bar",
         "x": [
          0.0140954026494056
         ],
         "y": [
          "E: BERT WE w=.50"
         ]
        },
        {
         "legendgroup": "other",
         "marker": {
          "color": "#B6E880"
         },
         "name": "other",
         "orientation": "h",
         "showlegend": false,
         "type": "bar",
         "x": [
          0.007914605618658394
         ],
         "y": [
          "E: BERT WE w=.50"
         ]
        },
        {
         "legendgroup": "other",
         "marker": {
          "color": "#B6E880"
         },
         "name": "other",
         "orientation": "h",
         "showlegend": false,
         "type": "bar",
         "x": [
          0.00226590936078228
         ],
         "y": [
          "E: BERT WE w=.50"
         ]
        },
        {
         "legendgroup": "other",
         "marker": {
          "color": "#B6E880"
         },
         "name": "other",
         "orientation": "h",
         "showlegend": false,
         "type": "bar",
         "x": [
          0.00226590936078228
         ],
         "y": [
          "E: BERT WE w=.50"
         ]
        },
        {
         "legendgroup": "other",
         "marker": {
          "color": "#B6E880"
         },
         "name": "other",
         "orientation": "h",
         "showlegend": false,
         "type": "bar",
         "x": [
          0.008671077304291376
         ],
         "y": [
          "E: BERT WE w=.50"
         ]
        },
        {
         "legendgroup": "other",
         "marker": {
          "color": "#B6E880"
         },
         "name": "other",
         "orientation": "h",
         "showlegend": false,
         "type": "bar",
         "x": [
          0.013149507035758849
         ],
         "y": [
          "E: BERT WE w=.50"
         ]
        },
        {
         "legendgroup": "other",
         "marker": {
          "color": "#B6E880"
         },
         "name": "other",
         "orientation": "h",
         "showlegend": false,
         "type": "bar",
         "x": [
          0.021214992047742572
         ],
         "y": [
          "E: BERT WE w=.50"
         ]
        },
        {
         "legendgroup": "other",
         "marker": {
          "color": "#B6E880"
         },
         "name": "other",
         "orientation": "h",
         "showlegend": false,
         "type": "bar",
         "x": [
          0.005734172885787068
         ],
         "y": [
          "D: PetBERT WE w=.25"
         ]
        },
        {
         "legendgroup": "other",
         "marker": {
          "color": "#B6E880"
         },
         "name": "other",
         "orientation": "h",
         "showlegend": false,
         "type": "bar",
         "x": [
          0.027845731756232863
         ],
         "y": [
          "D: PetBERT WE w=.25"
         ]
        },
        {
         "legendgroup": "other",
         "marker": {
          "color": "#B6E880"
         },
         "name": "other",
         "orientation": "h",
         "showlegend": false,
         "type": "bar",
         "x": [
          0.03774843750149348
         ],
         "y": [
          "D: PetBERT WE w=.25"
         ]
        },
        {
         "legendgroup": "other",
         "marker": {
          "color": "#B6E880"
         },
         "name": "other",
         "orientation": "h",
         "showlegend": false,
         "type": "bar",
         "x": [
          0.010046423048529138
         ],
         "y": [
          "D: PetBERT WE w=.25"
         ]
        },
        {
         "legendgroup": "other",
         "marker": {
          "color": "#B6E880"
         },
         "name": "other",
         "orientation": "h",
         "showlegend": false,
         "type": "bar",
         "x": [
          0.014927462125424782
         ],
         "y": [
          "D: PetBERT WE w=.25"
         ]
        },
        {
         "legendgroup": "other",
         "marker": {
          "color": "#B6E880"
         },
         "name": "other",
         "orientation": "h",
         "showlegend": false,
         "type": "bar",
         "x": [
          0.005412529162421475
         ],
         "y": [
          "D: PetBERT WE w=.25"
         ]
        },
        {
         "legendgroup": "other",
         "marker": {
          "color": "#B6E880"
         },
         "name": "other",
         "orientation": "h",
         "showlegend": false,
         "type": "bar",
         "x": [
          0.011094591519773152
         ],
         "y": [
          "D: PetBERT WE w=.25"
         ]
        },
        {
         "legendgroup": "other",
         "marker": {
          "color": "#B6E880"
         },
         "name": "other",
         "orientation": "h",
         "showlegend": false,
         "type": "bar",
         "x": [
          0.015325979839280161
         ],
         "y": [
          "D: PetBERT WE w=.25"
         ]
        },
        {
         "legendgroup": "other",
         "marker": {
          "color": "#B6E880"
         },
         "name": "other",
         "orientation": "h",
         "showlegend": false,
         "type": "bar",
         "x": [
          0.010373939440377858
         ],
         "y": [
          "D: PetBERT WE w=.25"
         ]
        },
        {
         "legendgroup": "other",
         "marker": {
          "color": "#B6E880"
         },
         "name": "other",
         "orientation": "h",
         "showlegend": false,
         "type": "bar",
         "x": [
          0.025829177947201062
         ],
         "y": [
          "D: PetBERT WE w=.25"
         ]
        },
        {
         "legendgroup": "other",
         "marker": {
          "color": "#B6E880"
         },
         "name": "other",
         "orientation": "h",
         "showlegend": false,
         "type": "bar",
         "x": [
          0.013227941538870093
         ],
         "y": [
          "D: PetBERT WE w=.25"
         ]
        },
        {
         "legendgroup": "other",
         "marker": {
          "color": "#B6E880"
         },
         "name": "other",
         "orientation": "h",
         "showlegend": false,
         "type": "bar",
         "x": [
          0.013211858938497564
         ],
         "y": [
          "D: PetBERT WE w=.25"
         ]
        },
        {
         "legendgroup": "other",
         "marker": {
          "color": "#B6E880"
         },
         "name": "other",
         "orientation": "h",
         "showlegend": false,
         "type": "bar",
         "x": [
          0.013227941538870093
         ],
         "y": [
          "D: PetBERT WE w=.25"
         ]
        },
        {
         "legendgroup": "other",
         "marker": {
          "color": "#B6E880"
         },
         "name": "other",
         "orientation": "h",
         "showlegend": false,
         "type": "bar",
         "x": [
          0.01853028091152557
         ],
         "y": [
          "D: PetBERT WE w=.25"
         ]
        },
        {
         "legendgroup": "other",
         "marker": {
          "color": "#B6E880"
         },
         "name": "other",
         "orientation": "h",
         "showlegend": false,
         "type": "bar",
         "x": [
          0.04892903208568533
         ],
         "y": [
          "D: PetBERT WE w=.25"
         ]
        },
        {
         "legendgroup": "other",
         "marker": {
          "color": "#B6E880"
         },
         "name": "other",
         "orientation": "h",
         "showlegend": false,
         "type": "bar",
         "x": [
          0.021362488268078194
         ],
         "y": [
          "D: PetBERT WE w=.25"
         ]
        },
        {
         "legendgroup": "other",
         "marker": {
          "color": "#B6E880"
         },
         "name": "other",
         "orientation": "h",
         "showlegend": false,
         "type": "bar",
         "x": [
          0.009359154762217268
         ],
         "y": [
          "D: PetBERT WE w=.25"
         ]
        },
        {
         "legendgroup": "other",
         "marker": {
          "color": "#B6E880"
         },
         "name": "other",
         "orientation": "h",
         "showlegend": false,
         "type": "bar",
         "x": [
          0.0020134397187065215
         ],
         "y": [
          "D: PetBERT WE w=.25"
         ]
        },
        {
         "legendgroup": "other",
         "marker": {
          "color": "#B6E880"
         },
         "name": "other",
         "orientation": "h",
         "showlegend": false,
         "type": "bar",
         "x": [
          0.0020134397187065215
         ],
         "y": [
          "D: PetBERT WE w=.25"
         ]
        },
        {
         "legendgroup": "other",
         "marker": {
          "color": "#B6E880"
         },
         "name": "other",
         "orientation": "h",
         "showlegend": false,
         "type": "bar",
         "x": [
          0.011107976604584907
         ],
         "y": [
          "D: PetBERT WE w=.25"
         ]
        },
        {
         "legendgroup": "other",
         "marker": {
          "color": "#B6E880"
         },
         "name": "other",
         "orientation": "h",
         "showlegend": false,
         "type": "bar",
         "x": [
          0.019126698555433114
         ],
         "y": [
          "D: PetBERT WE w=.25"
         ]
        },
        {
         "legendgroup": "other",
         "marker": {
          "color": "#B6E880"
         },
         "name": "other",
         "orientation": "h",
         "showlegend": false,
         "type": "bar",
         "x": [
          0.03332714728046022
         ],
         "y": [
          "D: PetBERT WE w=.25"
         ]
        },
        {
         "legendgroup": "other",
         "marker": {
          "color": "#B6E880"
         },
         "name": "other",
         "orientation": "h",
         "showlegend": false,
         "type": "bar",
         "x": [
          0.0061514642997922055
         ],
         "y": [
          "C: BERT WE w=.25"
         ]
        },
        {
         "legendgroup": "other",
         "marker": {
          "color": "#B6E880"
         },
         "name": "other",
         "orientation": "h",
         "showlegend": false,
         "type": "bar",
         "x": [
          0.027682702669407238
         ],
         "y": [
          "C: BERT WE w=.25"
         ]
        },
        {
         "legendgroup": "other",
         "marker": {
          "color": "#B6E880"
         },
         "name": "other",
         "orientation": "h",
         "showlegend": false,
         "type": "bar",
         "x": [
          0.0428724981166058
         ],
         "y": [
          "C: BERT WE w=.25"
         ]
        },
        {
         "legendgroup": "other",
         "marker": {
          "color": "#B6E880"
         },
         "name": "other",
         "orientation": "h",
         "showlegend": false,
         "type": "bar",
         "x": [
          0.009531574375811942
         ],
         "y": [
          "C: BERT WE w=.25"
         ]
        },
        {
         "legendgroup": "other",
         "marker": {
          "color": "#B6E880"
         },
         "name": "other",
         "orientation": "h",
         "showlegend": false,
         "type": "bar",
         "x": [
          0.016474414736434805
         ],
         "y": [
          "C: BERT WE w=.25"
         ]
        },
        {
         "legendgroup": "other",
         "marker": {
          "color": "#B6E880"
         },
         "name": "other",
         "orientation": "h",
         "showlegend": false,
         "type": "bar",
         "x": [
          0.005760355020551649
         ],
         "y": [
          "C: BERT WE w=.25"
         ]
        },
        {
         "legendgroup": "other",
         "marker": {
          "color": "#B6E880"
         },
         "name": "other",
         "orientation": "h",
         "showlegend": false,
         "type": "bar",
         "x": [
          0.008555756945804632
         ],
         "y": [
          "C: BERT WE w=.25"
         ]
        },
        {
         "legendgroup": "other",
         "marker": {
          "color": "#B6E880"
         },
         "name": "other",
         "orientation": "h",
         "showlegend": false,
         "type": "bar",
         "x": [
          0.015880429608046753
         ],
         "y": [
          "C: BERT WE w=.25"
         ]
        },
        {
         "legendgroup": "other",
         "marker": {
          "color": "#B6E880"
         },
         "name": "other",
         "orientation": "h",
         "showlegend": false,
         "type": "bar",
         "x": [
          0.00923805552516985
         ],
         "y": [
          "C: BERT WE w=.25"
         ]
        },
        {
         "legendgroup": "other",
         "marker": {
          "color": "#B6E880"
         },
         "name": "other",
         "orientation": "h",
         "showlegend": false,
         "type": "bar",
         "x": [
          0.028116636584523562
         ],
         "y": [
          "C: BERT WE w=.25"
         ]
        },
        {
         "legendgroup": "other",
         "marker": {
          "color": "#B6E880"
         },
         "name": "other",
         "orientation": "h",
         "showlegend": false,
         "type": "bar",
         "x": [
          0.014831906022272048
         ],
         "y": [
          "C: BERT WE w=.25"
         ]
        },
        {
         "legendgroup": "other",
         "marker": {
          "color": "#B6E880"
         },
         "name": "other",
         "orientation": "h",
         "showlegend": false,
         "type": "bar",
         "x": [
          0.014636211477061824
         ],
         "y": [
          "C: BERT WE w=.25"
         ]
        },
        {
         "legendgroup": "other",
         "marker": {
          "color": "#B6E880"
         },
         "name": "other",
         "orientation": "h",
         "showlegend": false,
         "type": "bar",
         "x": [
          0.014831906022272048
         ],
         "y": [
          "C: BERT WE w=.25"
         ]
        },
        {
         "legendgroup": "other",
         "marker": {
          "color": "#B6E880"
         },
         "name": "other",
         "orientation": "h",
         "showlegend": false,
         "type": "bar",
         "x": [
          0.021747439211354937
         ],
         "y": [
          "C: BERT WE w=.25"
         ]
        },
        {
         "legendgroup": "other",
         "marker": {
          "color": "#B6E880"
         },
         "name": "other",
         "orientation": "h",
         "showlegend": false,
         "type": "bar",
         "x": [
          0.05955526543889764
         ],
         "y": [
          "C: BERT WE w=.25"
         ]
        },
        {
         "legendgroup": "other",
         "marker": {
          "color": "#B6E880"
         },
         "name": "other",
         "orientation": "h",
         "showlegend": false,
         "type": "bar",
         "x": [
          0.024960748571973227
         ],
         "y": [
          "C: BERT WE w=.25"
         ]
        },
        {
         "legendgroup": "other",
         "marker": {
          "color": "#B6E880"
         },
         "name": "other",
         "orientation": "h",
         "showlegend": false,
         "type": "bar",
         "x": [
          0.009470939458203723
         ],
         "y": [
          "C: BERT WE w=.25"
         ]
        },
        {
         "legendgroup": "other",
         "marker": {
          "color": "#B6E880"
         },
         "name": "other",
         "orientation": "h",
         "showlegend": false,
         "type": "bar",
         "x": [
          0.0014678921883075327
         ],
         "y": [
          "C: BERT WE w=.25"
         ]
        },
        {
         "legendgroup": "other",
         "marker": {
          "color": "#B6E880"
         },
         "name": "other",
         "orientation": "h",
         "showlegend": false,
         "type": "bar",
         "x": [
          0.0014678921883075327
         ],
         "y": [
          "C: BERT WE w=.25"
         ]
        },
        {
         "legendgroup": "other",
         "marker": {
          "color": "#B6E880"
         },
         "name": "other",
         "orientation": "h",
         "showlegend": false,
         "type": "bar",
         "x": [
          0.01221931290328895
         ],
         "y": [
          "C: BERT WE w=.25"
         ]
        },
        {
         "legendgroup": "other",
         "marker": {
          "color": "#B6E880"
         },
         "name": "other",
         "orientation": "h",
         "showlegend": false,
         "type": "bar",
         "x": [
          0.02253107182200063
         ],
         "y": [
          "C: BERT WE w=.25"
         ]
        },
        {
         "legendgroup": "other",
         "marker": {
          "color": "#B6E880"
         },
         "name": "other",
         "orientation": "h",
         "showlegend": false,
         "type": "bar",
         "x": [
          0.0400656838955652
         ],
         "y": [
          "C: BERT WE w=.25"
         ]
        },
        {
         "legendgroup": "other",
         "marker": {
          "color": "#B6E880"
         },
         "name": "other",
         "orientation": "h",
         "showlegend": false,
         "type": "bar",
         "x": [
          0.0023292557101063354
         ],
         "y": [
          "B: PetBERT Stack"
         ]
        },
        {
         "legendgroup": "other",
         "marker": {
          "color": "#B6E880"
         },
         "name": "other",
         "orientation": "h",
         "showlegend": false,
         "type": "bar",
         "x": [
          0.012533533543066001
         ],
         "y": [
          "B: PetBERT Stack"
         ]
        },
        {
         "legendgroup": "other",
         "marker": {
          "color": "#B6E880"
         },
         "name": "other",
         "orientation": "h",
         "showlegend": false,
         "type": "bar",
         "x": [
          0.013992861890912311
         ],
         "y": [
          "B: PetBERT Stack"
         ]
        },
        {
         "legendgroup": "other",
         "marker": {
          "color": "#B6E880"
         },
         "name": "other",
         "orientation": "h",
         "showlegend": false,
         "type": "bar",
         "x": [
          0.00484998963265006
         ],
         "y": [
          "B: PetBERT Stack"
         ]
        },
        {
         "legendgroup": "other",
         "marker": {
          "color": "#B6E880"
         },
         "name": "other",
         "orientation": "h",
         "showlegend": false,
         "type": "bar",
         "x": [
          0.005431940901857066
         ],
         "y": [
          "B: PetBERT Stack"
         ]
        },
        {
         "legendgroup": "other",
         "marker": {
          "color": "#B6E880"
         },
         "name": "other",
         "orientation": "h",
         "showlegend": false,
         "type": "bar",
         "x": [
          0.0020074322419212504
         ],
         "y": [
          "B: PetBERT Stack"
         ]
        },
        {
         "legendgroup": "other",
         "marker": {
          "color": "#B6E880"
         },
         "name": "other",
         "orientation": "h",
         "showlegend": false,
         "type": "bar",
         "x": [
          0.0064173832748586086
         ],
         "y": [
          "B: PetBERT Stack"
         ]
        },
        {
         "legendgroup": "other",
         "marker": {
          "color": "#B6E880"
         },
         "name": "other",
         "orientation": "h",
         "showlegend": false,
         "type": "bar",
         "x": [
          0.006072969617713851
         ],
         "y": [
          "B: PetBERT Stack"
         ]
        },
        {
         "legendgroup": "other",
         "marker": {
          "color": "#B6E880"
         },
         "name": "other",
         "orientation": "h",
         "showlegend": false,
         "type": "bar",
         "x": [
          0.00812472220777364
         ],
         "y": [
          "B: PetBERT Stack"
         ]
        },
        {
         "legendgroup": "other",
         "marker": {
          "color": "#B6E880"
         },
         "name": "other",
         "orientation": "h",
         "showlegend": false,
         "type": "bar",
         "x": [
          0.011140270079627985
         ],
         "y": [
          "B: PetBERT Stack"
         ]
        },
        {
         "legendgroup": "other",
         "marker": {
          "color": "#B6E880"
         },
         "name": "other",
         "orientation": "h",
         "showlegend": false,
         "type": "bar",
         "x": [
          0.005574080755502495
         ],
         "y": [
          "B: PetBERT Stack"
         ]
        },
        {
         "legendgroup": "other",
         "marker": {
          "color": "#B6E880"
         },
         "name": "other",
         "orientation": "h",
         "showlegend": false,
         "type": "bar",
         "x": [
          0.005624898802066565
         ],
         "y": [
          "B: PetBERT Stack"
         ]
        },
        {
         "legendgroup": "other",
         "marker": {
          "color": "#B6E880"
         },
         "name": "other",
         "orientation": "h",
         "showlegend": false,
         "type": "bar",
         "x": [
          0.005581449946271338
         ],
         "y": [
          "B: PetBERT Stack"
         ]
        },
        {
         "legendgroup": "other",
         "marker": {
          "color": "#B6E880"
         },
         "name": "other",
         "orientation": "h",
         "showlegend": false,
         "type": "bar",
         "x": [
          0.00715461537222944
         ],
         "y": [
          "B: PetBERT Stack"
         ]
        },
        {
         "legendgroup": "other",
         "marker": {
          "color": "#B6E880"
         },
         "name": "other",
         "orientation": "h",
         "showlegend": false,
         "type": "bar",
         "x": [
          0.018673096277404218
         ],
         "y": [
          "B: PetBERT Stack"
         ]
        },
        {
         "legendgroup": "other",
         "marker": {
          "color": "#B6E880"
         },
         "name": "other",
         "orientation": "h",
         "showlegend": false,
         "type": "bar",
         "x": [
          0.006711180116716471
         ],
         "y": [
          "B: PetBERT Stack"
         ]
        },
        {
         "legendgroup": "other",
         "marker": {
          "color": "#B6E880"
         },
         "name": "other",
         "orientation": "h",
         "showlegend": false,
         "type": "bar",
         "x": [
          0.003840340197863545
         ],
         "y": [
          "B: PetBERT Stack"
         ]
        },
        {
         "legendgroup": "other",
         "marker": {
          "color": "#B6E880"
         },
         "name": "other",
         "orientation": "h",
         "showlegend": false,
         "type": "bar",
         "x": [
          0.0016882044264283239
         ],
         "y": [
          "B: PetBERT Stack"
         ]
        },
        {
         "legendgroup": "other",
         "marker": {
          "color": "#B6E880"
         },
         "name": "other",
         "orientation": "h",
         "showlegend": false,
         "type": "bar",
         "x": [
          0.0016882044264283239
         ],
         "y": [
          "B: PetBERT Stack"
         ]
        },
        {
         "legendgroup": "other",
         "marker": {
          "color": "#B6E880"
         },
         "name": "other",
         "orientation": "h",
         "showlegend": false,
         "type": "bar",
         "x": [
          0.0045512328012761215
         ],
         "y": [
          "B: PetBERT Stack"
         ]
        },
        {
         "legendgroup": "other",
         "marker": {
          "color": "#B6E880"
         },
         "name": "other",
         "orientation": "h",
         "showlegend": false,
         "type": "bar",
         "x": [
          0.007955255880798956
         ],
         "y": [
          "B: PetBERT Stack"
         ]
        },
        {
         "legendgroup": "other",
         "marker": {
          "color": "#B6E880"
         },
         "name": "other",
         "orientation": "h",
         "showlegend": false,
         "type": "bar",
         "x": [
          0.01644835543148186
         ],
         "y": [
          "B: PetBERT Stack"
         ]
        },
        {
         "legendgroup": "other",
         "marker": {
          "color": "#B6E880"
         },
         "name": "other",
         "orientation": "h",
         "showlegend": false,
         "type": "bar",
         "x": [
          0.0032706757454868986
         ],
         "y": [
          "A: BERT Stack"
         ]
        },
        {
         "legendgroup": "other",
         "marker": {
          "color": "#B6E880"
         },
         "name": "other",
         "orientation": "h",
         "showlegend": false,
         "type": "bar",
         "x": [
          0.020091670543146856
         ],
         "y": [
          "A: BERT Stack"
         ]
        },
        {
         "legendgroup": "other",
         "marker": {
          "color": "#B6E880"
         },
         "name": "other",
         "orientation": "h",
         "showlegend": false,
         "type": "bar",
         "x": [
          0.022186562390483243
         ],
         "y": [
          "A: BERT Stack"
         ]
        },
        {
         "legendgroup": "other",
         "marker": {
          "color": "#B6E880"
         },
         "name": "other",
         "orientation": "h",
         "showlegend": false,
         "type": "bar",
         "x": [
          0.006589201413657801
         ],
         "y": [
          "A: BERT Stack"
         ]
        },
        {
         "legendgroup": "other",
         "marker": {
          "color": "#B6E880"
         },
         "name": "other",
         "orientation": "h",
         "showlegend": false,
         "type": "bar",
         "x": [
          0.009328050933712324
         ],
         "y": [
          "A: BERT Stack"
         ]
        },
        {
         "legendgroup": "other",
         "marker": {
          "color": "#B6E880"
         },
         "name": "other",
         "orientation": "h",
         "showlegend": false,
         "type": "bar",
         "x": [
          0.002536512125407538
         ],
         "y": [
          "A: BERT Stack"
         ]
        },
        {
         "legendgroup": "other",
         "marker": {
          "color": "#B6E880"
         },
         "name": "other",
         "orientation": "h",
         "showlegend": false,
         "type": "bar",
         "x": [
          0.008202423444777557
         ],
         "y": [
          "A: BERT Stack"
         ]
        },
        {
         "legendgroup": "other",
         "marker": {
          "color": "#B6E880"
         },
         "name": "other",
         "orientation": "h",
         "showlegend": false,
         "type": "bar",
         "x": [
          0.009021360165272944
         ],
         "y": [
          "A: BERT Stack"
         ]
        },
        {
         "legendgroup": "other",
         "marker": {
          "color": "#B6E880"
         },
         "name": "other",
         "orientation": "h",
         "showlegend": false,
         "type": "bar",
         "x": [
          0.009960706604623237
         ],
         "y": [
          "A: BERT Stack"
         ]
        },
        {
         "legendgroup": "other",
         "marker": {
          "color": "#B6E880"
         },
         "name": "other",
         "orientation": "h",
         "showlegend": false,
         "type": "bar",
         "x": [
          0.01691630928350761
         ],
         "y": [
          "A: BERT Stack"
         ]
        },
        {
         "legendgroup": "other",
         "marker": {
          "color": "#B6E880"
         },
         "name": "other",
         "orientation": "h",
         "showlegend": false,
         "type": "bar",
         "x": [
          0.008042118347308343
         ],
         "y": [
          "A: BERT Stack"
         ]
        },
        {
         "legendgroup": "other",
         "marker": {
          "color": "#B6E880"
         },
         "name": "other",
         "orientation": "h",
         "showlegend": false,
         "type": "bar",
         "x": [
          0.007883030093066129
         ],
         "y": [
          "A: BERT Stack"
         ]
        },
        {
         "legendgroup": "other",
         "marker": {
          "color": "#B6E880"
         },
         "name": "other",
         "orientation": "h",
         "showlegend": false,
         "type": "bar",
         "x": [
          0.008039939808192577
         ],
         "y": [
          "A: BERT Stack"
         ]
        },
        {
         "legendgroup": "other",
         "marker": {
          "color": "#B6E880"
         },
         "name": "other",
         "orientation": "h",
         "showlegend": false,
         "type": "bar",
         "x": [
          0.010770113911529332
         ],
         "y": [
          "A: BERT Stack"
         ]
        },
        {
         "legendgroup": "other",
         "marker": {
          "color": "#B6E880"
         },
         "name": "other",
         "orientation": "h",
         "showlegend": false,
         "type": "bar",
         "x": [
          0.028773056666458685
         ],
         "y": [
          "A: BERT Stack"
         ]
        },
        {
         "legendgroup": "other",
         "marker": {
          "color": "#B6E880"
         },
         "name": "other",
         "orientation": "h",
         "showlegend": false,
         "type": "bar",
         "x": [
          0.012372772854832466
         ],
         "y": [
          "A: BERT Stack"
         ]
        },
        {
         "legendgroup": "other",
         "marker": {
          "color": "#B6E880"
         },
         "name": "other",
         "orientation": "h",
         "showlegend": false,
         "type": "bar",
         "x": [
          0.006358525938580287
         ],
         "y": [
          "A: BERT Stack"
         ]
        },
        {
         "legendgroup": "other",
         "marker": {
          "color": "#B6E880"
         },
         "name": "other",
         "orientation": "h",
         "showlegend": false,
         "type": "bar",
         "x": [
          0.0019527449706056052
         ],
         "y": [
          "A: BERT Stack"
         ]
        },
        {
         "legendgroup": "other",
         "marker": {
          "color": "#B6E880"
         },
         "name": "other",
         "orientation": "h",
         "showlegend": false,
         "type": "bar",
         "x": [
          0.0019527449706056052
         ],
         "y": [
          "A: BERT Stack"
         ]
        },
        {
         "legendgroup": "other",
         "marker": {
          "color": "#B6E880"
         },
         "name": "other",
         "orientation": "h",
         "showlegend": false,
         "type": "bar",
         "x": [
          0.007248894624101253
         ],
         "y": [
          "A: BERT Stack"
         ]
        },
        {
         "legendgroup": "other",
         "marker": {
          "color": "#B6E880"
         },
         "name": "other",
         "orientation": "h",
         "showlegend": false,
         "type": "bar",
         "x": [
          0.011625632766179509
         ],
         "y": [
          "A: BERT Stack"
         ]
        },
        {
         "legendgroup": "other",
         "marker": {
          "color": "#B6E880"
         },
         "name": "other",
         "orientation": "h",
         "showlegend": false,
         "type": "bar",
         "x": [
          0.02605959951620841
         ],
         "y": [
          "A: BERT Stack"
         ]
        }
       ],
       "layout": {
        "barmode": "stack",
        "hovermode": "y unified",
        "template": {
         "data": {
          "bar": [
           {
            "error_x": {
             "color": "#2a3f5f"
            },
            "error_y": {
             "color": "#2a3f5f"
            },
            "marker": {
             "line": {
              "color": "#E5ECF6",
              "width": 0.5
             },
             "pattern": {
              "fillmode": "overlay",
              "size": 10,
              "solidity": 0.2
             }
            },
            "type": "bar"
           }
          ],
          "barpolar": [
           {
            "marker": {
             "line": {
              "color": "#E5ECF6",
              "width": 0.5
             },
             "pattern": {
              "fillmode": "overlay",
              "size": 10,
              "solidity": 0.2
             }
            },
            "type": "barpolar"
           }
          ],
          "carpet": [
           {
            "aaxis": {
             "endlinecolor": "#2a3f5f",
             "gridcolor": "white",
             "linecolor": "white",
             "minorgridcolor": "white",
             "startlinecolor": "#2a3f5f"
            },
            "baxis": {
             "endlinecolor": "#2a3f5f",
             "gridcolor": "white",
             "linecolor": "white",
             "minorgridcolor": "white",
             "startlinecolor": "#2a3f5f"
            },
            "type": "carpet"
           }
          ],
          "choropleth": [
           {
            "colorbar": {
             "outlinewidth": 0,
             "ticks": ""
            },
            "type": "choropleth"
           }
          ],
          "contour": [
           {
            "colorbar": {
             "outlinewidth": 0,
             "ticks": ""
            },
            "colorscale": [
             [
              0,
              "#0d0887"
             ],
             [
              0.1111111111111111,
              "#46039f"
             ],
             [
              0.2222222222222222,
              "#7201a8"
             ],
             [
              0.3333333333333333,
              "#9c179e"
             ],
             [
              0.4444444444444444,
              "#bd3786"
             ],
             [
              0.5555555555555556,
              "#d8576b"
             ],
             [
              0.6666666666666666,
              "#ed7953"
             ],
             [
              0.7777777777777778,
              "#fb9f3a"
             ],
             [
              0.8888888888888888,
              "#fdca26"
             ],
             [
              1,
              "#f0f921"
             ]
            ],
            "type": "contour"
           }
          ],
          "contourcarpet": [
           {
            "colorbar": {
             "outlinewidth": 0,
             "ticks": ""
            },
            "type": "contourcarpet"
           }
          ],
          "heatmap": [
           {
            "colorbar": {
             "outlinewidth": 0,
             "ticks": ""
            },
            "colorscale": [
             [
              0,
              "#0d0887"
             ],
             [
              0.1111111111111111,
              "#46039f"
             ],
             [
              0.2222222222222222,
              "#7201a8"
             ],
             [
              0.3333333333333333,
              "#9c179e"
             ],
             [
              0.4444444444444444,
              "#bd3786"
             ],
             [
              0.5555555555555556,
              "#d8576b"
             ],
             [
              0.6666666666666666,
              "#ed7953"
             ],
             [
              0.7777777777777778,
              "#fb9f3a"
             ],
             [
              0.8888888888888888,
              "#fdca26"
             ],
             [
              1,
              "#f0f921"
             ]
            ],
            "type": "heatmap"
           }
          ],
          "heatmapgl": [
           {
            "colorbar": {
             "outlinewidth": 0,
             "ticks": ""
            },
            "colorscale": [
             [
              0,
              "#0d0887"
             ],
             [
              0.1111111111111111,
              "#46039f"
             ],
             [
              0.2222222222222222,
              "#7201a8"
             ],
             [
              0.3333333333333333,
              "#9c179e"
             ],
             [
              0.4444444444444444,
              "#bd3786"
             ],
             [
              0.5555555555555556,
              "#d8576b"
             ],
             [
              0.6666666666666666,
              "#ed7953"
             ],
             [
              0.7777777777777778,
              "#fb9f3a"
             ],
             [
              0.8888888888888888,
              "#fdca26"
             ],
             [
              1,
              "#f0f921"
             ]
            ],
            "type": "heatmapgl"
           }
          ],
          "histogram": [
           {
            "marker": {
             "pattern": {
              "fillmode": "overlay",
              "size": 10,
              "solidity": 0.2
             }
            },
            "type": "histogram"
           }
          ],
          "histogram2d": [
           {
            "colorbar": {
             "outlinewidth": 0,
             "ticks": ""
            },
            "colorscale": [
             [
              0,
              "#0d0887"
             ],
             [
              0.1111111111111111,
              "#46039f"
             ],
             [
              0.2222222222222222,
              "#7201a8"
             ],
             [
              0.3333333333333333,
              "#9c179e"
             ],
             [
              0.4444444444444444,
              "#bd3786"
             ],
             [
              0.5555555555555556,
              "#d8576b"
             ],
             [
              0.6666666666666666,
              "#ed7953"
             ],
             [
              0.7777777777777778,
              "#fb9f3a"
             ],
             [
              0.8888888888888888,
              "#fdca26"
             ],
             [
              1,
              "#f0f921"
             ]
            ],
            "type": "histogram2d"
           }
          ],
          "histogram2dcontour": [
           {
            "colorbar": {
             "outlinewidth": 0,
             "ticks": ""
            },
            "colorscale": [
             [
              0,
              "#0d0887"
             ],
             [
              0.1111111111111111,
              "#46039f"
             ],
             [
              0.2222222222222222,
              "#7201a8"
             ],
             [
              0.3333333333333333,
              "#9c179e"
             ],
             [
              0.4444444444444444,
              "#bd3786"
             ],
             [
              0.5555555555555556,
              "#d8576b"
             ],
             [
              0.6666666666666666,
              "#ed7953"
             ],
             [
              0.7777777777777778,
              "#fb9f3a"
             ],
             [
              0.8888888888888888,
              "#fdca26"
             ],
             [
              1,
              "#f0f921"
             ]
            ],
            "type": "histogram2dcontour"
           }
          ],
          "mesh3d": [
           {
            "colorbar": {
             "outlinewidth": 0,
             "ticks": ""
            },
            "type": "mesh3d"
           }
          ],
          "parcoords": [
           {
            "line": {
             "colorbar": {
              "outlinewidth": 0,
              "ticks": ""
             }
            },
            "type": "parcoords"
           }
          ],
          "pie": [
           {
            "automargin": true,
            "type": "pie"
           }
          ],
          "scatter": [
           {
            "fillpattern": {
             "fillmode": "overlay",
             "size": 10,
             "solidity": 0.2
            },
            "type": "scatter"
           }
          ],
          "scatter3d": [
           {
            "line": {
             "colorbar": {
              "outlinewidth": 0,
              "ticks": ""
             }
            },
            "marker": {
             "colorbar": {
              "outlinewidth": 0,
              "ticks": ""
             }
            },
            "type": "scatter3d"
           }
          ],
          "scattercarpet": [
           {
            "marker": {
             "colorbar": {
              "outlinewidth": 0,
              "ticks": ""
             }
            },
            "type": "scattercarpet"
           }
          ],
          "scattergeo": [
           {
            "marker": {
             "colorbar": {
              "outlinewidth": 0,
              "ticks": ""
             }
            },
            "type": "scattergeo"
           }
          ],
          "scattergl": [
           {
            "marker": {
             "colorbar": {
              "outlinewidth": 0,
              "ticks": ""
             }
            },
            "type": "scattergl"
           }
          ],
          "scattermapbox": [
           {
            "marker": {
             "colorbar": {
              "outlinewidth": 0,
              "ticks": ""
             }
            },
            "type": "scattermapbox"
           }
          ],
          "scatterpolar": [
           {
            "marker": {
             "colorbar": {
              "outlinewidth": 0,
              "ticks": ""
             }
            },
            "type": "scatterpolar"
           }
          ],
          "scatterpolargl": [
           {
            "marker": {
             "colorbar": {
              "outlinewidth": 0,
              "ticks": ""
             }
            },
            "type": "scatterpolargl"
           }
          ],
          "scatterternary": [
           {
            "marker": {
             "colorbar": {
              "outlinewidth": 0,
              "ticks": ""
             }
            },
            "type": "scatterternary"
           }
          ],
          "surface": [
           {
            "colorbar": {
             "outlinewidth": 0,
             "ticks": ""
            },
            "colorscale": [
             [
              0,
              "#0d0887"
             ],
             [
              0.1111111111111111,
              "#46039f"
             ],
             [
              0.2222222222222222,
              "#7201a8"
             ],
             [
              0.3333333333333333,
              "#9c179e"
             ],
             [
              0.4444444444444444,
              "#bd3786"
             ],
             [
              0.5555555555555556,
              "#d8576b"
             ],
             [
              0.6666666666666666,
              "#ed7953"
             ],
             [
              0.7777777777777778,
              "#fb9f3a"
             ],
             [
              0.8888888888888888,
              "#fdca26"
             ],
             [
              1,
              "#f0f921"
             ]
            ],
            "type": "surface"
           }
          ],
          "table": [
           {
            "cells": {
             "fill": {
              "color": "#EBF0F8"
             },
             "line": {
              "color": "white"
             }
            },
            "header": {
             "fill": {
              "color": "#C8D4E3"
             },
             "line": {
              "color": "white"
             }
            },
            "type": "table"
           }
          ]
         },
         "layout": {
          "annotationdefaults": {
           "arrowcolor": "#2a3f5f",
           "arrowhead": 0,
           "arrowwidth": 1
          },
          "autotypenumbers": "strict",
          "coloraxis": {
           "colorbar": {
            "outlinewidth": 0,
            "ticks": ""
           }
          },
          "colorscale": {
           "diverging": [
            [
             0,
             "#8e0152"
            ],
            [
             0.1,
             "#c51b7d"
            ],
            [
             0.2,
             "#de77ae"
            ],
            [
             0.3,
             "#f1b6da"
            ],
            [
             0.4,
             "#fde0ef"
            ],
            [
             0.5,
             "#f7f7f7"
            ],
            [
             0.6,
             "#e6f5d0"
            ],
            [
             0.7,
             "#b8e186"
            ],
            [
             0.8,
             "#7fbc41"
            ],
            [
             0.9,
             "#4d9221"
            ],
            [
             1,
             "#276419"
            ]
           ],
           "sequential": [
            [
             0,
             "#0d0887"
            ],
            [
             0.1111111111111111,
             "#46039f"
            ],
            [
             0.2222222222222222,
             "#7201a8"
            ],
            [
             0.3333333333333333,
             "#9c179e"
            ],
            [
             0.4444444444444444,
             "#bd3786"
            ],
            [
             0.5555555555555556,
             "#d8576b"
            ],
            [
             0.6666666666666666,
             "#ed7953"
            ],
            [
             0.7777777777777778,
             "#fb9f3a"
            ],
            [
             0.8888888888888888,
             "#fdca26"
            ],
            [
             1,
             "#f0f921"
            ]
           ],
           "sequentialminus": [
            [
             0,
             "#0d0887"
            ],
            [
             0.1111111111111111,
             "#46039f"
            ],
            [
             0.2222222222222222,
             "#7201a8"
            ],
            [
             0.3333333333333333,
             "#9c179e"
            ],
            [
             0.4444444444444444,
             "#bd3786"
            ],
            [
             0.5555555555555556,
             "#d8576b"
            ],
            [
             0.6666666666666666,
             "#ed7953"
            ],
            [
             0.7777777777777778,
             "#fb9f3a"
            ],
            [
             0.8888888888888888,
             "#fdca26"
            ],
            [
             1,
             "#f0f921"
            ]
           ]
          },
          "colorway": [
           "#636efa",
           "#EF553B",
           "#00cc96",
           "#ab63fa",
           "#FFA15A",
           "#19d3f3",
           "#FF6692",
           "#B6E880",
           "#FF97FF",
           "#FECB52"
          ],
          "font": {
           "color": "#2a3f5f"
          },
          "geo": {
           "bgcolor": "white",
           "lakecolor": "white",
           "landcolor": "#E5ECF6",
           "showlakes": true,
           "showland": true,
           "subunitcolor": "white"
          },
          "hoverlabel": {
           "align": "left"
          },
          "hovermode": "closest",
          "mapbox": {
           "style": "light"
          },
          "paper_bgcolor": "white",
          "plot_bgcolor": "#E5ECF6",
          "polar": {
           "angularaxis": {
            "gridcolor": "white",
            "linecolor": "white",
            "ticks": ""
           },
           "bgcolor": "#E5ECF6",
           "radialaxis": {
            "gridcolor": "white",
            "linecolor": "white",
            "ticks": ""
           }
          },
          "scene": {
           "xaxis": {
            "backgroundcolor": "#E5ECF6",
            "gridcolor": "white",
            "gridwidth": 2,
            "linecolor": "white",
            "showbackground": true,
            "ticks": "",
            "zerolinecolor": "white"
           },
           "yaxis": {
            "backgroundcolor": "#E5ECF6",
            "gridcolor": "white",
            "gridwidth": 2,
            "linecolor": "white",
            "showbackground": true,
            "ticks": "",
            "zerolinecolor": "white"
           },
           "zaxis": {
            "backgroundcolor": "#E5ECF6",
            "gridcolor": "white",
            "gridwidth": 2,
            "linecolor": "white",
            "showbackground": true,
            "ticks": "",
            "zerolinecolor": "white"
           }
          },
          "shapedefaults": {
           "line": {
            "color": "#2a3f5f"
           }
          },
          "ternary": {
           "aaxis": {
            "gridcolor": "white",
            "linecolor": "white",
            "ticks": ""
           },
           "baxis": {
            "gridcolor": "white",
            "linecolor": "white",
            "ticks": ""
           },
           "bgcolor": "#E5ECF6",
           "caxis": {
            "gridcolor": "white",
            "linecolor": "white",
            "ticks": ""
           }
          },
          "title": {
           "x": 0.05
          },
          "xaxis": {
           "automargin": true,
           "gridcolor": "white",
           "linecolor": "white",
           "ticks": "",
           "title": {
            "standoff": 15
           },
           "zerolinecolor": "white",
           "zerolinewidth": 2
          },
          "yaxis": {
           "automargin": true,
           "gridcolor": "white",
           "linecolor": "white",
           "ticks": "",
           "title": {
            "standoff": 15
           },
           "zerolinecolor": "white",
           "zerolinewidth": 2
          }
         }
        }
       }
      },
      "text/html": [
       "<div>                            <div id=\"ecbcdb75-c383-4942-991b-3c55b27580c2\" class=\"plotly-graph-div\" style=\"height:525px; width:100%;\"></div>            <script type=\"text/javascript\">                require([\"plotly\"], function(Plotly) {                    window.PLOTLYENV=window.PLOTLYENV || {};                                    if (document.getElementById(\"ecbcdb75-c383-4942-991b-3c55b27580c2\")) {                    Plotly.newPlot(                        \"ecbcdb75-c383-4942-991b-3c55b27580c2\",                        [{\"legendgroup\":\"record\",\"marker\":{\"color\":\"#636EFA\"},\"name\":\"record\",\"orientation\":\"h\",\"showlegend\":true,\"x\":[0.9327322720640688],\"y\":[\"J: BERT All Text\"],\"type\":\"bar\"},{\"legendgroup\":\"record\",\"marker\":{\"color\":\"#636EFA\"},\"name\":\"record\",\"orientation\":\"h\",\"showlegend\":false,\"x\":[0.8598308242177722],\"y\":[\"I: PetBERT All Text\"],\"type\":\"bar\"},{\"legendgroup\":\"record\",\"marker\":{\"color\":\"#636EFA\"},\"name\":\"record\",\"orientation\":\"h\",\"showlegend\":false,\"x\":[0.7057896898485179],\"y\":[\"H: PetBERT WE w=.75\"],\"type\":\"bar\"},{\"legendgroup\":\"record\",\"marker\":{\"color\":\"#636EFA\"},\"name\":\"record\",\"orientation\":\"h\",\"showlegend\":false,\"x\":[0.5822086656072823],\"y\":[\"G: BERT WE w=.75\"],\"type\":\"bar\"},{\"legendgroup\":\"record\",\"marker\":{\"color\":\"#636EFA\"},\"name\":\"record\",\"orientation\":\"h\",\"showlegend\":false,\"x\":[0.46873323610337453],\"y\":[\"F: PetBERT WE w=.50\"],\"type\":\"bar\"},{\"legendgroup\":\"record\",\"marker\":{\"color\":\"#636EFA\"},\"name\":\"record\",\"orientation\":\"h\",\"showlegend\":false,\"x\":[0.3466507606478737],\"y\":[\"E: BERT WE w=.50\"],\"type\":\"bar\"},{\"legendgroup\":\"record\",\"marker\":{\"color\":\"#636EFA\"},\"name\":\"record\",\"orientation\":\"h\",\"showlegend\":false,\"x\":[0.2204692793903443],\"y\":[\"D: PetBERT WE w=.25\"],\"type\":\"bar\"},{\"legendgroup\":\"record\",\"marker\":{\"color\":\"#636EFA\"},\"name\":\"record\",\"orientation\":\"h\",\"showlegend\":false,\"x\":[0.14966877237388568],\"y\":[\"C: BERT WE w=.25\"],\"type\":\"bar\"},{\"legendgroup\":\"record\",\"marker\":{\"color\":\"#636EFA\"},\"name\":\"record\",\"orientation\":\"h\",\"showlegend\":false,\"x\":[0.519816117022566],\"y\":[\"B: PetBERT Stack\"],\"type\":\"bar\"},{\"legendgroup\":\"record\",\"marker\":{\"color\":\"#636EFA\"},\"name\":\"record\",\"orientation\":\"h\",\"showlegend\":false,\"x\":[0.374417947545278],\"y\":[\"A: BERT Stack\"],\"type\":\"bar\"},{\"legendgroup\":\"age_at_consult\",\"marker\":{\"color\":\"#EF553B\"},\"name\":\"age_at_consult\",\"orientation\":\"h\",\"showlegend\":true,\"x\":[0.00017235931553327908],\"y\":[\"J: BERT All Text\"],\"type\":\"bar\"},{\"legendgroup\":\"age_at_consult\",\"marker\":{\"color\":\"#EF553B\"},\"name\":\"age_at_consult\",\"orientation\":\"h\",\"showlegend\":false,\"x\":[0.08179310102483499],\"y\":[\"I: PetBERT All Text\"],\"type\":\"bar\"},{\"legendgroup\":\"age_at_consult\",\"marker\":{\"color\":\"#EF553B\"},\"name\":\"age_at_consult\",\"orientation\":\"h\",\"showlegend\":false,\"x\":[0.08872622523016885],\"y\":[\"H: PetBERT WE w=.75\"],\"type\":\"bar\"},{\"legendgroup\":\"age_at_consult\",\"marker\":{\"color\":\"#EF553B\"},\"name\":\"age_at_consult\",\"orientation\":\"h\",\"showlegend\":false,\"x\":[0.11740399071546745],\"y\":[\"G: BERT WE w=.75\"],\"type\":\"bar\"},{\"legendgroup\":\"age_at_consult\",\"marker\":{\"color\":\"#EF553B\"},\"name\":\"age_at_consult\",\"orientation\":\"h\",\"showlegend\":false,\"x\":[0.18946134538040796],\"y\":[\"F: PetBERT WE w=.50\"],\"type\":\"bar\"},{\"legendgroup\":\"age_at_consult\",\"marker\":{\"color\":\"#EF553B\"},\"name\":\"age_at_consult\",\"orientation\":\"h\",\"showlegend\":false,\"x\":[0.2186243634733948],\"y\":[\"E: BERT WE w=.50\"],\"type\":\"bar\"},{\"legendgroup\":\"age_at_consult\",\"marker\":{\"color\":\"#EF553B\"},\"name\":\"age_at_consult\",\"orientation\":\"h\",\"showlegend\":false,\"x\":[0.2741719463440607],\"y\":[\"D: PetBERT WE w=.25\"],\"type\":\"bar\"},{\"legendgroup\":\"age_at_consult\",\"marker\":{\"color\":\"#EF553B\"},\"name\":\"age_at_consult\",\"orientation\":\"h\",\"showlegend\":false,\"x\":[0.28673847254020446],\"y\":[\"C: BERT WE w=.25\"],\"type\":\"bar\"},{\"legendgroup\":\"age_at_consult\",\"marker\":{\"color\":\"#EF553B\"},\"name\":\"age_at_consult\",\"orientation\":\"h\",\"showlegend\":false,\"x\":[0.1538490610097555],\"y\":[\"B: PetBERT Stack\"],\"type\":\"bar\"},{\"legendgroup\":\"age_at_consult\",\"marker\":{\"color\":\"#EF553B\"},\"name\":\"age_at_consult\",\"orientation\":\"h\",\"showlegend\":false,\"x\":[0.22245842458250262],\"y\":[\"A: BERT Stack\"],\"type\":\"bar\"},{\"legendgroup\":\"region\",\"marker\":{\"color\":\"#00CC96\"},\"name\":\"region\",\"orientation\":\"h\",\"showlegend\":true,\"x\":[0.03543763802739034],\"y\":[\"J: BERT All Text\"],\"type\":\"bar\"},{\"legendgroup\":\"region\",\"marker\":{\"color\":\"#00CC96\"},\"name\":\"region\",\"orientation\":\"h\",\"showlegend\":false,\"x\":[0.01693212550242799],\"y\":[\"I: PetBERT All Text\"],\"type\":\"bar\"},{\"legendgroup\":\"region\",\"marker\":{\"color\":\"#00CC96\"},\"name\":\"region\",\"orientation\":\"h\",\"showlegend\":false,\"x\":[0.03804082704712143],\"y\":[\"H: PetBERT WE w=.75\"],\"type\":\"bar\"},{\"legendgroup\":\"region\",\"marker\":{\"color\":\"#00CC96\"},\"name\":\"region\",\"orientation\":\"h\",\"showlegend\":false,\"x\":[0.07902023863932266],\"y\":[\"G: BERT WE w=.75\"],\"type\":\"bar\"},{\"legendgroup\":\"region\",\"marker\":{\"color\":\"#00CC96\"},\"name\":\"region\",\"orientation\":\"h\",\"showlegend\":false,\"x\":[0.025102621905756795],\"y\":[\"F: PetBERT WE w=.50\"],\"type\":\"bar\"},{\"legendgroup\":\"region\",\"marker\":{\"color\":\"#00CC96\"},\"name\":\"region\",\"orientation\":\"h\",\"showlegend\":false,\"x\":[0.0467021933542763],\"y\":[\"E: BERT WE w=.50\"],\"type\":\"bar\"},{\"legendgroup\":\"region\",\"marker\":{\"color\":\"#00CC96\"},\"name\":\"region\",\"orientation\":\"h\",\"showlegend\":false,\"x\":[0.011741866025626282],\"y\":[\"D: PetBERT WE w=.25\"],\"type\":\"bar\"},{\"legendgroup\":\"region\",\"marker\":{\"color\":\"#00CC96\"},\"name\":\"region\",\"orientation\":\"h\",\"showlegend\":false,\"x\":[0.019295594219194304],\"y\":[\"C: BERT WE w=.25\"],\"type\":\"bar\"},{\"legendgroup\":\"region\",\"marker\":{\"color\":\"#00CC96\"},\"name\":\"region\",\"orientation\":\"h\",\"showlegend\":false,\"x\":[0.057925276851855695],\"y\":[\"B: PetBERT Stack\"],\"type\":\"bar\"},{\"legendgroup\":\"region\",\"marker\":{\"color\":\"#00CC96\"},\"name\":\"region\",\"orientation\":\"h\",\"showlegend\":false,\"x\":[0.06222949818604178],\"y\":[\"A: BERT Stack\"],\"type\":\"bar\"},{\"legendgroup\":\"breed\",\"marker\":{\"color\":\"#AB63FA\"},\"name\":\"breed\",\"orientation\":\"h\",\"showlegend\":true,\"x\":[0.027743236671840938],\"y\":[\"J: BERT All Text\"],\"type\":\"bar\"},{\"legendgroup\":\"breed\",\"marker\":{\"color\":\"#AB63FA\"},\"name\":\"breed\",\"orientation\":\"h\",\"showlegend\":false,\"x\":[0.01609745254764],\"y\":[\"I: PetBERT All Text\"],\"type\":\"bar\"},{\"legendgroup\":\"breed\",\"marker\":{\"color\":\"#AB63FA\"},\"name\":\"breed\",\"orientation\":\"h\",\"showlegend\":false,\"x\":[0.04272574609890673],\"y\":[\"H: PetBERT WE w=.75\"],\"type\":\"bar\"},{\"legendgroup\":\"breed\",\"marker\":{\"color\":\"#AB63FA\"},\"name\":\"breed\",\"orientation\":\"h\",\"showlegend\":false,\"x\":[0.05460511227755144],\"y\":[\"G: BERT WE w=.75\"],\"type\":\"bar\"},{\"legendgroup\":\"breed\",\"marker\":{\"color\":\"#AB63FA\"},\"name\":\"breed\",\"orientation\":\"h\",\"showlegend\":false,\"x\":[0.028222561904701283],\"y\":[\"F: PetBERT WE w=.50\"],\"type\":\"bar\"},{\"legendgroup\":\"breed\",\"marker\":{\"color\":\"#AB63FA\"},\"name\":\"breed\",\"orientation\":\"h\",\"showlegend\":false,\"x\":[0.032755806063759905],\"y\":[\"E: BERT WE w=.50\"],\"type\":\"bar\"},{\"legendgroup\":\"breed\",\"marker\":{\"color\":\"#AB63FA\"},\"name\":\"breed\",\"orientation\":\"h\",\"showlegend\":false,\"x\":[0.01297674114254898],\"y\":[\"D: PetBERT WE w=.25\"],\"type\":\"bar\"},{\"legendgroup\":\"breed\",\"marker\":{\"color\":\"#AB63FA\"},\"name\":\"breed\",\"orientation\":\"h\",\"showlegend\":false,\"x\":[0.014491658169147102],\"y\":[\"C: BERT WE w=.25\"],\"type\":\"bar\"},{\"legendgroup\":\"breed\",\"marker\":{\"color\":\"#AB63FA\"},\"name\":\"breed\",\"orientation\":\"h\",\"showlegend\":false,\"x\":[0.07398474777537942],\"y\":[\"B: PetBERT Stack\"],\"type\":\"bar\"},{\"legendgroup\":\"breed\",\"marker\":{\"color\":\"#AB63FA\"},\"name\":\"breed\",\"orientation\":\"h\",\"showlegend\":false,\"x\":[0.042896274729914745],\"y\":[\"A: BERT Stack\"],\"type\":\"bar\"},{\"legendgroup\":\"Dental\",\"marker\":{\"color\":\"#FFA15A\"},\"name\":\"Dental\",\"orientation\":\"h\",\"showlegend\":true,\"x\":[0.00015384694403219724],\"y\":[\"J: BERT All Text\"],\"type\":\"bar\"},{\"legendgroup\":\"Dental\",\"marker\":{\"color\":\"#FFA15A\"},\"name\":\"Dental\",\"orientation\":\"h\",\"showlegend\":false,\"x\":[0.0005561948386881736],\"y\":[\"I: PetBERT All Text\"],\"type\":\"bar\"},{\"legendgroup\":\"Dental\",\"marker\":{\"color\":\"#FFA15A\"},\"name\":\"Dental\",\"orientation\":\"h\",\"showlegend\":false,\"x\":[0.009060425268921259],\"y\":[\"H: PetBERT WE w=.75\"],\"type\":\"bar\"},{\"legendgroup\":\"Dental\",\"marker\":{\"color\":\"#FFA15A\"},\"name\":\"Dental\",\"orientation\":\"h\",\"showlegend\":false,\"x\":[0.014260766131975359],\"y\":[\"G: BERT WE w=.75\"],\"type\":\"bar\"},{\"legendgroup\":\"Dental\",\"marker\":{\"color\":\"#FFA15A\"},\"name\":\"Dental\",\"orientation\":\"h\",\"showlegend\":false,\"x\":[0.02844118843466691],\"y\":[\"F: PetBERT WE w=.50\"],\"type\":\"bar\"},{\"legendgroup\":\"Dental\",\"marker\":{\"color\":\"#FFA15A\"},\"name\":\"Dental\",\"orientation\":\"h\",\"showlegend\":false,\"x\":[0.04341807981903196],\"y\":[\"E: BERT WE w=.50\"],\"type\":\"bar\"},{\"legendgroup\":\"Dental\",\"marker\":{\"color\":\"#FFA15A\"},\"name\":\"Dental\",\"orientation\":\"h\",\"showlegend\":false,\"x\":[0.06435507703868652],\"y\":[\"D: PetBERT WE w=.25\"],\"type\":\"bar\"},{\"legendgroup\":\"Dental\",\"marker\":{\"color\":\"#FFA15A\"},\"name\":\"Dental\",\"orientation\":\"h\",\"showlegend\":false,\"x\":[0.07267977885893281],\"y\":[\"C: BERT WE w=.25\"],\"type\":\"bar\"},{\"legendgroup\":\"Dental\",\"marker\":{\"color\":\"#FFA15A\"},\"name\":\"Dental\",\"orientation\":\"h\",\"showlegend\":false,\"x\":[0.018298356752729023],\"y\":[\"B: PetBERT Stack\"],\"type\":\"bar\"},{\"legendgroup\":\"Dental\",\"marker\":{\"color\":\"#FFA15A\"},\"name\":\"Dental\",\"orientation\":\"h\",\"showlegend\":false,\"x\":[0.032026941723257596],\"y\":[\"A: BERT Stack\"],\"type\":\"bar\"},{\"legendgroup\":\"gender\",\"marker\":{\"color\":\"#19D3F3\"},\"name\":\"gender\",\"orientation\":\"h\",\"showlegend\":true,\"x\":[0.00015952525906821777],\"y\":[\"J: BERT All Text\"],\"type\":\"bar\"},{\"legendgroup\":\"gender\",\"marker\":{\"color\":\"#19D3F3\"},\"name\":\"gender\",\"orientation\":\"h\",\"showlegend\":false,\"x\":[0.0097161639710379],\"y\":[\"I: PetBERT All Text\"],\"type\":\"bar\"},{\"legendgroup\":\"gender\",\"marker\":{\"color\":\"#19D3F3\"},\"name\":\"gender\",\"orientation\":\"h\",\"showlegend\":false,\"x\":[0.014305656860874264],\"y\":[\"H: PetBERT WE w=.75\"],\"type\":\"bar\"},{\"legendgroup\":\"gender\",\"marker\":{\"color\":\"#19D3F3\"},\"name\":\"gender\",\"orientation\":\"h\",\"showlegend\":false,\"x\":[0.018604882828416207],\"y\":[\"G: BERT WE w=.75\"],\"type\":\"bar\"},{\"legendgroup\":\"gender\",\"marker\":{\"color\":\"#19D3F3\"},\"name\":\"gender\",\"orientation\":\"h\",\"showlegend\":false,\"x\":[0.030781609043893602],\"y\":[\"F: PetBERT WE w=.50\"],\"type\":\"bar\"},{\"legendgroup\":\"gender\",\"marker\":{\"color\":\"#19D3F3\"},\"name\":\"gender\",\"orientation\":\"h\",\"showlegend\":false,\"x\":[0.03649247375904608],\"y\":[\"E: BERT WE w=.50\"],\"type\":\"bar\"},{\"legendgroup\":\"gender\",\"marker\":{\"color\":\"#19D3F3\"},\"name\":\"gender\",\"orientation\":\"h\",\"showlegend\":false,\"x\":[0.04650924491057688],\"y\":[\"D: PetBERT WE w=.25\"],\"type\":\"bar\"},{\"legendgroup\":\"gender\",\"marker\":{\"color\":\"#19D3F3\"},\"name\":\"gender\",\"orientation\":\"h\",\"showlegend\":false,\"x\":[0.049075566756981964],\"y\":[\"C: BERT WE w=.25\"],\"type\":\"bar\"},{\"legendgroup\":\"gender\",\"marker\":{\"color\":\"#19D3F3\"},\"name\":\"gender\",\"orientation\":\"h\",\"showlegend\":false,\"x\":[0.017735167052759522],\"y\":[\"B: PetBERT Stack\"],\"type\":\"bar\"},{\"legendgroup\":\"gender\",\"marker\":{\"color\":\"#19D3F3\"},\"name\":\"gender\",\"orientation\":\"h\",\"showlegend\":false,\"x\":[0.026788266115261014],\"y\":[\"A: BERT Stack\"],\"type\":\"bar\"},{\"legendgroup\":\"other\",\"marker\":{\"color\":\"#B6E880\"},\"name\":\"other\",\"orientation\":\"h\",\"showlegend\":true,\"x\":[0.00015374532226304356],\"y\":[\"J: BERT All Text\"],\"type\":\"bar\"},{\"legendgroup\":\"other\",\"marker\":{\"color\":\"#B6E880\"},\"name\":\"other\",\"orientation\":\"h\",\"showlegend\":false,\"x\":[0.00020217090553664068],\"y\":[\"J: BERT All Text\"],\"type\":\"bar\"},{\"legendgroup\":\"other\",\"marker\":{\"color\":\"#B6E880\"},\"name\":\"other\",\"orientation\":\"h\",\"showlegend\":false,\"x\":[0.00019153641133107547],\"y\":[\"J: BERT All Text\"],\"type\":\"bar\"},{\"legendgroup\":\"other\",\"marker\":{\"color\":\"#B6E880\"},\"name\":\"other\",\"orientation\":\"h\",\"showlegend\":false,\"x\":[0.00016886869562306118],\"y\":[\"J: BERT All Text\"],\"type\":\"bar\"},{\"legendgroup\":\"other\",\"marker\":{\"color\":\"#B6E880\"},\"name\":\"other\",\"orientation\":\"h\",\"showlegend\":false,\"x\":[0.0001610766434745971],\"y\":[\"J: BERT All Text\"],\"type\":\"bar\"},{\"legendgroup\":\"other\",\"marker\":{\"color\":\"#B6E880\"},\"name\":\"other\",\"orientation\":\"h\",\"showlegend\":false,\"x\":[0.00014691705589996883],\"y\":[\"J: BERT All Text\"],\"type\":\"bar\"},{\"legendgroup\":\"other\",\"marker\":{\"color\":\"#B6E880\"},\"name\":\"other\",\"orientation\":\"h\",\"showlegend\":false,\"x\":[0.0001500754385584737],\"y\":[\"J: BERT All Text\"],\"type\":\"bar\"},{\"legendgroup\":\"other\",\"marker\":{\"color\":\"#B6E880\"},\"name\":\"other\",\"orientation\":\"h\",\"showlegend\":false,\"x\":[0.00016405642745933094],\"y\":[\"J: BERT All Text\"],\"type\":\"bar\"},{\"legendgroup\":\"other\",\"marker\":{\"color\":\"#B6E880\"},\"name\":\"other\",\"orientation\":\"h\",\"showlegend\":false,\"x\":[0.00014962498029870758],\"y\":[\"J: BERT All Text\"],\"type\":\"bar\"},{\"legendgroup\":\"other\",\"marker\":{\"color\":\"#B6E880\"},\"name\":\"other\",\"orientation\":\"h\",\"showlegend\":false,\"x\":[0.00014962758973927453],\"y\":[\"J: BERT All Text\"],\"type\":\"bar\"},{\"legendgroup\":\"other\",\"marker\":{\"color\":\"#B6E880\"},\"name\":\"other\",\"orientation\":\"h\",\"showlegend\":false,\"x\":[0.0001649886160888585],\"y\":[\"J: BERT All Text\"],\"type\":\"bar\"},{\"legendgroup\":\"other\",\"marker\":{\"color\":\"#B6E880\"},\"name\":\"other\",\"orientation\":\"h\",\"showlegend\":false,\"x\":[0.0001649886160888585],\"y\":[\"J: BERT All Text\"],\"type\":\"bar\"},{\"legendgroup\":\"other\",\"marker\":{\"color\":\"#B6E880\"},\"name\":\"other\",\"orientation\":\"h\",\"showlegend\":false,\"x\":[0.0001649886160888585],\"y\":[\"J: BERT All Text\"],\"type\":\"bar\"},{\"legendgroup\":\"other\",\"marker\":{\"color\":\"#B6E880\"},\"name\":\"other\",\"orientation\":\"h\",\"showlegend\":false,\"x\":[0.00016511819254825004],\"y\":[\"J: BERT All Text\"],\"type\":\"bar\"},{\"legendgroup\":\"other\",\"marker\":{\"color\":\"#B6E880\"},\"name\":\"other\",\"orientation\":\"h\",\"showlegend\":false,\"x\":[0.00018241223174213],\"y\":[\"J: BERT All Text\"],\"type\":\"bar\"},{\"legendgroup\":\"other\",\"marker\":{\"color\":\"#B6E880\"},\"name\":\"other\",\"orientation\":\"h\",\"showlegend\":false,\"x\":[0.0001619912380333676],\"y\":[\"J: BERT All Text\"],\"type\":\"bar\"},{\"legendgroup\":\"other\",\"marker\":{\"color\":\"#B6E880\"},\"name\":\"other\",\"orientation\":\"h\",\"showlegend\":false,\"x\":[0.00016465880400190627],\"y\":[\"J: BERT All Text\"],\"type\":\"bar\"},{\"legendgroup\":\"other\",\"marker\":{\"color\":\"#B6E880\"},\"name\":\"other\",\"orientation\":\"h\",\"showlegend\":false,\"x\":[0.0001565091800360122],\"y\":[\"J: BERT All Text\"],\"type\":\"bar\"},{\"legendgroup\":\"other\",\"marker\":{\"color\":\"#B6E880\"},\"name\":\"other\",\"orientation\":\"h\",\"showlegend\":false,\"x\":[0.0001565091800360122],\"y\":[\"J: BERT All Text\"],\"type\":\"bar\"},{\"legendgroup\":\"other\",\"marker\":{\"color\":\"#B6E880\"},\"name\":\"other\",\"orientation\":\"h\",\"showlegend\":false,\"x\":[0.00016582230906094224],\"y\":[\"J: BERT All Text\"],\"type\":\"bar\"},{\"legendgroup\":\"other\",\"marker\":{\"color\":\"#B6E880\"},\"name\":\"other\",\"orientation\":\"h\",\"showlegend\":false,\"x\":[0.00016511819254825004],\"y\":[\"J: BERT All Text\"],\"type\":\"bar\"},{\"legendgroup\":\"other\",\"marker\":{\"color\":\"#B6E880\"},\"name\":\"other\",\"orientation\":\"h\",\"showlegend\":false,\"x\":[0.00015031707160856586],\"y\":[\"J: BERT All Text\"],\"type\":\"bar\"},{\"legendgroup\":\"other\",\"marker\":{\"color\":\"#B6E880\"},\"name\":\"other\",\"orientation\":\"h\",\"showlegend\":false,\"x\":[0.0009714222843857876],\"y\":[\"I: PetBERT All Text\"],\"type\":\"bar\"},{\"legendgroup\":\"other\",\"marker\":{\"color\":\"#B6E880\"},\"name\":\"other\",\"orientation\":\"h\",\"showlegend\":false,\"x\":[0.0008007055430053567],\"y\":[\"I: PetBERT All Text\"],\"type\":\"bar\"},{\"legendgroup\":\"other\",\"marker\":{\"color\":\"#B6E880\"},\"name\":\"other\",\"orientation\":\"h\",\"showlegend\":false,\"x\":[0.0011969717176570829],\"y\":[\"I: PetBERT All Text\"],\"type\":\"bar\"},{\"legendgroup\":\"other\",\"marker\":{\"color\":\"#B6E880\"},\"name\":\"other\",\"orientation\":\"h\",\"showlegend\":false,\"x\":[0.0007033652201675258],\"y\":[\"I: PetBERT All Text\"],\"type\":\"bar\"},{\"legendgroup\":\"other\",\"marker\":{\"color\":\"#B6E880\"},\"name\":\"other\",\"orientation\":\"h\",\"showlegend\":false,\"x\":[0.000624264236797122],\"y\":[\"I: PetBERT All Text\"],\"type\":\"bar\"},{\"legendgroup\":\"other\",\"marker\":{\"color\":\"#B6E880\"},\"name\":\"other\",\"orientation\":\"h\",\"showlegend\":false,\"x\":[0.0005541750102222898],\"y\":[\"I: PetBERT All Text\"],\"type\":\"bar\"},{\"legendgroup\":\"other\",\"marker\":{\"color\":\"#B6E880\"},\"name\":\"other\",\"orientation\":\"h\",\"showlegend\":false,\"x\":[0.0005574962598927937],\"y\":[\"I: PetBERT All Text\"],\"type\":\"bar\"},{\"legendgroup\":\"other\",\"marker\":{\"color\":\"#B6E880\"},\"name\":\"other\",\"orientation\":\"h\",\"showlegend\":false,\"x\":[0.0006894372284094331],\"y\":[\"I: PetBERT All Text\"],\"type\":\"bar\"},{\"legendgroup\":\"other\",\"marker\":{\"color\":\"#B6E880\"},\"name\":\"other\",\"orientation\":\"h\",\"showlegend\":false,\"x\":[0.0005559688190272151],\"y\":[\"I: PetBERT All Text\"],\"type\":\"bar\"},{\"legendgroup\":\"other\",\"marker\":{\"color\":\"#B6E880\"},\"name\":\"other\",\"orientation\":\"h\",\"showlegend\":false,\"x\":[0.0005661948209319161],\"y\":[\"I: PetBERT All Text\"],\"type\":\"bar\"},{\"legendgroup\":\"other\",\"marker\":{\"color\":\"#B6E880\"},\"name\":\"other\",\"orientation\":\"h\",\"showlegend\":false,\"x\":[0.0006918349876045051],\"y\":[\"I: PetBERT All Text\"],\"type\":\"bar\"},{\"legendgroup\":\"other\",\"marker\":{\"color\":\"#B6E880\"},\"name\":\"other\",\"orientation\":\"h\",\"showlegend\":false,\"x\":[0.0006918349876045051],\"y\":[\"I: PetBERT All Text\"],\"type\":\"bar\"},{\"legendgroup\":\"other\",\"marker\":{\"color\":\"#B6E880\"},\"name\":\"other\",\"orientation\":\"h\",\"showlegend\":false,\"x\":[0.0006918349876045051],\"y\":[\"I: PetBERT All Text\"],\"type\":\"bar\"},{\"legendgroup\":\"other\",\"marker\":{\"color\":\"#B6E880\"},\"name\":\"other\",\"orientation\":\"h\",\"showlegend\":false,\"x\":[0.0006916280608744744],\"y\":[\"I: PetBERT All Text\"],\"type\":\"bar\"},{\"legendgroup\":\"other\",\"marker\":{\"color\":\"#B6E880\"},\"name\":\"other\",\"orientation\":\"h\",\"showlegend\":false,\"x\":[0.0007784363872796026],\"y\":[\"I: PetBERT All Text\"],\"type\":\"bar\"},{\"legendgroup\":\"other\",\"marker\":{\"color\":\"#B6E880\"},\"name\":\"other\",\"orientation\":\"h\",\"showlegend\":false,\"x\":[0.000615440920657133],\"y\":[\"I: PetBERT All Text\"],\"type\":\"bar\"},{\"legendgroup\":\"other\",\"marker\":{\"color\":\"#B6E880\"},\"name\":\"other\",\"orientation\":\"h\",\"showlegend\":false,\"x\":[0.0006128950295290799],\"y\":[\"I: PetBERT All Text\"],\"type\":\"bar\"},{\"legendgroup\":\"other\",\"marker\":{\"color\":\"#B6E880\"},\"name\":\"other\",\"orientation\":\"h\",\"showlegend\":false,\"x\":[0.0005978865117498519],\"y\":[\"I: PetBERT All Text\"],\"type\":\"bar\"},{\"legendgroup\":\"other\",\"marker\":{\"color\":\"#B6E880\"},\"name\":\"other\",\"orientation\":\"h\",\"showlegend\":false,\"x\":[0.0005978865117498519],\"y\":[\"I: PetBERT All Text\"],\"type\":\"bar\"},{\"legendgroup\":\"other\",\"marker\":{\"color\":\"#B6E880\"},\"name\":\"other\",\"orientation\":\"h\",\"showlegend\":false,\"x\":[0.0006146865267189125],\"y\":[\"I: PetBERT All Text\"],\"type\":\"bar\"},{\"legendgroup\":\"other\",\"marker\":{\"color\":\"#B6E880\"},\"name\":\"other\",\"orientation\":\"h\",\"showlegend\":false,\"x\":[0.0006917392908389902],\"y\":[\"I: PetBERT All Text\"],\"type\":\"bar\"},{\"legendgroup\":\"other\",\"marker\":{\"color\":\"#B6E880\"},\"name\":\"other\",\"orientation\":\"h\",\"showlegend\":false,\"x\":[0.0005780325548908302],\"y\":[\"I: PetBERT All Text\"],\"type\":\"bar\"},{\"legendgroup\":\"other\",\"marker\":{\"color\":\"#B6E880\"},\"name\":\"other\",\"orientation\":\"h\",\"showlegend\":false,\"x\":[0.0018534497883043316],\"y\":[\"H: PetBERT WE w=.75\"],\"type\":\"bar\"},{\"legendgroup\":\"other\",\"marker\":{\"color\":\"#B6E880\"},\"name\":\"other\",\"orientation\":\"h\",\"showlegend\":false,\"x\":[0.006775105341021033],\"y\":[\"H: PetBERT WE w=.75\"],\"type\":\"bar\"},{\"legendgroup\":\"other\",\"marker\":{\"color\":\"#B6E880\"},\"name\":\"other\",\"orientation\":\"h\",\"showlegend\":false,\"x\":[0.006573918222754499],\"y\":[\"H: PetBERT WE w=.75\"],\"type\":\"bar\"},{\"legendgroup\":\"other\",\"marker\":{\"color\":\"#B6E880\"},\"name\":\"other\",\"orientation\":\"h\",\"showlegend\":false,\"x\":[0.0041137676048862],\"y\":[\"H: PetBERT WE w=.75\"],\"type\":\"bar\"},{\"legendgroup\":\"other\",\"marker\":{\"color\":\"#B6E880\"},\"name\":\"other\",\"orientation\":\"h\",\"showlegend\":false,\"x\":[0.003214823014206347],\"y\":[\"H: PetBERT WE w=.75\"],\"type\":\"bar\"},{\"legendgroup\":\"other\",\"marker\":{\"color\":\"#B6E880\"},\"name\":\"other\",\"orientation\":\"h\",\"showlegend\":false,\"x\":[0.002684449927560272],\"y\":[\"H: PetBERT WE w=.75\"],\"type\":\"bar\"},{\"legendgroup\":\"other\",\"marker\":{\"color\":\"#B6E880\"},\"name\":\"other\",\"orientation\":\"h\",\"showlegend\":false,\"x\":[0.006922113936653042],\"y\":[\"H: PetBERT WE w=.75\"],\"type\":\"bar\"},{\"legendgroup\":\"other\",\"marker\":{\"color\":\"#B6E880\"},\"name\":\"other\",\"orientation\":\"h\",\"showlegend\":false,\"x\":[0.004270782868997314],\"y\":[\"H: PetBERT WE w=.75\"],\"type\":\"bar\"},{\"legendgroup\":\"other\",\"marker\":{\"color\":\"#B6E880\"},\"name\":\"other\",\"orientation\":\"h\",\"showlegend\":false,\"x\":[0.007833091963426412],\"y\":[\"H: PetBERT WE w=.75\"],\"type\":\"bar\"},{\"legendgroup\":\"other\",\"marker\":{\"color\":\"#B6E880\"},\"name\":\"other\",\"orientation\":\"h\",\"showlegend\":false,\"x\":[0.007437360423959055],\"y\":[\"H: PetBERT WE w=.75\"],\"type\":\"bar\"},{\"legendgroup\":\"other\",\"marker\":{\"color\":\"#B6E880\"},\"name\":\"other\",\"orientation\":\"h\",\"showlegend\":false,\"x\":[0.004155743934766531],\"y\":[\"H: PetBERT WE w=.75\"],\"type\":\"bar\"},{\"legendgroup\":\"other\",\"marker\":{\"color\":\"#B6E880\"},\"name\":\"other\",\"orientation\":\"h\",\"showlegend\":false,\"x\":[0.004155743934766531],\"y\":[\"H: PetBERT WE w=.75\"],\"type\":\"bar\"},{\"legendgroup\":\"other\",\"marker\":{\"color\":\"#B6E880\"},\"name\":\"other\",\"orientation\":\"h\",\"showlegend\":false,\"x\":[0.004155743934766531],\"y\":[\"H: PetBERT WE w=.75\"],\"type\":\"bar\"},{\"legendgroup\":\"other\",\"marker\":{\"color\":\"#B6E880\"},\"name\":\"other\",\"orientation\":\"h\",\"showlegend\":false,\"x\":[0.004393996314275878],\"y\":[\"H: PetBERT WE w=.75\"],\"type\":\"bar\"},{\"legendgroup\":\"other\",\"marker\":{\"color\":\"#B6E880\"},\"name\":\"other\",\"orientation\":\"h\",\"showlegend\":false,\"x\":[0.007258845025644649],\"y\":[\"H: PetBERT WE w=.75\"],\"type\":\"bar\"},{\"legendgroup\":\"other\",\"marker\":{\"color\":\"#B6E880\"},\"name\":\"other\",\"orientation\":\"h\",\"showlegend\":false,\"x\":[0.003347539678498749],\"y\":[\"H: PetBERT WE w=.75\"],\"type\":\"bar\"},{\"legendgroup\":\"other\",\"marker\":{\"color\":\"#B6E880\"},\"name\":\"other\",\"orientation\":\"h\",\"showlegend\":false,\"x\":[0.002897835745298478],\"y\":[\"H: PetBERT WE w=.75\"],\"type\":\"bar\"},{\"legendgroup\":\"other\",\"marker\":{\"color\":\"#B6E880\"},\"name\":\"other\",\"orientation\":\"h\",\"showlegend\":false,\"x\":[0.00219500106069494],\"y\":[\"H: PetBERT WE w=.75\"],\"type\":\"bar\"},{\"legendgroup\":\"other\",\"marker\":{\"color\":\"#B6E880\"},\"name\":\"other\",\"orientation\":\"h\",\"showlegend\":false,\"x\":[0.00219500106069494],\"y\":[\"H: PetBERT WE w=.75\"],\"type\":\"bar\"},{\"legendgroup\":\"other\",\"marker\":{\"color\":\"#B6E880\"},\"name\":\"other\",\"orientation\":\"h\",\"showlegend\":false,\"x\":[0.0029106144971666613],\"y\":[\"H: PetBERT WE w=.75\"],\"type\":\"bar\"},{\"legendgroup\":\"other\",\"marker\":{\"color\":\"#B6E880\"},\"name\":\"other\",\"orientation\":\"h\",\"showlegend\":false,\"x\":[0.004435832437972825],\"y\":[\"H: PetBERT WE w=.75\"],\"type\":\"bar\"},{\"legendgroup\":\"other\",\"marker\":{\"color\":\"#B6E880\"},\"name\":\"other\",\"orientation\":\"h\",\"showlegend\":false,\"x\":[0.007570668929174393],\"y\":[\"H: PetBERT WE w=.75\"],\"type\":\"bar\"},{\"legendgroup\":\"other\",\"marker\":{\"color\":\"#B6E880\"},\"name\":\"other\",\"orientation\":\"h\",\"showlegend\":false,\"x\":[0.002332640263286122],\"y\":[\"G: BERT WE w=.75\"],\"type\":\"bar\"},{\"legendgroup\":\"other\",\"marker\":{\"color\":\"#B6E880\"},\"name\":\"other\",\"orientation\":\"h\",\"showlegend\":false,\"x\":[0.01069147561084499],\"y\":[\"G: BERT WE w=.75\"],\"type\":\"bar\"},{\"legendgroup\":\"other\",\"marker\":{\"color\":\"#B6E880\"},\"name\":\"other\",\"orientation\":\"h\",\"showlegend\":false,\"x\":[0.01031381998955745],\"y\":[\"G: BERT WE w=.75\"],\"type\":\"bar\"},{\"legendgroup\":\"other\",\"marker\":{\"color\":\"#B6E880\"},\"name\":\"other\",\"orientation\":\"h\",\"showlegend\":false,\"x\":[0.004895406361373659],\"y\":[\"G: BERT WE w=.75\"],\"type\":\"bar\"},{\"legendgroup\":\"other\",\"marker\":{\"color\":\"#B6E880\"},\"name\":\"other\",\"orientation\":\"h\",\"showlegend\":false,\"x\":[0.004531899810304925],\"y\":[\"G: BERT WE w=.75\"],\"type\":\"bar\"},{\"legendgroup\":\"other\",\"marker\":{\"color\":\"#B6E880\"},\"name\":\"other\",\"orientation\":\"h\",\"showlegend\":false,\"x\":[0.0026830990563544866],\"y\":[\"G: BERT WE w=.75\"],\"type\":\"bar\"},{\"legendgroup\":\"other\",\"marker\":{\"color\":\"#B6E880\"},\"name\":\"other\",\"orientation\":\"h\",\"showlegend\":false,\"x\":[0.007895124681329612],\"y\":[\"G: BERT WE w=.75\"],\"type\":\"bar\"},{\"legendgroup\":\"other\",\"marker\":{\"color\":\"#B6E880\"},\"name\":\"other\",\"orientation\":\"h\",\"showlegend\":false,\"x\":[0.00569995779271384],\"y\":[\"G: BERT WE w=.75\"],\"type\":\"bar\"},{\"legendgroup\":\"other\",\"marker\":{\"color\":\"#B6E880\"},\"name\":\"other\",\"orientation\":\"h\",\"showlegend\":false,\"x\":[0.011663312967942369],\"y\":[\"G: BERT WE w=.75\"],\"type\":\"bar\"},{\"legendgroup\":\"other\",\"marker\":{\"color\":\"#B6E880\"},\"name\":\"other\",\"orientation\":\"h\",\"showlegend\":false,\"x\":[0.008948411601263383],\"y\":[\"G: BERT WE w=.75\"],\"type\":\"bar\"},{\"legendgroup\":\"other\",\"marker\":{\"color\":\"#B6E880\"},\"name\":\"other\",\"orientation\":\"h\",\"showlegend\":false,\"x\":[0.004946987110943979],\"y\":[\"G: BERT WE w=.75\"],\"type\":\"bar\"},{\"legendgroup\":\"other\",\"marker\":{\"color\":\"#B6E880\"},\"name\":\"other\",\"orientation\":\"h\",\"showlegend\":false,\"x\":[0.004946987110943979],\"y\":[\"G: BERT WE w=.75\"],\"type\":\"bar\"},{\"legendgroup\":\"other\",\"marker\":{\"color\":\"#B6E880\"},\"name\":\"other\",\"orientation\":\"h\",\"showlegend\":false,\"x\":[0.004946987110943979],\"y\":[\"G: BERT WE w=.75\"],\"type\":\"bar\"},{\"legendgroup\":\"other\",\"marker\":{\"color\":\"#B6E880\"},\"name\":\"other\",\"orientation\":\"h\",\"showlegend\":false,\"x\":[0.0057976613453819634],\"y\":[\"G: BERT WE w=.75\"],\"type\":\"bar\"},{\"legendgroup\":\"other\",\"marker\":{\"color\":\"#B6E880\"},\"name\":\"other\",\"orientation\":\"h\",\"showlegend\":false,\"x\":[0.011250873469585426],\"y\":[\"G: BERT WE w=.75\"],\"type\":\"bar\"},{\"legendgroup\":\"other\",\"marker\":{\"color\":\"#B6E880\"},\"name\":\"other\",\"orientation\":\"h\",\"showlegend\":false,\"x\":[0.0046751193086238246],\"y\":[\"G: BERT WE w=.75\"],\"type\":\"bar\"},{\"legendgroup\":\"other\",\"marker\":{\"color\":\"#B6E880\"},\"name\":\"other\",\"orientation\":\"h\",\"showlegend\":false,\"x\":[0.0039565809124943565],\"y\":[\"G: BERT WE w=.75\"],\"type\":\"bar\"},{\"legendgroup\":\"other\",\"marker\":{\"color\":\"#B6E880\"},\"name\":\"other\",\"orientation\":\"h\",\"showlegend\":false,\"x\":[0.0023854583880098686],\"y\":[\"G: BERT WE w=.75\"],\"type\":\"bar\"},{\"legendgroup\":\"other\",\"marker\":{\"color\":\"#B6E880\"},\"name\":\"other\",\"orientation\":\"h\",\"showlegend\":false,\"x\":[0.0023854583880098686],\"y\":[\"G: BERT WE w=.75\"],\"type\":\"bar\"},{\"legendgroup\":\"other\",\"marker\":{\"color\":\"#B6E880\"},\"name\":\"other\",\"orientation\":\"h\",\"showlegend\":false,\"x\":[0.0039565809124943565],\"y\":[\"G: BERT WE w=.75\"],\"type\":\"bar\"},{\"legendgroup\":\"other\",\"marker\":{\"color\":\"#B6E880\"},\"name\":\"other\",\"orientation\":\"h\",\"showlegend\":false,\"x\":[0.005825001523679599],\"y\":[\"G: BERT WE w=.75\"],\"type\":\"bar\"},{\"legendgroup\":\"other\",\"marker\":{\"color\":\"#B6E880\"},\"name\":\"other\",\"orientation\":\"h\",\"showlegend\":false,\"x\":[0.009167500083902498],\"y\":[\"G: BERT WE w=.75\"],\"type\":\"bar\"},{\"legendgroup\":\"other\",\"marker\":{\"color\":\"#B6E880\"},\"name\":\"other\",\"orientation\":\"h\",\"showlegend\":false,\"x\":[0.0038246568781185953],\"y\":[\"F: PetBERT WE w=.50\"],\"type\":\"bar\"},{\"legendgroup\":\"other\",\"marker\":{\"color\":\"#B6E880\"},\"name\":\"other\",\"orientation\":\"h\",\"showlegend\":false,\"x\":[0.020101575545563036],\"y\":[\"F: PetBERT WE w=.50\"],\"type\":\"bar\"},{\"legendgroup\":\"other\",\"marker\":{\"color\":\"#B6E880\"},\"name\":\"other\",\"orientation\":\"h\",\"showlegend\":false,\"x\":[0.01898936132152751],\"y\":[\"F: PetBERT WE w=.50\"],\"type\":\"bar\"},{\"legendgroup\":\"other\",\"marker\":{\"color\":\"#B6E880\"},\"name\":\"other\",\"orientation\":\"h\",\"showlegend\":false,\"x\":[0.007383907667492724],\"y\":[\"F: PetBERT WE w=.50\"],\"type\":\"bar\"},{\"legendgroup\":\"other\",\"marker\":{\"color\":\"#B6E880\"},\"name\":\"other\",\"orientation\":\"h\",\"showlegend\":false,\"x\":[0.00824216853395844],\"y\":[\"F: PetBERT WE w=.50\"],\"type\":\"bar\"},{\"legendgroup\":\"other\",\"marker\":{\"color\":\"#B6E880\"},\"name\":\"other\",\"orientation\":\"h\",\"showlegend\":false,\"x\":[0.0037977332722829537],\"y\":[\"F: PetBERT WE w=.50\"],\"type\":\"bar\"},{\"legendgroup\":\"other\",\"marker\":{\"color\":\"#B6E880\"},\"name\":\"other\",\"orientation\":\"h\",\"showlegend\":false,\"x\":[0.011557830021892314],\"y\":[\"F: PetBERT WE w=.50\"],\"type\":\"bar\"},{\"legendgroup\":\"other\",\"marker\":{\"color\":\"#B6E880\"},\"name\":\"other\",\"orientation\":\"h\",\"showlegend\":false,\"x\":[0.009689900101836537],\"y\":[\"F: PetBERT WE w=.50\"],\"type\":\"bar\"},{\"legendgroup\":\"other\",\"marker\":{\"color\":\"#B6E880\"},\"name\":\"other\",\"orientation\":\"h\",\"showlegend\":false,\"x\":[0.016000926195317653],\"y\":[\"F: PetBERT WE w=.50\"],\"type\":\"bar\"},{\"legendgroup\":\"other\",\"marker\":{\"color\":\"#B6E880\"},\"name\":\"other\",\"orientation\":\"h\",\"showlegend\":false,\"x\":[0.015398975751277489],\"y\":[\"F: PetBERT WE w=.50\"],\"type\":\"bar\"},{\"legendgroup\":\"other\",\"marker\":{\"color\":\"#B6E880\"},\"name\":\"other\",\"orientation\":\"h\",\"showlegend\":false,\"x\":[0.007887773384197837],\"y\":[\"F: PetBERT WE w=.50\"],\"type\":\"bar\"},{\"legendgroup\":\"other\",\"marker\":{\"color\":\"#B6E880\"},\"name\":\"other\",\"orientation\":\"h\",\"showlegend\":false,\"x\":[0.007887773384197837],\"y\":[\"F: PetBERT WE w=.50\"],\"type\":\"bar\"},{\"legendgroup\":\"other\",\"marker\":{\"color\":\"#B6E880\"},\"name\":\"other\",\"orientation\":\"h\",\"showlegend\":false,\"x\":[0.007887773384197837],\"y\":[\"F: PetBERT WE w=.50\"],\"type\":\"bar\"},{\"legendgroup\":\"other\",\"marker\":{\"color\":\"#B6E880\"},\"name\":\"other\",\"orientation\":\"h\",\"showlegend\":false,\"x\":[0.010219143179271993],\"y\":[\"F: PetBERT WE w=.50\"],\"type\":\"bar\"},{\"legendgroup\":\"other\",\"marker\":{\"color\":\"#B6E880\"},\"name\":\"other\",\"orientation\":\"h\",\"showlegend\":false,\"x\":[0.02372723312145691],\"y\":[\"F: PetBERT WE w=.50\"],\"type\":\"bar\"},{\"legendgroup\":\"other\",\"marker\":{\"color\":\"#B6E880\"},\"name\":\"other\",\"orientation\":\"h\",\"showlegend\":false,\"x\":[0.009811269552334904],\"y\":[\"F: PetBERT WE w=.50\"],\"type\":\"bar\"},{\"legendgroup\":\"other\",\"marker\":{\"color\":\"#B6E880\"},\"name\":\"other\",\"orientation\":\"h\",\"showlegend\":false,\"x\":[0.007045201442277072],\"y\":[\"F: PetBERT WE w=.50\"],\"type\":\"bar\"},{\"legendgroup\":\"other\",\"marker\":{\"color\":\"#B6E880\"},\"name\":\"other\",\"orientation\":\"h\",\"showlegend\":false,\"x\":[0.0029218581753476325],\"y\":[\"F: PetBERT WE w=.50\"],\"type\":\"bar\"},{\"legendgroup\":\"other\",\"marker\":{\"color\":\"#B6E880\"},\"name\":\"other\",\"orientation\":\"h\",\"showlegend\":false,\"x\":[0.0029218581753476325],\"y\":[\"F: PetBERT WE w=.50\"],\"type\":\"bar\"},{\"legendgroup\":\"other\",\"marker\":{\"color\":\"#B6E880\"},\"name\":\"other\",\"orientation\":\"h\",\"showlegend\":false,\"x\":[0.007147022476857348],\"y\":[\"F: PetBERT WE w=.50\"],\"type\":\"bar\"},{\"legendgroup\":\"other\",\"marker\":{\"color\":\"#B6E880\"},\"name\":\"other\",\"orientation\":\"h\",\"showlegend\":false,\"x\":[0.010320454277161294],\"y\":[\"F: PetBERT WE w=.50\"],\"type\":\"bar\"},{\"legendgroup\":\"other\",\"marker\":{\"color\":\"#B6E880\"},\"name\":\"other\",\"orientation\":\"h\",\"showlegend\":false,\"x\":[0.01649304138528335],\"y\":[\"F: PetBERT WE w=.50\"],\"type\":\"bar\"},{\"legendgroup\":\"other\",\"marker\":{\"color\":\"#B6E880\"},\"name\":\"other\",\"orientation\":\"h\",\"showlegend\":false,\"x\":[0.00446063130444188],\"y\":[\"E: BERT WE w=.50\"],\"type\":\"bar\"},{\"legendgroup\":\"other\",\"marker\":{\"color\":\"#B6E880\"},\"name\":\"other\",\"orientation\":\"h\",\"showlegend\":false,\"x\":[0.024339964318422867],\"y\":[\"E: BERT WE w=.50\"],\"type\":\"bar\"},{\"legendgroup\":\"other\",\"marker\":{\"color\":\"#B6E880\"},\"name\":\"other\",\"orientation\":\"h\",\"showlegend\":false,\"x\":[0.02662211021560981],\"y\":[\"E: BERT WE w=.50\"],\"type\":\"bar\"},{\"legendgroup\":\"other\",\"marker\":{\"color\":\"#B6E880\"},\"name\":\"other\",\"orientation\":\"h\",\"showlegend\":false,\"x\":[0.008534535905471496],\"y\":[\"E: BERT WE w=.50\"],\"type\":\"bar\"},{\"legendgroup\":\"other\",\"marker\":{\"color\":\"#B6E880\"},\"name\":\"other\",\"orientation\":\"h\",\"showlegend\":false,\"x\":[0.011115286172070504],\"y\":[\"E: BERT WE w=.50\"],\"type\":\"bar\"},{\"legendgroup\":\"other\",\"marker\":{\"color\":\"#B6E880\"},\"name\":\"other\",\"orientation\":\"h\",\"showlegend\":false,\"x\":[0.004279409437497047],\"y\":[\"E: BERT WE w=.50\"],\"type\":\"bar\"},{\"legendgroup\":\"other\",\"marker\":{\"color\":\"#B6E880\"},\"name\":\"other\",\"orientation\":\"h\",\"showlegend\":false,\"x\":[0.011697893000143143],\"y\":[\"E: BERT WE w=.50\"],\"type\":\"bar\"},{\"legendgroup\":\"other\",\"marker\":{\"color\":\"#B6E880\"},\"name\":\"other\",\"orientation\":\"h\",\"showlegend\":false,\"x\":[0.011707619386927874],\"y\":[\"E: BERT WE w=.50\"],\"type\":\"bar\"},{\"legendgroup\":\"other\",\"marker\":{\"color\":\"#B6E880\"},\"name\":\"other\",\"orientation\":\"h\",\"showlegend\":false,\"x\":[0.010963559004181682],\"y\":[\"E: BERT WE w=.50\"],\"type\":\"bar\"},{\"legendgroup\":\"other\",\"marker\":{\"color\":\"#B6E880\"},\"name\":\"other\",\"orientation\":\"h\",\"showlegend\":false,\"x\":[0.018998545244853095],\"y\":[\"E: BERT WE w=.50\"],\"type\":\"bar\"},{\"legendgroup\":\"other\",\"marker\":{\"color\":\"#B6E880\"},\"name\":\"other\",\"orientation\":\"h\",\"showlegend\":false,\"x\":[0.009779129450946571],\"y\":[\"E: BERT WE w=.50\"],\"type\":\"bar\"},{\"legendgroup\":\"other\",\"marker\":{\"color\":\"#B6E880\"},\"name\":\"other\",\"orientation\":\"h\",\"showlegend\":false,\"x\":[0.009774984153138508],\"y\":[\"E: BERT WE w=.50\"],\"type\":\"bar\"},{\"legendgroup\":\"other\",\"marker\":{\"color\":\"#B6E880\"},\"name\":\"other\",\"orientation\":\"h\",\"showlegend\":false,\"x\":[0.009779129450946571],\"y\":[\"E: BERT WE w=.50\"],\"type\":\"bar\"},{\"legendgroup\":\"other\",\"marker\":{\"color\":\"#B6E880\"},\"name\":\"other\",\"orientation\":\"h\",\"showlegend\":false,\"x\":[0.013100671485055195],\"y\":[\"E: BERT WE w=.50\"],\"type\":\"bar\"},{\"legendgroup\":\"other\",\"marker\":{\"color\":\"#B6E880\"},\"name\":\"other\",\"orientation\":\"h\",\"showlegend\":false,\"x\":[0.030625450975489663],\"y\":[\"E: BERT WE w=.50\"],\"type\":\"bar\"},{\"legendgroup\":\"other\",\"marker\":{\"color\":\"#B6E880\"},\"name\":\"other\",\"orientation\":\"h\",\"showlegend\":false,\"x\":[0.0140954026494056],\"y\":[\"E: BERT WE w=.50\"],\"type\":\"bar\"},{\"legendgroup\":\"other\",\"marker\":{\"color\":\"#B6E880\"},\"name\":\"other\",\"orientation\":\"h\",\"showlegend\":false,\"x\":[0.007914605618658394],\"y\":[\"E: BERT WE w=.50\"],\"type\":\"bar\"},{\"legendgroup\":\"other\",\"marker\":{\"color\":\"#B6E880\"},\"name\":\"other\",\"orientation\":\"h\",\"showlegend\":false,\"x\":[0.00226590936078228],\"y\":[\"E: BERT WE w=.50\"],\"type\":\"bar\"},{\"legendgroup\":\"other\",\"marker\":{\"color\":\"#B6E880\"},\"name\":\"other\",\"orientation\":\"h\",\"showlegend\":false,\"x\":[0.00226590936078228],\"y\":[\"E: BERT WE w=.50\"],\"type\":\"bar\"},{\"legendgroup\":\"other\",\"marker\":{\"color\":\"#B6E880\"},\"name\":\"other\",\"orientation\":\"h\",\"showlegend\":false,\"x\":[0.008671077304291376],\"y\":[\"E: BERT WE w=.50\"],\"type\":\"bar\"},{\"legendgroup\":\"other\",\"marker\":{\"color\":\"#B6E880\"},\"name\":\"other\",\"orientation\":\"h\",\"showlegend\":false,\"x\":[0.013149507035758849],\"y\":[\"E: BERT WE w=.50\"],\"type\":\"bar\"},{\"legendgroup\":\"other\",\"marker\":{\"color\":\"#B6E880\"},\"name\":\"other\",\"orientation\":\"h\",\"showlegend\":false,\"x\":[0.021214992047742572],\"y\":[\"E: BERT WE w=.50\"],\"type\":\"bar\"},{\"legendgroup\":\"other\",\"marker\":{\"color\":\"#B6E880\"},\"name\":\"other\",\"orientation\":\"h\",\"showlegend\":false,\"x\":[0.005734172885787068],\"y\":[\"D: PetBERT WE w=.25\"],\"type\":\"bar\"},{\"legendgroup\":\"other\",\"marker\":{\"color\":\"#B6E880\"},\"name\":\"other\",\"orientation\":\"h\",\"showlegend\":false,\"x\":[0.027845731756232863],\"y\":[\"D: PetBERT WE w=.25\"],\"type\":\"bar\"},{\"legendgroup\":\"other\",\"marker\":{\"color\":\"#B6E880\"},\"name\":\"other\",\"orientation\":\"h\",\"showlegend\":false,\"x\":[0.03774843750149348],\"y\":[\"D: PetBERT WE w=.25\"],\"type\":\"bar\"},{\"legendgroup\":\"other\",\"marker\":{\"color\":\"#B6E880\"},\"name\":\"other\",\"orientation\":\"h\",\"showlegend\":false,\"x\":[0.010046423048529138],\"y\":[\"D: PetBERT WE w=.25\"],\"type\":\"bar\"},{\"legendgroup\":\"other\",\"marker\":{\"color\":\"#B6E880\"},\"name\":\"other\",\"orientation\":\"h\",\"showlegend\":false,\"x\":[0.014927462125424782],\"y\":[\"D: PetBERT WE w=.25\"],\"type\":\"bar\"},{\"legendgroup\":\"other\",\"marker\":{\"color\":\"#B6E880\"},\"name\":\"other\",\"orientation\":\"h\",\"showlegend\":false,\"x\":[0.005412529162421475],\"y\":[\"D: PetBERT WE w=.25\"],\"type\":\"bar\"},{\"legendgroup\":\"other\",\"marker\":{\"color\":\"#B6E880\"},\"name\":\"other\",\"orientation\":\"h\",\"showlegend\":false,\"x\":[0.011094591519773152],\"y\":[\"D: PetBERT WE w=.25\"],\"type\":\"bar\"},{\"legendgroup\":\"other\",\"marker\":{\"color\":\"#B6E880\"},\"name\":\"other\",\"orientation\":\"h\",\"showlegend\":false,\"x\":[0.015325979839280161],\"y\":[\"D: PetBERT WE w=.25\"],\"type\":\"bar\"},{\"legendgroup\":\"other\",\"marker\":{\"color\":\"#B6E880\"},\"name\":\"other\",\"orientation\":\"h\",\"showlegend\":false,\"x\":[0.010373939440377858],\"y\":[\"D: PetBERT WE w=.25\"],\"type\":\"bar\"},{\"legendgroup\":\"other\",\"marker\":{\"color\":\"#B6E880\"},\"name\":\"other\",\"orientation\":\"h\",\"showlegend\":false,\"x\":[0.025829177947201062],\"y\":[\"D: PetBERT WE w=.25\"],\"type\":\"bar\"},{\"legendgroup\":\"other\",\"marker\":{\"color\":\"#B6E880\"},\"name\":\"other\",\"orientation\":\"h\",\"showlegend\":false,\"x\":[0.013227941538870093],\"y\":[\"D: PetBERT WE w=.25\"],\"type\":\"bar\"},{\"legendgroup\":\"other\",\"marker\":{\"color\":\"#B6E880\"},\"name\":\"other\",\"orientation\":\"h\",\"showlegend\":false,\"x\":[0.013211858938497564],\"y\":[\"D: PetBERT WE w=.25\"],\"type\":\"bar\"},{\"legendgroup\":\"other\",\"marker\":{\"color\":\"#B6E880\"},\"name\":\"other\",\"orientation\":\"h\",\"showlegend\":false,\"x\":[0.013227941538870093],\"y\":[\"D: PetBERT WE w=.25\"],\"type\":\"bar\"},{\"legendgroup\":\"other\",\"marker\":{\"color\":\"#B6E880\"},\"name\":\"other\",\"orientation\":\"h\",\"showlegend\":false,\"x\":[0.01853028091152557],\"y\":[\"D: PetBERT WE w=.25\"],\"type\":\"bar\"},{\"legendgroup\":\"other\",\"marker\":{\"color\":\"#B6E880\"},\"name\":\"other\",\"orientation\":\"h\",\"showlegend\":false,\"x\":[0.04892903208568533],\"y\":[\"D: PetBERT WE w=.25\"],\"type\":\"bar\"},{\"legendgroup\":\"other\",\"marker\":{\"color\":\"#B6E880\"},\"name\":\"other\",\"orientation\":\"h\",\"showlegend\":false,\"x\":[0.021362488268078194],\"y\":[\"D: PetBERT WE w=.25\"],\"type\":\"bar\"},{\"legendgroup\":\"other\",\"marker\":{\"color\":\"#B6E880\"},\"name\":\"other\",\"orientation\":\"h\",\"showlegend\":false,\"x\":[0.009359154762217268],\"y\":[\"D: PetBERT WE w=.25\"],\"type\":\"bar\"},{\"legendgroup\":\"other\",\"marker\":{\"color\":\"#B6E880\"},\"name\":\"other\",\"orientation\":\"h\",\"showlegend\":false,\"x\":[0.0020134397187065215],\"y\":[\"D: PetBERT WE w=.25\"],\"type\":\"bar\"},{\"legendgroup\":\"other\",\"marker\":{\"color\":\"#B6E880\"},\"name\":\"other\",\"orientation\":\"h\",\"showlegend\":false,\"x\":[0.0020134397187065215],\"y\":[\"D: PetBERT WE w=.25\"],\"type\":\"bar\"},{\"legendgroup\":\"other\",\"marker\":{\"color\":\"#B6E880\"},\"name\":\"other\",\"orientation\":\"h\",\"showlegend\":false,\"x\":[0.011107976604584907],\"y\":[\"D: PetBERT WE w=.25\"],\"type\":\"bar\"},{\"legendgroup\":\"other\",\"marker\":{\"color\":\"#B6E880\"},\"name\":\"other\",\"orientation\":\"h\",\"showlegend\":false,\"x\":[0.019126698555433114],\"y\":[\"D: PetBERT WE w=.25\"],\"type\":\"bar\"},{\"legendgroup\":\"other\",\"marker\":{\"color\":\"#B6E880\"},\"name\":\"other\",\"orientation\":\"h\",\"showlegend\":false,\"x\":[0.03332714728046022],\"y\":[\"D: PetBERT WE w=.25\"],\"type\":\"bar\"},{\"legendgroup\":\"other\",\"marker\":{\"color\":\"#B6E880\"},\"name\":\"other\",\"orientation\":\"h\",\"showlegend\":false,\"x\":[0.0061514642997922055],\"y\":[\"C: BERT WE w=.25\"],\"type\":\"bar\"},{\"legendgroup\":\"other\",\"marker\":{\"color\":\"#B6E880\"},\"name\":\"other\",\"orientation\":\"h\",\"showlegend\":false,\"x\":[0.027682702669407238],\"y\":[\"C: BERT WE w=.25\"],\"type\":\"bar\"},{\"legendgroup\":\"other\",\"marker\":{\"color\":\"#B6E880\"},\"name\":\"other\",\"orientation\":\"h\",\"showlegend\":false,\"x\":[0.0428724981166058],\"y\":[\"C: BERT WE w=.25\"],\"type\":\"bar\"},{\"legendgroup\":\"other\",\"marker\":{\"color\":\"#B6E880\"},\"name\":\"other\",\"orientation\":\"h\",\"showlegend\":false,\"x\":[0.009531574375811942],\"y\":[\"C: BERT WE w=.25\"],\"type\":\"bar\"},{\"legendgroup\":\"other\",\"marker\":{\"color\":\"#B6E880\"},\"name\":\"other\",\"orientation\":\"h\",\"showlegend\":false,\"x\":[0.016474414736434805],\"y\":[\"C: BERT WE w=.25\"],\"type\":\"bar\"},{\"legendgroup\":\"other\",\"marker\":{\"color\":\"#B6E880\"},\"name\":\"other\",\"orientation\":\"h\",\"showlegend\":false,\"x\":[0.005760355020551649],\"y\":[\"C: BERT WE w=.25\"],\"type\":\"bar\"},{\"legendgroup\":\"other\",\"marker\":{\"color\":\"#B6E880\"},\"name\":\"other\",\"orientation\":\"h\",\"showlegend\":false,\"x\":[0.008555756945804632],\"y\":[\"C: BERT WE w=.25\"],\"type\":\"bar\"},{\"legendgroup\":\"other\",\"marker\":{\"color\":\"#B6E880\"},\"name\":\"other\",\"orientation\":\"h\",\"showlegend\":false,\"x\":[0.015880429608046753],\"y\":[\"C: BERT WE w=.25\"],\"type\":\"bar\"},{\"legendgroup\":\"other\",\"marker\":{\"color\":\"#B6E880\"},\"name\":\"other\",\"orientation\":\"h\",\"showlegend\":false,\"x\":[0.00923805552516985],\"y\":[\"C: BERT WE w=.25\"],\"type\":\"bar\"},{\"legendgroup\":\"other\",\"marker\":{\"color\":\"#B6E880\"},\"name\":\"other\",\"orientation\":\"h\",\"showlegend\":false,\"x\":[0.028116636584523562],\"y\":[\"C: BERT WE w=.25\"],\"type\":\"bar\"},{\"legendgroup\":\"other\",\"marker\":{\"color\":\"#B6E880\"},\"name\":\"other\",\"orientation\":\"h\",\"showlegend\":false,\"x\":[0.014831906022272048],\"y\":[\"C: BERT WE w=.25\"],\"type\":\"bar\"},{\"legendgroup\":\"other\",\"marker\":{\"color\":\"#B6E880\"},\"name\":\"other\",\"orientation\":\"h\",\"showlegend\":false,\"x\":[0.014636211477061824],\"y\":[\"C: BERT WE w=.25\"],\"type\":\"bar\"},{\"legendgroup\":\"other\",\"marker\":{\"color\":\"#B6E880\"},\"name\":\"other\",\"orientation\":\"h\",\"showlegend\":false,\"x\":[0.014831906022272048],\"y\":[\"C: BERT WE w=.25\"],\"type\":\"bar\"},{\"legendgroup\":\"other\",\"marker\":{\"color\":\"#B6E880\"},\"name\":\"other\",\"orientation\":\"h\",\"showlegend\":false,\"x\":[0.021747439211354937],\"y\":[\"C: BERT WE w=.25\"],\"type\":\"bar\"},{\"legendgroup\":\"other\",\"marker\":{\"color\":\"#B6E880\"},\"name\":\"other\",\"orientation\":\"h\",\"showlegend\":false,\"x\":[0.05955526543889764],\"y\":[\"C: BERT WE w=.25\"],\"type\":\"bar\"},{\"legendgroup\":\"other\",\"marker\":{\"color\":\"#B6E880\"},\"name\":\"other\",\"orientation\":\"h\",\"showlegend\":false,\"x\":[0.024960748571973227],\"y\":[\"C: BERT WE w=.25\"],\"type\":\"bar\"},{\"legendgroup\":\"other\",\"marker\":{\"color\":\"#B6E880\"},\"name\":\"other\",\"orientation\":\"h\",\"showlegend\":false,\"x\":[0.009470939458203723],\"y\":[\"C: BERT WE w=.25\"],\"type\":\"bar\"},{\"legendgroup\":\"other\",\"marker\":{\"color\":\"#B6E880\"},\"name\":\"other\",\"orientation\":\"h\",\"showlegend\":false,\"x\":[0.0014678921883075327],\"y\":[\"C: BERT WE w=.25\"],\"type\":\"bar\"},{\"legendgroup\":\"other\",\"marker\":{\"color\":\"#B6E880\"},\"name\":\"other\",\"orientation\":\"h\",\"showlegend\":false,\"x\":[0.0014678921883075327],\"y\":[\"C: BERT WE w=.25\"],\"type\":\"bar\"},{\"legendgroup\":\"other\",\"marker\":{\"color\":\"#B6E880\"},\"name\":\"other\",\"orientation\":\"h\",\"showlegend\":false,\"x\":[0.01221931290328895],\"y\":[\"C: BERT WE w=.25\"],\"type\":\"bar\"},{\"legendgroup\":\"other\",\"marker\":{\"color\":\"#B6E880\"},\"name\":\"other\",\"orientation\":\"h\",\"showlegend\":false,\"x\":[0.02253107182200063],\"y\":[\"C: BERT WE w=.25\"],\"type\":\"bar\"},{\"legendgroup\":\"other\",\"marker\":{\"color\":\"#B6E880\"},\"name\":\"other\",\"orientation\":\"h\",\"showlegend\":false,\"x\":[0.0400656838955652],\"y\":[\"C: BERT WE w=.25\"],\"type\":\"bar\"},{\"legendgroup\":\"other\",\"marker\":{\"color\":\"#B6E880\"},\"name\":\"other\",\"orientation\":\"h\",\"showlegend\":false,\"x\":[0.0023292557101063354],\"y\":[\"B: PetBERT Stack\"],\"type\":\"bar\"},{\"legendgroup\":\"other\",\"marker\":{\"color\":\"#B6E880\"},\"name\":\"other\",\"orientation\":\"h\",\"showlegend\":false,\"x\":[0.012533533543066001],\"y\":[\"B: PetBERT Stack\"],\"type\":\"bar\"},{\"legendgroup\":\"other\",\"marker\":{\"color\":\"#B6E880\"},\"name\":\"other\",\"orientation\":\"h\",\"showlegend\":false,\"x\":[0.013992861890912311],\"y\":[\"B: PetBERT Stack\"],\"type\":\"bar\"},{\"legendgroup\":\"other\",\"marker\":{\"color\":\"#B6E880\"},\"name\":\"other\",\"orientation\":\"h\",\"showlegend\":false,\"x\":[0.00484998963265006],\"y\":[\"B: PetBERT Stack\"],\"type\":\"bar\"},{\"legendgroup\":\"other\",\"marker\":{\"color\":\"#B6E880\"},\"name\":\"other\",\"orientation\":\"h\",\"showlegend\":false,\"x\":[0.005431940901857066],\"y\":[\"B: PetBERT Stack\"],\"type\":\"bar\"},{\"legendgroup\":\"other\",\"marker\":{\"color\":\"#B6E880\"},\"name\":\"other\",\"orientation\":\"h\",\"showlegend\":false,\"x\":[0.0020074322419212504],\"y\":[\"B: PetBERT Stack\"],\"type\":\"bar\"},{\"legendgroup\":\"other\",\"marker\":{\"color\":\"#B6E880\"},\"name\":\"other\",\"orientation\":\"h\",\"showlegend\":false,\"x\":[0.0064173832748586086],\"y\":[\"B: PetBERT Stack\"],\"type\":\"bar\"},{\"legendgroup\":\"other\",\"marker\":{\"color\":\"#B6E880\"},\"name\":\"other\",\"orientation\":\"h\",\"showlegend\":false,\"x\":[0.006072969617713851],\"y\":[\"B: PetBERT Stack\"],\"type\":\"bar\"},{\"legendgroup\":\"other\",\"marker\":{\"color\":\"#B6E880\"},\"name\":\"other\",\"orientation\":\"h\",\"showlegend\":false,\"x\":[0.00812472220777364],\"y\":[\"B: PetBERT Stack\"],\"type\":\"bar\"},{\"legendgroup\":\"other\",\"marker\":{\"color\":\"#B6E880\"},\"name\":\"other\",\"orientation\":\"h\",\"showlegend\":false,\"x\":[0.011140270079627985],\"y\":[\"B: PetBERT Stack\"],\"type\":\"bar\"},{\"legendgroup\":\"other\",\"marker\":{\"color\":\"#B6E880\"},\"name\":\"other\",\"orientation\":\"h\",\"showlegend\":false,\"x\":[0.005574080755502495],\"y\":[\"B: PetBERT Stack\"],\"type\":\"bar\"},{\"legendgroup\":\"other\",\"marker\":{\"color\":\"#B6E880\"},\"name\":\"other\",\"orientation\":\"h\",\"showlegend\":false,\"x\":[0.005624898802066565],\"y\":[\"B: PetBERT Stack\"],\"type\":\"bar\"},{\"legendgroup\":\"other\",\"marker\":{\"color\":\"#B6E880\"},\"name\":\"other\",\"orientation\":\"h\",\"showlegend\":false,\"x\":[0.005581449946271338],\"y\":[\"B: PetBERT Stack\"],\"type\":\"bar\"},{\"legendgroup\":\"other\",\"marker\":{\"color\":\"#B6E880\"},\"name\":\"other\",\"orientation\":\"h\",\"showlegend\":false,\"x\":[0.00715461537222944],\"y\":[\"B: PetBERT Stack\"],\"type\":\"bar\"},{\"legendgroup\":\"other\",\"marker\":{\"color\":\"#B6E880\"},\"name\":\"other\",\"orientation\":\"h\",\"showlegend\":false,\"x\":[0.018673096277404218],\"y\":[\"B: PetBERT Stack\"],\"type\":\"bar\"},{\"legendgroup\":\"other\",\"marker\":{\"color\":\"#B6E880\"},\"name\":\"other\",\"orientation\":\"h\",\"showlegend\":false,\"x\":[0.006711180116716471],\"y\":[\"B: PetBERT Stack\"],\"type\":\"bar\"},{\"legendgroup\":\"other\",\"marker\":{\"color\":\"#B6E880\"},\"name\":\"other\",\"orientation\":\"h\",\"showlegend\":false,\"x\":[0.003840340197863545],\"y\":[\"B: PetBERT Stack\"],\"type\":\"bar\"},{\"legendgroup\":\"other\",\"marker\":{\"color\":\"#B6E880\"},\"name\":\"other\",\"orientation\":\"h\",\"showlegend\":false,\"x\":[0.0016882044264283239],\"y\":[\"B: PetBERT Stack\"],\"type\":\"bar\"},{\"legendgroup\":\"other\",\"marker\":{\"color\":\"#B6E880\"},\"name\":\"other\",\"orientation\":\"h\",\"showlegend\":false,\"x\":[0.0016882044264283239],\"y\":[\"B: PetBERT Stack\"],\"type\":\"bar\"},{\"legendgroup\":\"other\",\"marker\":{\"color\":\"#B6E880\"},\"name\":\"other\",\"orientation\":\"h\",\"showlegend\":false,\"x\":[0.0045512328012761215],\"y\":[\"B: PetBERT Stack\"],\"type\":\"bar\"},{\"legendgroup\":\"other\",\"marker\":{\"color\":\"#B6E880\"},\"name\":\"other\",\"orientation\":\"h\",\"showlegend\":false,\"x\":[0.007955255880798956],\"y\":[\"B: PetBERT Stack\"],\"type\":\"bar\"},{\"legendgroup\":\"other\",\"marker\":{\"color\":\"#B6E880\"},\"name\":\"other\",\"orientation\":\"h\",\"showlegend\":false,\"x\":[0.01644835543148186],\"y\":[\"B: PetBERT Stack\"],\"type\":\"bar\"},{\"legendgroup\":\"other\",\"marker\":{\"color\":\"#B6E880\"},\"name\":\"other\",\"orientation\":\"h\",\"showlegend\":false,\"x\":[0.0032706757454868986],\"y\":[\"A: BERT Stack\"],\"type\":\"bar\"},{\"legendgroup\":\"other\",\"marker\":{\"color\":\"#B6E880\"},\"name\":\"other\",\"orientation\":\"h\",\"showlegend\":false,\"x\":[0.020091670543146856],\"y\":[\"A: BERT Stack\"],\"type\":\"bar\"},{\"legendgroup\":\"other\",\"marker\":{\"color\":\"#B6E880\"},\"name\":\"other\",\"orientation\":\"h\",\"showlegend\":false,\"x\":[0.022186562390483243],\"y\":[\"A: BERT Stack\"],\"type\":\"bar\"},{\"legendgroup\":\"other\",\"marker\":{\"color\":\"#B6E880\"},\"name\":\"other\",\"orientation\":\"h\",\"showlegend\":false,\"x\":[0.006589201413657801],\"y\":[\"A: BERT Stack\"],\"type\":\"bar\"},{\"legendgroup\":\"other\",\"marker\":{\"color\":\"#B6E880\"},\"name\":\"other\",\"orientation\":\"h\",\"showlegend\":false,\"x\":[0.009328050933712324],\"y\":[\"A: BERT Stack\"],\"type\":\"bar\"},{\"legendgroup\":\"other\",\"marker\":{\"color\":\"#B6E880\"},\"name\":\"other\",\"orientation\":\"h\",\"showlegend\":false,\"x\":[0.002536512125407538],\"y\":[\"A: BERT Stack\"],\"type\":\"bar\"},{\"legendgroup\":\"other\",\"marker\":{\"color\":\"#B6E880\"},\"name\":\"other\",\"orientation\":\"h\",\"showlegend\":false,\"x\":[0.008202423444777557],\"y\":[\"A: BERT Stack\"],\"type\":\"bar\"},{\"legendgroup\":\"other\",\"marker\":{\"color\":\"#B6E880\"},\"name\":\"other\",\"orientation\":\"h\",\"showlegend\":false,\"x\":[0.009021360165272944],\"y\":[\"A: BERT Stack\"],\"type\":\"bar\"},{\"legendgroup\":\"other\",\"marker\":{\"color\":\"#B6E880\"},\"name\":\"other\",\"orientation\":\"h\",\"showlegend\":false,\"x\":[0.009960706604623237],\"y\":[\"A: BERT Stack\"],\"type\":\"bar\"},{\"legendgroup\":\"other\",\"marker\":{\"color\":\"#B6E880\"},\"name\":\"other\",\"orientation\":\"h\",\"showlegend\":false,\"x\":[0.01691630928350761],\"y\":[\"A: BERT Stack\"],\"type\":\"bar\"},{\"legendgroup\":\"other\",\"marker\":{\"color\":\"#B6E880\"},\"name\":\"other\",\"orientation\":\"h\",\"showlegend\":false,\"x\":[0.008042118347308343],\"y\":[\"A: BERT Stack\"],\"type\":\"bar\"},{\"legendgroup\":\"other\",\"marker\":{\"color\":\"#B6E880\"},\"name\":\"other\",\"orientation\":\"h\",\"showlegend\":false,\"x\":[0.007883030093066129],\"y\":[\"A: BERT Stack\"],\"type\":\"bar\"},{\"legendgroup\":\"other\",\"marker\":{\"color\":\"#B6E880\"},\"name\":\"other\",\"orientation\":\"h\",\"showlegend\":false,\"x\":[0.008039939808192577],\"y\":[\"A: BERT Stack\"],\"type\":\"bar\"},{\"legendgroup\":\"other\",\"marker\":{\"color\":\"#B6E880\"},\"name\":\"other\",\"orientation\":\"h\",\"showlegend\":false,\"x\":[0.010770113911529332],\"y\":[\"A: BERT Stack\"],\"type\":\"bar\"},{\"legendgroup\":\"other\",\"marker\":{\"color\":\"#B6E880\"},\"name\":\"other\",\"orientation\":\"h\",\"showlegend\":false,\"x\":[0.028773056666458685],\"y\":[\"A: BERT Stack\"],\"type\":\"bar\"},{\"legendgroup\":\"other\",\"marker\":{\"color\":\"#B6E880\"},\"name\":\"other\",\"orientation\":\"h\",\"showlegend\":false,\"x\":[0.012372772854832466],\"y\":[\"A: BERT Stack\"],\"type\":\"bar\"},{\"legendgroup\":\"other\",\"marker\":{\"color\":\"#B6E880\"},\"name\":\"other\",\"orientation\":\"h\",\"showlegend\":false,\"x\":[0.006358525938580287],\"y\":[\"A: BERT Stack\"],\"type\":\"bar\"},{\"legendgroup\":\"other\",\"marker\":{\"color\":\"#B6E880\"},\"name\":\"other\",\"orientation\":\"h\",\"showlegend\":false,\"x\":[0.0019527449706056052],\"y\":[\"A: BERT Stack\"],\"type\":\"bar\"},{\"legendgroup\":\"other\",\"marker\":{\"color\":\"#B6E880\"},\"name\":\"other\",\"orientation\":\"h\",\"showlegend\":false,\"x\":[0.0019527449706056052],\"y\":[\"A: BERT Stack\"],\"type\":\"bar\"},{\"legendgroup\":\"other\",\"marker\":{\"color\":\"#B6E880\"},\"name\":\"other\",\"orientation\":\"h\",\"showlegend\":false,\"x\":[0.007248894624101253],\"y\":[\"A: BERT Stack\"],\"type\":\"bar\"},{\"legendgroup\":\"other\",\"marker\":{\"color\":\"#B6E880\"},\"name\":\"other\",\"orientation\":\"h\",\"showlegend\":false,\"x\":[0.011625632766179509],\"y\":[\"A: BERT Stack\"],\"type\":\"bar\"},{\"legendgroup\":\"other\",\"marker\":{\"color\":\"#B6E880\"},\"name\":\"other\",\"orientation\":\"h\",\"showlegend\":false,\"x\":[0.02605959951620841],\"y\":[\"A: BERT Stack\"],\"type\":\"bar\"}],                        {\"template\":{\"data\":{\"histogram2dcontour\":[{\"type\":\"histogram2dcontour\",\"colorbar\":{\"outlinewidth\":0,\"ticks\":\"\"},\"colorscale\":[[0.0,\"#0d0887\"],[0.1111111111111111,\"#46039f\"],[0.2222222222222222,\"#7201a8\"],[0.3333333333333333,\"#9c179e\"],[0.4444444444444444,\"#bd3786\"],[0.5555555555555556,\"#d8576b\"],[0.6666666666666666,\"#ed7953\"],[0.7777777777777778,\"#fb9f3a\"],[0.8888888888888888,\"#fdca26\"],[1.0,\"#f0f921\"]]}],\"choropleth\":[{\"type\":\"choropleth\",\"colorbar\":{\"outlinewidth\":0,\"ticks\":\"\"}}],\"histogram2d\":[{\"type\":\"histogram2d\",\"colorbar\":{\"outlinewidth\":0,\"ticks\":\"\"},\"colorscale\":[[0.0,\"#0d0887\"],[0.1111111111111111,\"#46039f\"],[0.2222222222222222,\"#7201a8\"],[0.3333333333333333,\"#9c179e\"],[0.4444444444444444,\"#bd3786\"],[0.5555555555555556,\"#d8576b\"],[0.6666666666666666,\"#ed7953\"],[0.7777777777777778,\"#fb9f3a\"],[0.8888888888888888,\"#fdca26\"],[1.0,\"#f0f921\"]]}],\"heatmap\":[{\"type\":\"heatmap\",\"colorbar\":{\"outlinewidth\":0,\"ticks\":\"\"},\"colorscale\":[[0.0,\"#0d0887\"],[0.1111111111111111,\"#46039f\"],[0.2222222222222222,\"#7201a8\"],[0.3333333333333333,\"#9c179e\"],[0.4444444444444444,\"#bd3786\"],[0.5555555555555556,\"#d8576b\"],[0.6666666666666666,\"#ed7953\"],[0.7777777777777778,\"#fb9f3a\"],[0.8888888888888888,\"#fdca26\"],[1.0,\"#f0f921\"]]}],\"heatmapgl\":[{\"type\":\"heatmapgl\",\"colorbar\":{\"outlinewidth\":0,\"ticks\":\"\"},\"colorscale\":[[0.0,\"#0d0887\"],[0.1111111111111111,\"#46039f\"],[0.2222222222222222,\"#7201a8\"],[0.3333333333333333,\"#9c179e\"],[0.4444444444444444,\"#bd3786\"],[0.5555555555555556,\"#d8576b\"],[0.6666666666666666,\"#ed7953\"],[0.7777777777777778,\"#fb9f3a\"],[0.8888888888888888,\"#fdca26\"],[1.0,\"#f0f921\"]]}],\"contourcarpet\":[{\"type\":\"contourcarpet\",\"colorbar\":{\"outlinewidth\":0,\"ticks\":\"\"}}],\"contour\":[{\"type\":\"contour\",\"colorbar\":{\"outlinewidth\":0,\"ticks\":\"\"},\"colorscale\":[[0.0,\"#0d0887\"],[0.1111111111111111,\"#46039f\"],[0.2222222222222222,\"#7201a8\"],[0.3333333333333333,\"#9c179e\"],[0.4444444444444444,\"#bd3786\"],[0.5555555555555556,\"#d8576b\"],[0.6666666666666666,\"#ed7953\"],[0.7777777777777778,\"#fb9f3a\"],[0.8888888888888888,\"#fdca26\"],[1.0,\"#f0f921\"]]}],\"surface\":[{\"type\":\"surface\",\"colorbar\":{\"outlinewidth\":0,\"ticks\":\"\"},\"colorscale\":[[0.0,\"#0d0887\"],[0.1111111111111111,\"#46039f\"],[0.2222222222222222,\"#7201a8\"],[0.3333333333333333,\"#9c179e\"],[0.4444444444444444,\"#bd3786\"],[0.5555555555555556,\"#d8576b\"],[0.6666666666666666,\"#ed7953\"],[0.7777777777777778,\"#fb9f3a\"],[0.8888888888888888,\"#fdca26\"],[1.0,\"#f0f921\"]]}],\"mesh3d\":[{\"type\":\"mesh3d\",\"colorbar\":{\"outlinewidth\":0,\"ticks\":\"\"}}],\"scatter\":[{\"fillpattern\":{\"fillmode\":\"overlay\",\"size\":10,\"solidity\":0.2},\"type\":\"scatter\"}],\"parcoords\":[{\"type\":\"parcoords\",\"line\":{\"colorbar\":{\"outlinewidth\":0,\"ticks\":\"\"}}}],\"scatterpolargl\":[{\"type\":\"scatterpolargl\",\"marker\":{\"colorbar\":{\"outlinewidth\":0,\"ticks\":\"\"}}}],\"bar\":[{\"error_x\":{\"color\":\"#2a3f5f\"},\"error_y\":{\"color\":\"#2a3f5f\"},\"marker\":{\"line\":{\"color\":\"#E5ECF6\",\"width\":0.5},\"pattern\":{\"fillmode\":\"overlay\",\"size\":10,\"solidity\":0.2}},\"type\":\"bar\"}],\"scattergeo\":[{\"type\":\"scattergeo\",\"marker\":{\"colorbar\":{\"outlinewidth\":0,\"ticks\":\"\"}}}],\"scatterpolar\":[{\"type\":\"scatterpolar\",\"marker\":{\"colorbar\":{\"outlinewidth\":0,\"ticks\":\"\"}}}],\"histogram\":[{\"marker\":{\"pattern\":{\"fillmode\":\"overlay\",\"size\":10,\"solidity\":0.2}},\"type\":\"histogram\"}],\"scattergl\":[{\"type\":\"scattergl\",\"marker\":{\"colorbar\":{\"outlinewidth\":0,\"ticks\":\"\"}}}],\"scatter3d\":[{\"type\":\"scatter3d\",\"line\":{\"colorbar\":{\"outlinewidth\":0,\"ticks\":\"\"}},\"marker\":{\"colorbar\":{\"outlinewidth\":0,\"ticks\":\"\"}}}],\"scattermapbox\":[{\"type\":\"scattermapbox\",\"marker\":{\"colorbar\":{\"outlinewidth\":0,\"ticks\":\"\"}}}],\"scatterternary\":[{\"type\":\"scatterternary\",\"marker\":{\"colorbar\":{\"outlinewidth\":0,\"ticks\":\"\"}}}],\"scattercarpet\":[{\"type\":\"scattercarpet\",\"marker\":{\"colorbar\":{\"outlinewidth\":0,\"ticks\":\"\"}}}],\"carpet\":[{\"aaxis\":{\"endlinecolor\":\"#2a3f5f\",\"gridcolor\":\"white\",\"linecolor\":\"white\",\"minorgridcolor\":\"white\",\"startlinecolor\":\"#2a3f5f\"},\"baxis\":{\"endlinecolor\":\"#2a3f5f\",\"gridcolor\":\"white\",\"linecolor\":\"white\",\"minorgridcolor\":\"white\",\"startlinecolor\":\"#2a3f5f\"},\"type\":\"carpet\"}],\"table\":[{\"cells\":{\"fill\":{\"color\":\"#EBF0F8\"},\"line\":{\"color\":\"white\"}},\"header\":{\"fill\":{\"color\":\"#C8D4E3\"},\"line\":{\"color\":\"white\"}},\"type\":\"table\"}],\"barpolar\":[{\"marker\":{\"line\":{\"color\":\"#E5ECF6\",\"width\":0.5},\"pattern\":{\"fillmode\":\"overlay\",\"size\":10,\"solidity\":0.2}},\"type\":\"barpolar\"}],\"pie\":[{\"automargin\":true,\"type\":\"pie\"}]},\"layout\":{\"autotypenumbers\":\"strict\",\"colorway\":[\"#636efa\",\"#EF553B\",\"#00cc96\",\"#ab63fa\",\"#FFA15A\",\"#19d3f3\",\"#FF6692\",\"#B6E880\",\"#FF97FF\",\"#FECB52\"],\"font\":{\"color\":\"#2a3f5f\"},\"hovermode\":\"closest\",\"hoverlabel\":{\"align\":\"left\"},\"paper_bgcolor\":\"white\",\"plot_bgcolor\":\"#E5ECF6\",\"polar\":{\"bgcolor\":\"#E5ECF6\",\"angularaxis\":{\"gridcolor\":\"white\",\"linecolor\":\"white\",\"ticks\":\"\"},\"radialaxis\":{\"gridcolor\":\"white\",\"linecolor\":\"white\",\"ticks\":\"\"}},\"ternary\":{\"bgcolor\":\"#E5ECF6\",\"aaxis\":{\"gridcolor\":\"white\",\"linecolor\":\"white\",\"ticks\":\"\"},\"baxis\":{\"gridcolor\":\"white\",\"linecolor\":\"white\",\"ticks\":\"\"},\"caxis\":{\"gridcolor\":\"white\",\"linecolor\":\"white\",\"ticks\":\"\"}},\"coloraxis\":{\"colorbar\":{\"outlinewidth\":0,\"ticks\":\"\"}},\"colorscale\":{\"sequential\":[[0.0,\"#0d0887\"],[0.1111111111111111,\"#46039f\"],[0.2222222222222222,\"#7201a8\"],[0.3333333333333333,\"#9c179e\"],[0.4444444444444444,\"#bd3786\"],[0.5555555555555556,\"#d8576b\"],[0.6666666666666666,\"#ed7953\"],[0.7777777777777778,\"#fb9f3a\"],[0.8888888888888888,\"#fdca26\"],[1.0,\"#f0f921\"]],\"sequentialminus\":[[0.0,\"#0d0887\"],[0.1111111111111111,\"#46039f\"],[0.2222222222222222,\"#7201a8\"],[0.3333333333333333,\"#9c179e\"],[0.4444444444444444,\"#bd3786\"],[0.5555555555555556,\"#d8576b\"],[0.6666666666666666,\"#ed7953\"],[0.7777777777777778,\"#fb9f3a\"],[0.8888888888888888,\"#fdca26\"],[1.0,\"#f0f921\"]],\"diverging\":[[0,\"#8e0152\"],[0.1,\"#c51b7d\"],[0.2,\"#de77ae\"],[0.3,\"#f1b6da\"],[0.4,\"#fde0ef\"],[0.5,\"#f7f7f7\"],[0.6,\"#e6f5d0\"],[0.7,\"#b8e186\"],[0.8,\"#7fbc41\"],[0.9,\"#4d9221\"],[1,\"#276419\"]]},\"xaxis\":{\"gridcolor\":\"white\",\"linecolor\":\"white\",\"ticks\":\"\",\"title\":{\"standoff\":15},\"zerolinecolor\":\"white\",\"automargin\":true,\"zerolinewidth\":2},\"yaxis\":{\"gridcolor\":\"white\",\"linecolor\":\"white\",\"ticks\":\"\",\"title\":{\"standoff\":15},\"zerolinecolor\":\"white\",\"automargin\":true,\"zerolinewidth\":2},\"scene\":{\"xaxis\":{\"backgroundcolor\":\"#E5ECF6\",\"gridcolor\":\"white\",\"linecolor\":\"white\",\"showbackground\":true,\"ticks\":\"\",\"zerolinecolor\":\"white\",\"gridwidth\":2},\"yaxis\":{\"backgroundcolor\":\"#E5ECF6\",\"gridcolor\":\"white\",\"linecolor\":\"white\",\"showbackground\":true,\"ticks\":\"\",\"zerolinecolor\":\"white\",\"gridwidth\":2},\"zaxis\":{\"backgroundcolor\":\"#E5ECF6\",\"gridcolor\":\"white\",\"linecolor\":\"white\",\"showbackground\":true,\"ticks\":\"\",\"zerolinecolor\":\"white\",\"gridwidth\":2}},\"shapedefaults\":{\"line\":{\"color\":\"#2a3f5f\"}},\"annotationdefaults\":{\"arrowcolor\":\"#2a3f5f\",\"arrowhead\":0,\"arrowwidth\":1},\"geo\":{\"bgcolor\":\"white\",\"landcolor\":\"#E5ECF6\",\"subunitcolor\":\"white\",\"showland\":true,\"showlakes\":true,\"lakecolor\":\"white\"},\"title\":{\"x\":0.05},\"mapbox\":{\"style\":\"light\"}}},\"barmode\":\"stack\",\"hovermode\":\"y unified\"},                        {\"responsive\": true}                    ).then(function(){\n",
       "                            \n",
       "var gd = document.getElementById('ecbcdb75-c383-4942-991b-3c55b27580c2');\n",
       "var x = new MutationObserver(function (mutations, observer) {{\n",
       "        var display = window.getComputedStyle(gd).display;\n",
       "        if (!display || display === 'none') {{\n",
       "            console.log([gd, 'removed!']);\n",
       "            Plotly.purge(gd);\n",
       "            observer.disconnect();\n",
       "        }}\n",
       "}});\n",
       "\n",
       "// Listen for the removal of the full notebook cells\n",
       "var notebookContainer = gd.closest('#notebook-container');\n",
       "if (notebookContainer) {{\n",
       "    x.observe(notebookContainer, {childList: true});\n",
       "}}\n",
       "\n",
       "// Listen for the clearing of the current output cell\n",
       "var outputEl = gd.closest('.output');\n",
       "if (outputEl) {{\n",
       "    x.observe(outputEl, {childList: true});\n",
       "}}\n",
       "\n",
       "                        })                };                });            </script>        </div>"
      ]
     },
     "metadata": {},
     "output_type": "display_data"
    }
   ],
   "source": [
    "configs = [\n",
    "    \"vet_50c_all_text\",\n",
    "    \"vet_59c_ensemble_25\",\n",
    "    \"vet_59c_ensemble_50\",\n",
    "    \"vet_59c_ensemble_75\",\n",
    "    \"vet_59c_stack\",\n",
    "    \"vet_10c_all_text\",\n",
    "    \"vet_19c_ensemble_25\",\n",
    "    \"vet_19c_ensemble_50\",\n",
    "    \"vet_19c_ensemble_75\",\n",
    "    \"vet_19c_stack\",\n",
    "]\n",
    "configs = [\n",
    "    \"vet_59c_stack\",\n",
    "    \"vet_19c_stack\",\n",
    "    \"vet_59c_ensemble_25\",\n",
    "    \"vet_19c_ensemble_25\",\n",
    "    \"vet_59c_ensemble_50\",\n",
    "    \"vet_19c_ensemble_50\",\n",
    "    \"vet_59c_ensemble_75\",\n",
    "    \"vet_19c_ensemble_75\",\n",
    "    \"vet_50c_all_text\",\n",
    "    \"vet_10c_all_text\",\n",
    "]\n",
    "\n",
    "configs = [\n",
    "    \"vet_19c_stack\",\n",
    "    \"vet_59c_stack\",\n",
    "    \"vet_19c_ensemble_25\",\n",
    "    \"vet_59c_ensemble_25\",\n",
    "    \"vet_19c_ensemble_50\",\n",
    "    \"vet_59c_ensemble_50\",\n",
    "    \"vet_19c_ensemble_75\",\n",
    "    \"vet_59c_ensemble_75\",\n",
    "    \"vet_10c_2_all_text\",\n",
    "    \"vet_50c_all_text\",\n",
    "]\n",
    "\n",
    "c2c_dict = {\n",
    "    \"vet_59c_stack\": \"A: PetBERT Stack\",\n",
    "    \"vet_19c_stack\": \"B: BERT Stack\",\n",
    "    \"vet_59c_ensemble_25\": \"C: PetBERT WE w=.25\",\n",
    "    \"vet_19c_ensemble_25\": \"D: BERT WE w=.25\",\n",
    "    \"vet_59c_ensemble_50\": \"E: PetBERT WE w=.50\",\n",
    "    \"vet_19c_ensemble_50\": \"F: BERT WE w=.50\",\n",
    "    \"vet_59c_ensemble_75\": \"G: PetBERT WE w=.75\",\n",
    "    \"vet_19c_ensemble_75\": \"H: BERT WE w=.75\",\n",
    "    \"vet_50c_all_text\": \"I: PetBERT All Text\",\n",
    "    \"vet_10c_all_text\": \"J: BERT All Text\",\n",
    "    \"vet_10c_2_all_text\": \"J: BERT All Text 2\",\n",
    "}\n",
    "\n",
    "configs = [\n",
    "    \"vet_19c_stack\",\n",
    "    \"vet_59c_stack\",\n",
    "    \"vet_19c_ensemble_25\",\n",
    "    \"vet_59c_ensemble_25\",\n",
    "    \"vet_19c_ensemble_50\",\n",
    "    \"vet_59c_ensemble_50\",\n",
    "    \"vet_19c_ensemble_75\",\n",
    "    \"vet_59c_ensemble_75\",\n",
    "    # \"vet_10c_all_text\",\n",
    "    \"vet_10c_2_all_text\",\n",
    "    \"vet_50c_all_text\",\n",
    "]\n",
    "\n",
    "c2c_dict = {\n",
    "    \"vet_19c_stack\": \"A: BERT Stack\",\n",
    "    \"vet_59c_stack\": \"B: PetBERT Stack\",\n",
    "    \"vet_19c_ensemble_25\": \"C: BERT WE w=.25\",\n",
    "    \"vet_59c_ensemble_25\": \"D: PetBERT WE w=.25\",\n",
    "    \"vet_19c_ensemble_50\": \"E: BERT WE w=.50\",\n",
    "    \"vet_59c_ensemble_50\": \"F: PetBERT WE w=.50\",\n",
    "    \"vet_19c_ensemble_75\": \"G: BERT WE w=.75\",\n",
    "    \"vet_59c_ensemble_75\": \"H: PetBERT WE w=.75\",\n",
    "    \"vet_50c_all_text\": \"I: PetBERT All Text\",\n",
    "    \"vet_10c_all_text\": \"J: BERT All Text\",\n",
    "}\n",
    "\n",
    "\n",
    "val_dict = {}\n",
    "for config in configs:\n",
    "    with open(f\"../models/shap_vals/summed_{config}.pkl\", \"rb\") as f:\n",
    "        grouped_shap_vals = pickle.load(f)\n",
    "    val_dict[config] = (\n",
    "        abs(grouped_shap_vals).sum(axis=0).mean(axis=0)\n",
    "        / abs(grouped_shap_vals).sum(axis=0).mean(axis=0).sum()\n",
    "    )\n",
    "df1 = pd.DataFrame(columns=[\"config\", \"col\", \"val\", \"total\"])\n",
    "for idx, config in enumerate(configs):\n",
    "    vals = val_dict[config]\n",
    "    args = ConfigLoader(\n",
    "        config, \"../configs/shap_configs.yaml\", \"../configs/dataset_default.yaml\"\n",
    "    )\n",
    "    cols = args.categorical_cols + args.numerical_cols + args.text_cols\n",
    "    for i, col in enumerate(cols):\n",
    "        df1 = pd.concat(\n",
    "            [\n",
    "                df1,\n",
    "                pd.DataFrame(\n",
    "                    [\n",
    "                        {\n",
    "                            \"config\": c2c_dict[config],\n",
    "                            \"col\": col,\n",
    "                            \"val\": vals[i],\n",
    "                            \"total\": 1,\n",
    "                        }\n",
    "                    ]\n",
    "                ),\n",
    "            ],\n",
    "            ignore_index=True,\n",
    "        )\n",
    "\n",
    "\n",
    "# country_index = col_index\n",
    "# year = config\n",
    "# country = col\n",
    "# pop = val\n",
    "# cols_to_use = set(df1[df1[\"val\"] > 0.05]['col'].values)\n",
    "cols_to_use = (\n",
    "    df1.groupby(\"col\")[\"val\"]\n",
    "    .sum()\n",
    "    .reset_index()\n",
    "    .sort_values(\"val\", ascending=False)[\"col\"]\n",
    "    .values[:6]\n",
    ")\n",
    "# if col not in cols_to_use: set col = 'other'\n",
    "df1.loc[~df1[\"col\"].isin(cols_to_use), \"col\"] = \"other\"\n",
    "# cols_to_use.add('other')\n",
    "# cols_to_use = list(cols_to_use)\n",
    "cols_to_use = list(cols_to_use) + [\"other\"]\n",
    "# df1 = df1.sort_values([\"val\"], ignore_index=True, ascending=False)\n",
    "# df1 = df1.sort_values([\"config\"], key=lambda x: x.map(dict(zip(configs, range(len(configs))))), ignore_index=False, ascending=True)\n",
    "# make col index based on cols_to_use\n",
    "df1[\"col_index\"] = df1[\"col\"].apply(lambda x: cols_to_use.index(x))\n",
    "# if col == 'other': set col_index = max(col_index) + 1\n",
    "df1.loc[df1[\"col\"] == \"other\", \"col_index\"] = df1[\"col_index\"].max() + 1\n",
    "# df1 = df1.sort_values([\"config\"], ignore_index=True, ascending=True)\n",
    "# df1 = df1.sort_values([\"col_index\"], ignore_index=True, ascending=True)\n",
    "\n",
    "\n",
    "# custom_order = dict(zip(range(len(cols_to_use)),configs ))\n",
    "# df1 = df1.sort_values(by=[\"col_index\", \"config\"], ignore_index=True, ascending=[True, True], key=lambda x: x.map(custom_order))\n",
    "\n",
    "\n",
    "# # custom_order = dict(zip(configs, range(len(configs)) ))\n",
    "# # df1 = df1.sort_values(by=[\"config\", \"col_index\" ], ignore_index=False, ascending=[True, True], key=lambda x: x.map(custom_order))\n",
    "# # df1 =\n",
    "# # # df1 = df1.sort_values(by=[\"col_index\", \"config\"], ignore_index=True, ascending=[True, True], key=lambda x: x.map(custom_order))\n",
    "\n",
    "df1 = df1.sort_values(\n",
    "    [\"col_index\", \"config\"], ignore_index=True, ascending=[True, False]\n",
    ")\n",
    "#\n",
    "# colors = px.colors.qualitative.Set3[:len(cols)]\n",
    "\n",
    "\n",
    "df1[\"showlegend\"] = df1.groupby(\"col\")[\"config\"].cumcount() == 0\n",
    "# + px.colors.qualitative.Pastel + px.colors.qualitative.Bold + px.colors.qualitative.Light24\n",
    "colors = px.colors.qualitative.Plotly\n",
    "\n",
    "fig = go.Figure()\n",
    "for index, row in df1.iterrows():\n",
    "    fig.add_trace(\n",
    "        go.Bar(\n",
    "            y=[row[\"config\"]],\n",
    "            # y=[1],\n",
    "            x=[row[\"val\"]],\n",
    "            # customdata=[row[\"gdpPercap\"]],\n",
    "            # hovertemplate=\"%{x:2f}, GDP per capita: %{customdata:2f}\",\n",
    "            marker=dict(color=colors[row[\"col_index\"]]),\n",
    "            name=row[\"col\"],\n",
    "            legendgroup=row[\"col\"],\n",
    "            showlegend=row[\"showlegend\"],\n",
    "            orientation=\"h\",\n",
    "        )\n",
    "    )\n",
    "\n",
    "fig.update_layout(barmode=\"stack\", hovermode=\"y unified\")"
   ]
  },
  {
   "cell_type": "code",
   "execution_count": 6,
   "metadata": {},
   "outputs": [
    {
     "data": {
      "text/plain": [
       "0.0005154414868679021"
      ]
     },
     "execution_count": 6,
     "metadata": {},
     "output_type": "execute_result"
    }
   ],
   "source": [
    "sum(val_dict[\"vet_10c_all_text\"][:3])"
   ]
  },
  {
   "cell_type": "code",
   "execution_count": null,
   "metadata": {},
   "outputs": [],
   "source": []
  }
 ],
 "metadata": {
  "kernelspec": {
   "display_name": "env",
   "language": "python",
   "name": "python3"
  },
  "language_info": {
   "codemirror_mode": {
    "name": "ipython",
    "version": 3
   },
   "file_extension": ".py",
   "mimetype": "text/x-python",
   "name": "python",
   "nbconvert_exporter": "python",
   "pygments_lexer": "ipython3",
   "version": "3.10.12"
  },
  "orig_nbformat": 4
 },
 "nbformat": 4,
 "nbformat_minor": 2
}
